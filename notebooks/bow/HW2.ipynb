{
 "cells": [
  {
   "cell_type": "markdown",
   "id": "f3705663",
   "metadata": {},
   "source": [
    "# Домашнее задание № 2. Мешок слов"
   ]
  },
  {
   "cell_type": "markdown",
   "id": "0cf72d19",
   "metadata": {},
   "source": [
    "## Задание 1 (3 балла)"
   ]
  },
  {
   "cell_type": "markdown",
   "id": "4a045e99",
   "metadata": {},
   "source": [
    "У векторайзеров в sklearn есть встроенная токенизация на регулярных выражениях. Найдите способ заменить её на кастомную токенизацию"
   ]
  },
  {
   "cell_type": "markdown",
   "id": "90b4d453",
   "metadata": {},
   "source": [
    "Обучите векторайзер с дефолтной токенизацией и с токенизацией razdel.tokenize. Обучите классификатор с каждым из векторизаторов. Сравните метрики и выберете победителя. \n",
    "\n",
    "(в вашей тетрадке должен быть код обучения и все метрики; если вы сдаете в .py файлах то сохраните полученные метрики в отдельном файле или в комментариях)"
   ]
  },
  {
   "cell_type": "code",
   "execution_count": 39,
   "id": "129c4d2e",
   "metadata": {},
   "outputs": [
    {
     "name": "stdout",
     "output_type": "stream",
     "text": [
      "              precision    recall  f1-score   support\n",
      "\n",
      "         0.0       0.88      0.83      0.85       991\n",
      "         1.0       0.67      0.75      0.70       451\n",
      "\n",
      "    accuracy                           0.80      1442\n",
      "   macro avg       0.77      0.79      0.78      1442\n",
      "weighted avg       0.81      0.80      0.81      1442\n",
      "\n"
     ]
    }
   ],
   "source": [
    "# работа sklearn с дефолтной токенизацией:\n",
    "\n",
    "import pandas as pd\n",
    "from sklearn.feature_extraction.text import CountVectorizer, TfidfVectorizer\n",
    "from sklearn.linear_model import LogisticRegression\n",
    "from sklearn.tree import DecisionTreeClassifier\n",
    "from sklearn.neighbors import KNeighborsClassifier\n",
    "from sklearn.naive_bayes import MultinomialNB\n",
    "from sklearn.ensemble import RandomForestClassifier\n",
    "from sklearn.model_selection import train_test_split\n",
    "from sklearn.metrics import classification_report, accuracy_score\n",
    "from sklearn.metrics.pairwise import cosine_distances, cosine_similarity\n",
    "\n",
    "from IPython.display import Image\n",
    "from IPython.core.display import HTML\n",
    "\n",
    "data = pd.read_csv('labeled.csv')\n",
    "train, test = train_test_split(data, test_size=0.1, shuffle=True)\n",
    "train.reset_index(inplace=True)\n",
    "test.reset_index(inplace=True)\n",
    "vectorizer = CountVectorizer()\n",
    "X = vectorizer.fit_transform(train.comment)\n",
    "vectorizer = TfidfVectorizer(min_df=10, max_df=0.3)\n",
    "X = vectorizer.fit_transform(train.comment)\n",
    "X_test = vectorizer.transform(test.comment)\n",
    "y = train.toxic.values\n",
    "y_test = test.toxic.values\n",
    "clf = LogisticRegression(C=0.1, class_weight='balanced')\n",
    "clf.fit(X, y)\n",
    "clf.classes_\n",
    "preds = clf.predict(X_test)\n",
    "print(classification_report(y_test, preds, zero_division=0))"
   ]
  },
  {
   "cell_type": "code",
   "execution_count": 40,
   "id": "ce7dfd14",
   "metadata": {},
   "outputs": [
    {
     "name": "stdout",
     "output_type": "stream",
     "text": [
      "              precision    recall  f1-score   support\n",
      "\n",
      "         0.0       0.91      0.84      0.87       991\n",
      "         1.0       0.70      0.82      0.75       451\n",
      "\n",
      "    accuracy                           0.83      1442\n",
      "   macro avg       0.80      0.83      0.81      1442\n",
      "weighted avg       0.84      0.83      0.84      1442\n",
      "\n"
     ]
    }
   ],
   "source": [
    "# определяем кастомный токенизатор и используем его в sklearn:\n",
    "\n",
    "from razdel import tokenize\n",
    "def my_tokenizer(doc):\n",
    "    tokens = tokenize(doc)\n",
    "    return([token.text for token in tokens])\n",
    "\n",
    "vectorizer = CountVectorizer(tokenizer=my_tokenizer)\n",
    "X = vectorizer.fit_transform(train.comment)\n",
    "X_test = vectorizer.transform(test.comment)\n",
    "X.shape, X_test.shape\n",
    "y = train.toxic.values\n",
    "y_test = test.toxic.values\n",
    "clf = LogisticRegression(C=0.1, class_weight='balanced', max_iter=200)\n",
    "clf.fit(X, y)\n",
    "clf.classes_\n",
    "preds = clf.predict(X_test)\n",
    "print(classification_report(y_test, preds, zero_division=0))"
   ]
  },
  {
   "cell_type": "markdown",
   "id": "1ffa9f76",
   "metadata": {},
   "source": [
    "## Задание 2 (3 балла)"
   ]
  },
  {
   "cell_type": "markdown",
   "id": "5f358949",
   "metadata": {},
   "source": [
    "Преобразуйте таблицу с абсолютными частотностями в семинарской тетрадке в таблицу с tfidf значениями. (Таблица - https://i.ibb.co/r5Nc2HC/abs-bow.jpg) Формула tfidf есть в семинаре на картнике с пояснениями на английском. \n",
    "Считать нужно в питоне. Формат итоговой таблицы может быть любым, главное, чтобы был код и можно было воспроизвести вычисления. "
   ]
  },
  {
   "cell_type": "code",
   "execution_count": 41,
   "id": "51105170",
   "metadata": {},
   "outputs": [
    {
     "data": {
      "text/plain": [
       "[[0.3333333333333333, 0.3333333333333333, 0.3333333333333333, 0.0, 0.0, 0.0],\n",
       " [0.3333333333333333, 0.3333333333333333, 0.3333333333333333, 0.0, 0.0, 0.0],\n",
       " [0.6, 0.0, 0.2, 0.2, 0.0, 0.0],\n",
       " [0.3333333333333333, 0.0, 0.0, 0.3333333333333333, 0.3333333333333333, 0.0],\n",
       " [0.0, 0.0, 0.0, 0.0, 0.0, 1.0]]"
      ]
     },
     "execution_count": 41,
     "metadata": {},
     "output_type": "execute_result"
    }
   ],
   "source": [
    "# я на начинающем питоне, поэтому так (\"цикл for это плохо, а цикл for в цикле for еще хуже\")\n",
    "# это список по предложениям (их 5), здесь посчитано, сколько раз встречается в каждом их них каждое слово\n",
    "list_general = [[1,1,1,0,0,0],[1,1,1,0,0,0],[3,0,1,1,0,0],[1,0,0,1,1,0],[0,0,0,0,0,1]]\n",
    "# считаем tf:\n",
    "list_tf = []\n",
    "for i in list_general:\n",
    "    m = []\n",
    "    for j in i:\n",
    "        m.append(j/sum(i))\n",
    "    list_tf.append (m)\n",
    "list_tf"
   ]
  },
  {
   "cell_type": "code",
   "execution_count": 43,
   "id": "dd1d04ba",
   "metadata": {},
   "outputs": [
    {
     "data": {
      "text/plain": [
       "[-0.2231435513142097,\n",
       " -0.916290731874155,\n",
       " -0.5108256237659907,\n",
       " -0.916290731874155,\n",
       " -1.6094379124341003,\n",
       " -1.6094379124341003]"
      ]
     },
     "execution_count": 43,
     "metadata": {},
     "output_type": "execute_result"
    }
   ],
   "source": [
    "# считаем idf:\n",
    "import math\n",
    "spisok = [] # список количеств документов, в которых есть слово, подряд по всем словам (их 6)\n",
    "for j in range (len(list_general[0])):\n",
    "    d = 0 \n",
    "    for i in list_general:\n",
    "        if i[j]:\n",
    "            d += 1\n",
    "    spisok.append(d)\n",
    "list_idf = [] # список idf по каждому слову\n",
    "for i in spisok:\n",
    "    list_idf.append(math.log(i/len(list_general)))\n",
    "list_idf"
   ]
  },
  {
   "cell_type": "code",
   "execution_count": 44,
   "id": "5fbbf4e9",
   "metadata": {},
   "outputs": [
    {
     "data": {
      "text/plain": [
       "[[-0.07, -0.31, -0.17, -0.0, -0.0, -0.0],\n",
       " [-0.07, -0.31, -0.17, -0.0, -0.0, -0.0],\n",
       " [-0.13, -0.0, -0.1, -0.18, -0.0, -0.0],\n",
       " [-0.07, -0.0, -0.0, -0.31, -0.54, -0.0],\n",
       " [-0.0, -0.0, -0.0, -0.0, -0.0, -1.61]]"
      ]
     },
     "execution_count": 44,
     "metadata": {},
     "output_type": "execute_result"
    }
   ],
   "source": [
    "# считаем tf-idf для каждого слова в каждом предложении\n",
    "list_tf_idf = []\n",
    "for i in list_tf:\n",
    "    lst = []\n",
    "    for j in range(len(list_idf)):\n",
    "        lst.append(round(i[j]*list_idf[j],2))\n",
    "    list_tf_idf.append(lst)\n",
    "list_tf_idf"
   ]
  },
  {
   "cell_type": "markdown",
   "id": "2f5bc8de",
   "metadata": {},
   "source": [
    "## Задание 3 (2 балла)"
   ]
  },
  {
   "cell_type": "markdown",
   "id": "f8961bbf",
   "metadata": {},
   "source": [
    "Обучите 2 любых разных классификатора из семинара. Предскажите токсичность для текстов из тестовой выборки (используйте одну и ту же выборку для обоих классификаторов) и найдите 10 самых токсичных для каждого из классификаторов. Сравните получаемые тексты - какие тексты совпадают, какие отличаются, правда ли тексты токсичные?"
   ]
  },
  {
   "cell_type": "markdown",
   "id": "b46681ef",
   "metadata": {},
   "source": [
    "Требования к классификаторам:   \n",
    "а) один должен использовать CountVectorizer, другой TfidfVectorizer  \n",
    "б) у векторазера должны быть вручную заданы как минимум 5 параметров  \n",
    "в) у классификатора должно быть задано вручную как минимум 2 параметра  \n",
    "г)  f1 мера каждого из классификаторов должна быть минимум 0.75  "
   ]
  },
  {
   "cell_type": "code",
   "execution_count": null,
   "id": "ed77d7b1",
   "metadata": {},
   "outputs": [],
   "source": [
    "# ваш код"
   ]
  },
  {
   "cell_type": "code",
   "execution_count": null,
   "id": "7cd916f1",
   "metadata": {},
   "outputs": [],
   "source": []
  },
  {
   "cell_type": "markdown",
   "id": "68324753",
   "metadata": {},
   "source": [
    "## *Задание 4 (2 балла)"
   ]
  },
  {
   "cell_type": "markdown",
   "id": "c7794f97",
   "metadata": {},
   "source": [
    "Для классификаторов LogisticRegression, Decision Trees, Naive Bayes, Random Forest найдите способ извлечь важность признаков для предсказания токсичного класса. Сопоставьте полученные числа со словами (или нграммами) в словаре и найдите топ - 5 \"токсичных\" слов для каждого из классификаторов. \n",
    "\n",
    "Важное требование: в топе не должно быть стоп-слов. Для этого вам нужно будет правильным образом настроить векторизацию."
   ]
  },
  {
   "cell_type": "code",
   "execution_count": 6,
   "id": "eaf9062a",
   "metadata": {},
   "outputs": [],
   "source": [
    "# ваш код"
   ]
  },
  {
   "cell_type": "code",
   "execution_count": null,
   "id": "1621065d",
   "metadata": {},
   "outputs": [],
   "source": []
  }
 ],
 "metadata": {
  "kernelspec": {
   "display_name": "Python 3 (ipykernel)",
   "language": "python",
   "name": "python3"
  },
  "language_info": {
   "codemirror_mode": {
    "name": "ipython",
    "version": 3
   },
   "file_extension": ".py",
   "mimetype": "text/x-python",
   "name": "python",
   "nbconvert_exporter": "python",
   "pygments_lexer": "ipython3",
   "version": "3.7.2"
  }
 },
 "nbformat": 4,
 "nbformat_minor": 5
}
