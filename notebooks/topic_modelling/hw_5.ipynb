{
 "cells": [
  {
   "cell_type": "markdown",
   "metadata": {
    "id": "BqEA0p0QLXfq"
   },
   "source": [
    "### Задание № 1 (4 балла)\n",
    "\n",
    "Попробуйте матричные разложения с 5 классификаторами - SGDClassifier, KNeighborsClassifier, RandomForest, ExtraTreesClassifier (про него подробнее почитайте в документации, он похож на RF). Используйте и NMF и SVD. Сравните результаты на кросс-валидации и выберите лучшее сочетание.\n",
    "\n",
    "В итоге у вас должно получиться, как минимум 10 моделей (два разложения на каждый классификатор). Используйте 1 и те же параметры кросс-валидации. Параметры векторизации, параметры K в матричных разложениях, параметры классификаторов могут быть разными между экспериментами.\n",
    "\n",
    "Можете взять поменьше данных, если все будет обучаться слишком долго (не ставьте параметр K слишком большим в NMF, иначе точно будет слишком долго)"
   ]
  },
  {
   "cell_type": "code",
   "execution_count": 3,
   "metadata": {
    "colab": {
     "base_uri": "https://localhost:8080/"
    },
    "id": "qQiVS0nXpLlb",
    "outputId": "3057cf28-a0a4-45c1-ca61-85e29dd8c59f"
   },
   "outputs": [
    {
     "name": "stdout",
     "output_type": "stream",
     "text": [
      "Collecting pymorphy2\n",
      "  Downloading pymorphy2-0.9.1-py3-none-any.whl (55 kB)\n",
      "\u001b[?25l\r",
      "\u001b[K     |██████                          | 10 kB 21.0 MB/s eta 0:00:01\r",
      "\u001b[K     |███████████▉                    | 20 kB 10.4 MB/s eta 0:00:01\r",
      "\u001b[K     |█████████████████▊              | 30 kB 8.1 MB/s eta 0:00:01\r",
      "\u001b[K     |███████████████████████▋        | 40 kB 7.5 MB/s eta 0:00:01\r",
      "\u001b[K     |█████████████████████████████▌  | 51 kB 5.1 MB/s eta 0:00:01\r",
      "\u001b[K     |████████████████████████████████| 55 kB 1.9 MB/s \n",
      "\u001b[?25hRequirement already satisfied: docopt>=0.6 in /usr/local/lib/python3.7/dist-packages (from pymorphy2) (0.6.2)\n",
      "Collecting pymorphy2-dicts-ru<3.0,>=2.4\n",
      "  Downloading pymorphy2_dicts_ru-2.4.417127.4579844-py2.py3-none-any.whl (8.2 MB)\n",
      "\u001b[K     |████████████████████████████████| 8.2 MB 10.5 MB/s \n",
      "\u001b[?25hCollecting dawg-python>=0.7.1\n",
      "  Downloading DAWG_Python-0.7.2-py2.py3-none-any.whl (11 kB)\n",
      "Installing collected packages: pymorphy2-dicts-ru, dawg-python, pymorphy2\n",
      "Successfully installed dawg-python-0.7.2 pymorphy2-0.9.1 pymorphy2-dicts-ru-2.4.417127.4579844\n"
     ]
    }
   ],
   "source": [
    "!pip install pymorphy2"
   ]
  },
  {
   "cell_type": "code",
   "execution_count": 5,
   "metadata": {
    "colab": {
     "base_uri": "https://localhost:8080/",
     "height": 1000
    },
    "id": "W99q1h7rpTJK",
    "outputId": "ae4db014-5d82-486e-b281-555ccf54ee7f"
   },
   "outputs": [
    {
     "name": "stdout",
     "output_type": "stream",
     "text": [
      "Collecting pyLDAvis\n",
      "  Downloading pyLDAvis-3.3.1.tar.gz (1.7 MB)\n",
      "\u001b[K     |████████████████████████████████| 1.7 MB 5.2 MB/s \n",
      "\u001b[?25h  Installing build dependencies ... \u001b[?25l\u001b[?25hdone\n",
      "  Getting requirements to build wheel ... \u001b[?25l\u001b[?25hdone\n",
      "  Installing backend dependencies ... \u001b[?25l\u001b[?25hdone\n",
      "    Preparing wheel metadata ... \u001b[?25l\u001b[?25hdone\n",
      "Requirement already satisfied: numexpr in /usr/local/lib/python3.7/dist-packages (from pyLDAvis) (2.8.1)\n",
      "Collecting pandas>=1.2.0\n",
      "  Downloading pandas-1.3.5-cp37-cp37m-manylinux_2_17_x86_64.manylinux2014_x86_64.whl (11.3 MB)\n",
      "\u001b[K     |████████████████████████████████| 11.3 MB 19.5 MB/s \n",
      "\u001b[?25hRequirement already satisfied: gensim in /usr/local/lib/python3.7/dist-packages (from pyLDAvis) (3.6.0)\n",
      "Requirement already satisfied: future in /usr/local/lib/python3.7/dist-packages (from pyLDAvis) (0.16.0)\n",
      "Requirement already satisfied: setuptools in /usr/local/lib/python3.7/dist-packages (from pyLDAvis) (57.4.0)\n",
      "Requirement already satisfied: scikit-learn in /usr/local/lib/python3.7/dist-packages (from pyLDAvis) (1.0.2)\n",
      "Requirement already satisfied: jinja2 in /usr/local/lib/python3.7/dist-packages (from pyLDAvis) (2.11.3)\n",
      "Collecting funcy\n",
      "  Downloading funcy-1.17-py2.py3-none-any.whl (33 kB)\n",
      "Collecting numpy>=1.20.0\n",
      "  Downloading numpy-1.21.5-cp37-cp37m-manylinux_2_12_x86_64.manylinux2010_x86_64.whl (15.7 MB)\n",
      "\u001b[K     |████████████████████████████████| 15.7 MB 8.3 MB/s \n",
      "\u001b[?25hRequirement already satisfied: sklearn in /usr/local/lib/python3.7/dist-packages (from pyLDAvis) (0.0)\n",
      "Requirement already satisfied: scipy in /usr/local/lib/python3.7/dist-packages (from pyLDAvis) (1.4.1)\n",
      "Requirement already satisfied: joblib in /usr/local/lib/python3.7/dist-packages (from pyLDAvis) (1.1.0)\n",
      "Requirement already satisfied: pytz>=2017.3 in /usr/local/lib/python3.7/dist-packages (from pandas>=1.2.0->pyLDAvis) (2018.9)\n",
      "Requirement already satisfied: python-dateutil>=2.7.3 in /usr/local/lib/python3.7/dist-packages (from pandas>=1.2.0->pyLDAvis) (2.8.2)\n",
      "Requirement already satisfied: six>=1.5 in /usr/local/lib/python3.7/dist-packages (from python-dateutil>=2.7.3->pandas>=1.2.0->pyLDAvis) (1.15.0)\n",
      "Requirement already satisfied: smart-open>=1.2.1 in /usr/local/lib/python3.7/dist-packages (from gensim->pyLDAvis) (5.2.1)\n",
      "Requirement already satisfied: MarkupSafe>=0.23 in /usr/local/lib/python3.7/dist-packages (from jinja2->pyLDAvis) (2.0.1)\n",
      "Requirement already satisfied: packaging in /usr/local/lib/python3.7/dist-packages (from numexpr->pyLDAvis) (21.3)\n",
      "Requirement already satisfied: pyparsing!=3.0.5,>=2.0.2 in /usr/local/lib/python3.7/dist-packages (from packaging->numexpr->pyLDAvis) (3.0.6)\n",
      "Requirement already satisfied: threadpoolctl>=2.0.0 in /usr/local/lib/python3.7/dist-packages (from scikit-learn->pyLDAvis) (3.0.0)\n",
      "Building wheels for collected packages: pyLDAvis\n",
      "  Building wheel for pyLDAvis (PEP 517) ... \u001b[?25l\u001b[?25hdone\n",
      "  Created wheel for pyLDAvis: filename=pyLDAvis-3.3.1-py2.py3-none-any.whl size=136898 sha256=187bb5e569f9c2ecb98330b917204e92d50838e677cfd1059a9cee826cb33c19\n",
      "  Stored in directory: /root/.cache/pip/wheels/c9/21/f6/17bcf2667e8a68532ba2fbf6d5c72fdf4c7f7d9abfa4852d2f\n",
      "Successfully built pyLDAvis\n",
      "Installing collected packages: numpy, pandas, funcy, pyLDAvis\n",
      "  Attempting uninstall: numpy\n",
      "    Found existing installation: numpy 1.19.5\n",
      "    Uninstalling numpy-1.19.5:\n",
      "      Successfully uninstalled numpy-1.19.5\n",
      "  Attempting uninstall: pandas\n",
      "    Found existing installation: pandas 1.1.5\n",
      "    Uninstalling pandas-1.1.5:\n",
      "      Successfully uninstalled pandas-1.1.5\n",
      "\u001b[31mERROR: pip's dependency resolver does not currently take into account all the packages that are installed. This behaviour is the source of the following dependency conflicts.\n",
      "yellowbrick 1.3.post1 requires numpy<1.20,>=1.16.0, but you have numpy 1.21.5 which is incompatible.\n",
      "google-colab 1.0.0 requires pandas~=1.1.0; python_version >= \"3.0\", but you have pandas 1.3.5 which is incompatible.\n",
      "datascience 0.10.6 requires folium==0.2.1, but you have folium 0.8.3 which is incompatible.\n",
      "albumentations 0.1.12 requires imgaug<0.2.7,>=0.2.5, but you have imgaug 0.2.9 which is incompatible.\u001b[0m\n",
      "Successfully installed funcy-1.17 numpy-1.21.5 pandas-1.3.5 pyLDAvis-3.3.1\n"
     ]
    },
    {
     "data": {
      "application/vnd.colab-display-data+json": {
       "pip_warning": {
        "packages": [
         "numpy",
         "pandas"
        ]
       }
      }
     },
     "metadata": {},
     "output_type": "display_data"
    }
   ],
   "source": [
    "!pip install pyLDAvis"
   ]
  },
  {
   "cell_type": "code",
   "execution_count": 2,
   "metadata": {
    "colab": {
     "base_uri": "https://localhost:8080/"
    },
    "id": "uLEsWBccpjjg",
    "outputId": "e6696e51-35e0-4086-dd8b-10a9cc466d13"
   },
   "outputs": [
    {
     "name": "stdout",
     "output_type": "stream",
     "text": [
      "Collecting razdel\n",
      "  Downloading razdel-0.5.0-py3-none-any.whl (21 kB)\n",
      "Installing collected packages: razdel\n",
      "Successfully installed razdel-0.5.0\n"
     ]
    }
   ],
   "source": [
    "!pip install razdel"
   ]
  },
  {
   "cell_type": "code",
   "execution_count": 3,
   "metadata": {
    "colab": {
     "base_uri": "https://localhost:8080/"
    },
    "id": "M5qWyrR60EY9",
    "outputId": "e6a3539f-0282-4137-a9bb-424ad7477bf7"
   },
   "outputs": [
    {
     "name": "stderr",
     "output_type": "stream",
     "text": [
      "/usr/local/lib/python3.7/dist-packages/pymorphy2/units/base.py:70: DeprecationWarning: inspect.getargspec() is deprecated since Python 3.0, use inspect.signature() or inspect.getfullargspec()\n",
      "  args, varargs, kw, default = inspect.getargspec(cls.__init__)\n",
      "/usr/local/lib/python3.7/dist-packages/pymorphy2/units/base.py:70: DeprecationWarning: inspect.getargspec() is deprecated since Python 3.0, use inspect.signature() or inspect.getfullargspec()\n",
      "  args, varargs, kw, default = inspect.getargspec(cls.__init__)\n",
      "/usr/local/lib/python3.7/dist-packages/pymorphy2/units/base.py:70: DeprecationWarning: inspect.getargspec() is deprecated since Python 3.0, use inspect.signature() or inspect.getfullargspec()\n",
      "  args, varargs, kw, default = inspect.getargspec(cls.__init__)\n",
      "/usr/local/lib/python3.7/dist-packages/pymorphy2/units/base.py:70: DeprecationWarning: inspect.getargspec() is deprecated since Python 3.0, use inspect.signature() or inspect.getfullargspec()\n",
      "  args, varargs, kw, default = inspect.getargspec(cls.__init__)\n",
      "/usr/local/lib/python3.7/dist-packages/pymorphy2/units/base.py:70: DeprecationWarning: inspect.getargspec() is deprecated since Python 3.0, use inspect.signature() or inspect.getfullargspec()\n",
      "  args, varargs, kw, default = inspect.getargspec(cls.__init__)\n",
      "/usr/local/lib/python3.7/dist-packages/pymorphy2/units/base.py:70: DeprecationWarning: inspect.getargspec() is deprecated since Python 3.0, use inspect.signature() or inspect.getfullargspec()\n",
      "  args, varargs, kw, default = inspect.getargspec(cls.__init__)\n",
      "/usr/local/lib/python3.7/dist-packages/pymorphy2/units/base.py:70: DeprecationWarning: inspect.getargspec() is deprecated since Python 3.0, use inspect.signature() or inspect.getfullargspec()\n",
      "  args, varargs, kw, default = inspect.getargspec(cls.__init__)\n",
      "/usr/local/lib/python3.7/dist-packages/pymorphy2/units/base.py:70: DeprecationWarning: inspect.getargspec() is deprecated since Python 3.0, use inspect.signature() or inspect.getfullargspec()\n",
      "  args, varargs, kw, default = inspect.getargspec(cls.__init__)\n",
      "/usr/local/lib/python3.7/dist-packages/pymorphy2/units/base.py:70: DeprecationWarning: inspect.getargspec() is deprecated since Python 3.0, use inspect.signature() or inspect.getfullargspec()\n",
      "  args, varargs, kw, default = inspect.getargspec(cls.__init__)\n",
      "/usr/local/lib/python3.7/dist-packages/pymorphy2/units/base.py:70: DeprecationWarning: inspect.getargspec() is deprecated since Python 3.0, use inspect.signature() or inspect.getfullargspec()\n",
      "  args, varargs, kw, default = inspect.getargspec(cls.__init__)\n",
      "/usr/local/lib/python3.7/dist-packages/pymorphy2/units/base.py:70: DeprecationWarning: inspect.getargspec() is deprecated since Python 3.0, use inspect.signature() or inspect.getfullargspec()\n",
      "  args, varargs, kw, default = inspect.getargspec(cls.__init__)\n",
      "/usr/local/lib/python3.7/dist-packages/pymorphy2/units/base.py:70: DeprecationWarning: inspect.getargspec() is deprecated since Python 3.0, use inspect.signature() or inspect.getfullargspec()\n",
      "  args, varargs, kw, default = inspect.getargspec(cls.__init__)\n"
     ]
    }
   ],
   "source": [
    "import gensim\n",
    "import pandas as pd\n",
    "import numpy as np\n",
    "from pymorphy2 import MorphAnalyzer\n",
    "import pyLDAvis.gensim_models\n",
    "from collections import Counter\n",
    "from string import punctuation\n",
    "from razdel import tokenize as razdel_tokenize\n",
    "from IPython.display import Image\n",
    "from IPython.core.display import HTML \n",
    "from sklearn.decomposition import TruncatedSVD, NMF, PCA, LatentDirichletAllocation\n",
    "from sklearn.manifold import TSNE\n",
    "from sklearn.feature_extraction.text import TfidfVectorizer, CountVectorizer, TfidfTransformer\n",
    "from sklearn.metrics.pairwise import cosine_distances\n",
    "from sklearn.ensemble import RandomForestClassifier\n",
    "from sklearn.metrics import accuracy_score, precision_score, recall_score, f1_score, confusion_matrix\n",
    "from sklearn.pipeline import Pipeline\n",
    "from sklearn.model_selection import KFold, StratifiedKFold\n",
    "import warnings\n",
    "from matplotlib import pyplot as plt\n",
    "import seaborn as sns\n",
    "morph = MorphAnalyzer()\n",
    "warnings.filterwarnings(\"ignore\")"
   ]
  },
  {
   "cell_type": "code",
   "execution_count": 4,
   "metadata": {
    "id": "r7uFgnYtFLfS"
   },
   "outputs": [],
   "source": [
    "# добавим лемматизацию\n",
    "def normalize(text):\n",
    "    normalized_text = [word.text.strip(punctuation) for word \\\n",
    "                                                            in razdel_tokenize(text)]\n",
    "    normalized_text = [word.lower() for word in normalized_text if word and len(word) < 20 ]\n",
    "    normalized_text = [morph.parse(word)[0].normal_form for word in normalized_text]\n",
    "    return ' '.join(normalized_text)"
   ]
  },
  {
   "cell_type": "code",
   "execution_count": null,
   "metadata": {
    "id": "Q0Ezt2DTI3qi"
   },
   "outputs": [],
   "source": [
    "data = pd.read_csv('avito_category_classification.csv')\n",
    "data['description_norm'] = data['description'].apply(normalize)"
   ]
  },
  {
   "cell_type": "code",
   "execution_count": null,
   "metadata": {
    "colab": {
     "base_uri": "https://localhost:8080/",
     "height": 424
    },
    "id": "q2hAUnwHI5MI",
    "outputId": "64964c27-f558-4792-beea-034a6031a439"
   },
   "outputs": [
    {
     "data": {
      "text/html": [
       "\n",
       "  <div id=\"df-d5808cac-4ba0-4bf9-9b83-99a94af9d051\">\n",
       "    <div class=\"colab-df-container\">\n",
       "      <div>\n",
       "<style scoped>\n",
       "    .dataframe tbody tr th:only-of-type {\n",
       "        vertical-align: middle;\n",
       "    }\n",
       "\n",
       "    .dataframe tbody tr th {\n",
       "        vertical-align: top;\n",
       "    }\n",
       "\n",
       "    .dataframe thead th {\n",
       "        text-align: right;\n",
       "    }\n",
       "</style>\n",
       "<table border=\"1\" class=\"dataframe\">\n",
       "  <thead>\n",
       "    <tr style=\"text-align: right;\">\n",
       "      <th></th>\n",
       "      <th>category_name</th>\n",
       "      <th>description</th>\n",
       "      <th>description_norm</th>\n",
       "    </tr>\n",
       "  </thead>\n",
       "  <tbody>\n",
       "    <tr>\n",
       "      <th>0</th>\n",
       "      <td>Автомобили</td>\n",
       "      <td>отличное состояние,обслужиание в салоне</td>\n",
       "      <td>отличный состояние обслужиание в салон</td>\n",
       "    </tr>\n",
       "    <tr>\n",
       "      <th>1</th>\n",
       "      <td>Детская одежда и обувь</td>\n",
       "      <td>В отличном состоянии. Фирма KIKO. Очень теплый...</td>\n",
       "      <td>в отличный состояние фирма kiko очень тёплый у...</td>\n",
       "    </tr>\n",
       "    <tr>\n",
       "      <th>2</th>\n",
       "      <td>Предложение услуг</td>\n",
       "      <td>Изготовление ограждений, перил,качелей, турник...</td>\n",
       "      <td>изготовление ограждение перила качели турников...</td>\n",
       "    </tr>\n",
       "    <tr>\n",
       "      <th>3</th>\n",
       "      <td>Автомобили</td>\n",
       "      <td>Автомобиль в отличном техническом состоянии. О...</td>\n",
       "      <td>автомобиль в отличный технический состояние од...</td>\n",
       "    </tr>\n",
       "    <tr>\n",
       "      <th>4</th>\n",
       "      <td>Бытовая техника</td>\n",
       "      <td>Продается газовая плита \"Гефест\" (Белоруссия) ...</td>\n",
       "      <td>продаваться газовый плита гефест белоруссия б ...</td>\n",
       "    </tr>\n",
       "    <tr>\n",
       "      <th>...</th>\n",
       "      <td>...</td>\n",
       "      <td>...</td>\n",
       "      <td>...</td>\n",
       "    </tr>\n",
       "    <tr>\n",
       "      <th>9893</th>\n",
       "      <td>Товары для детей и игрушки</td>\n",
       "      <td>Чтобы посмотреть весь ассортимент нашего магаз...</td>\n",
       "      <td>чтобы посмотреть весь ассортимент наш магазин ...</td>\n",
       "    </tr>\n",
       "    <tr>\n",
       "      <th>9894</th>\n",
       "      <td>Детская одежда и обувь</td>\n",
       "      <td>Весна,осень.74-80.вопросы можно в вайбер,двухс...</td>\n",
       "      <td>весна осень 74-80 вопрос можно в вайбер двухст...</td>\n",
       "    </tr>\n",
       "    <tr>\n",
       "      <th>9895</th>\n",
       "      <td>Одежда, обувь, аксессуары</td>\n",
       "      <td>Кимоно Green Hill. Состояние  отличное,  рост ...</td>\n",
       "      <td>кимоно green hill состояние отличный рост 160-...</td>\n",
       "    </tr>\n",
       "    <tr>\n",
       "      <th>9896</th>\n",
       "      <td>Детская одежда и обувь</td>\n",
       "      <td>Б/у кроссовки на девочку. Носили только в спор...</td>\n",
       "      <td>б у кроссовок на девочка носить только в спортзал</td>\n",
       "    </tr>\n",
       "    <tr>\n",
       "      <th>9897</th>\n",
       "      <td>Бытовая техника</td>\n",
       "      <td>Холодильник на гарантии</td>\n",
       "      <td>холодильник на гарантия</td>\n",
       "    </tr>\n",
       "  </tbody>\n",
       "</table>\n",
       "<p>9898 rows × 3 columns</p>\n",
       "</div>\n",
       "      <button class=\"colab-df-convert\" onclick=\"convertToInteractive('df-d5808cac-4ba0-4bf9-9b83-99a94af9d051')\"\n",
       "              title=\"Convert this dataframe to an interactive table.\"\n",
       "              style=\"display:none;\">\n",
       "        \n",
       "  <svg xmlns=\"http://www.w3.org/2000/svg\" height=\"24px\"viewBox=\"0 0 24 24\"\n",
       "       width=\"24px\">\n",
       "    <path d=\"M0 0h24v24H0V0z\" fill=\"none\"/>\n",
       "    <path d=\"M18.56 5.44l.94 2.06.94-2.06 2.06-.94-2.06-.94-.94-2.06-.94 2.06-2.06.94zm-11 1L8.5 8.5l.94-2.06 2.06-.94-2.06-.94L8.5 2.5l-.94 2.06-2.06.94zm10 10l.94 2.06.94-2.06 2.06-.94-2.06-.94-.94-2.06-.94 2.06-2.06.94z\"/><path d=\"M17.41 7.96l-1.37-1.37c-.4-.4-.92-.59-1.43-.59-.52 0-1.04.2-1.43.59L10.3 9.45l-7.72 7.72c-.78.78-.78 2.05 0 2.83L4 21.41c.39.39.9.59 1.41.59.51 0 1.02-.2 1.41-.59l7.78-7.78 2.81-2.81c.8-.78.8-2.07 0-2.86zM5.41 20L4 18.59l7.72-7.72 1.47 1.35L5.41 20z\"/>\n",
       "  </svg>\n",
       "      </button>\n",
       "      \n",
       "  <style>\n",
       "    .colab-df-container {\n",
       "      display:flex;\n",
       "      flex-wrap:wrap;\n",
       "      gap: 12px;\n",
       "    }\n",
       "\n",
       "    .colab-df-convert {\n",
       "      background-color: #E8F0FE;\n",
       "      border: none;\n",
       "      border-radius: 50%;\n",
       "      cursor: pointer;\n",
       "      display: none;\n",
       "      fill: #1967D2;\n",
       "      height: 32px;\n",
       "      padding: 0 0 0 0;\n",
       "      width: 32px;\n",
       "    }\n",
       "\n",
       "    .colab-df-convert:hover {\n",
       "      background-color: #E2EBFA;\n",
       "      box-shadow: 0px 1px 2px rgba(60, 64, 67, 0.3), 0px 1px 3px 1px rgba(60, 64, 67, 0.15);\n",
       "      fill: #174EA6;\n",
       "    }\n",
       "\n",
       "    [theme=dark] .colab-df-convert {\n",
       "      background-color: #3B4455;\n",
       "      fill: #D2E3FC;\n",
       "    }\n",
       "\n",
       "    [theme=dark] .colab-df-convert:hover {\n",
       "      background-color: #434B5C;\n",
       "      box-shadow: 0px 1px 3px 1px rgba(0, 0, 0, 0.15);\n",
       "      filter: drop-shadow(0px 1px 2px rgba(0, 0, 0, 0.3));\n",
       "      fill: #FFFFFF;\n",
       "    }\n",
       "  </style>\n",
       "\n",
       "      <script>\n",
       "        const buttonEl =\n",
       "          document.querySelector('#df-d5808cac-4ba0-4bf9-9b83-99a94af9d051 button.colab-df-convert');\n",
       "        buttonEl.style.display =\n",
       "          google.colab.kernel.accessAllowed ? 'block' : 'none';\n",
       "\n",
       "        async function convertToInteractive(key) {\n",
       "          const element = document.querySelector('#df-d5808cac-4ba0-4bf9-9b83-99a94af9d051');\n",
       "          const dataTable =\n",
       "            await google.colab.kernel.invokeFunction('convertToInteractive',\n",
       "                                                     [key], {});\n",
       "          if (!dataTable) return;\n",
       "\n",
       "          const docLinkHtml = 'Like what you see? Visit the ' +\n",
       "            '<a target=\"_blank\" href=https://colab.research.google.com/notebooks/data_table.ipynb>data table notebook</a>'\n",
       "            + ' to learn more about interactive tables.';\n",
       "          element.innerHTML = '';\n",
       "          dataTable['output_type'] = 'display_data';\n",
       "          await google.colab.output.renderOutput(dataTable, element);\n",
       "          const docLink = document.createElement('div');\n",
       "          docLink.innerHTML = docLinkHtml;\n",
       "          element.appendChild(docLink);\n",
       "        }\n",
       "      </script>\n",
       "    </div>\n",
       "  </div>\n",
       "  "
      ],
      "text/plain": [
       "                   category_name  ...                                   description_norm\n",
       "0                     Автомобили  ...             отличный состояние обслужиание в салон\n",
       "1         Детская одежда и обувь  ...  в отличный состояние фирма kiko очень тёплый у...\n",
       "2              Предложение услуг  ...  изготовление ограждение перила качели турников...\n",
       "3                     Автомобили  ...  автомобиль в отличный технический состояние од...\n",
       "4                Бытовая техника  ...  продаваться газовый плита гефест белоруссия б ...\n",
       "...                          ...  ...                                                ...\n",
       "9893  Товары для детей и игрушки  ...  чтобы посмотреть весь ассортимент наш магазин ...\n",
       "9894      Детская одежда и обувь  ...  весна осень 74-80 вопрос можно в вайбер двухст...\n",
       "9895   Одежда, обувь, аксессуары  ...  кимоно green hill состояние отличный рост 160-...\n",
       "9896      Детская одежда и обувь  ...  б у кроссовок на девочка носить только в спортзал\n",
       "9897             Бытовая техника  ...                            холодильник на гарантия\n",
       "\n",
       "[9898 rows x 3 columns]"
      ]
     },
     "execution_count": 7,
     "metadata": {},
     "output_type": "execute_result"
    }
   ],
   "source": [
    "data"
   ]
  },
  {
   "cell_type": "code",
   "execution_count": null,
   "metadata": {
    "id": "vescfM27K5ZV"
   },
   "outputs": [],
   "source": [
    "# classification_report с встроенной кросс-валидацией\n",
    "\n",
    "def eval_table(X, y, pipeline, N=6):\n",
    "    labels = list(set(y))\n",
    "    fold_metrics = pd.DataFrame(index=labels)\n",
    "    errors = np.zeros((len(labels), len(labels)))\n",
    "    \n",
    "    kfold = StratifiedKFold(n_splits=N, shuffle=True, )\n",
    "\n",
    "    for i, (train_index, test_index) in enumerate(kfold.split(X, y)):\n",
    "        pipeline.fit(X[train_index], y[train_index])\n",
    "        preds = pipeline.predict(X[test_index])\n",
    "        \n",
    "        fold_metrics[f'precision_{i}'] = precision_score(y[test_index], preds, labels=labels, average=None)\n",
    "        fold_metrics[f'recall_{i}'] = recall_score(y[test_index], preds, labels=labels, average=None)\n",
    "        fold_metrics[f'f1_{i}'] = f1_score(y[test_index], preds, labels=labels, average=None)\n",
    "        errors += confusion_matrix(y[test_index], preds, labels=labels, normalize='true')\n",
    "    \n",
    "    result = pd.DataFrame(index=labels)\n",
    "    result['precision'] = fold_metrics[[f'precision_{i}' for i in range(N)]].mean(axis=1).round(2)\n",
    "    result['precision_std'] = fold_metrics[[f'precision_{i}' for i in range(N)]].std(axis=1).round(2)\n",
    "    \n",
    "    result['recall'] = fold_metrics[[f'recall_{i}' for i in range(N)]].mean(axis=1).round(2)\n",
    "    result['recall_std'] = fold_metrics[[f'recall_{i}' for i in range(N)]].std(axis=1).round(2)\n",
    "    \n",
    "    result['f1'] = fold_metrics[[f'f1_{i}' for i in range(N)]].mean(axis=1).round(2)\n",
    "    result['f1_std'] = fold_metrics[[f'f1_{i}' for i in range(N)]].std(axis=1).round(2)\n",
    "    \n",
    "    result.loc['mean'] = result.mean().round(2)\n",
    "    errors /= N\n",
    "    \n",
    "    return result, errors"
   ]
  },
  {
   "cell_type": "markdown",
   "metadata": {
    "id": "x9vydhDmDd0W"
   },
   "source": [
    "RandomForestClassifier"
   ]
  },
  {
   "cell_type": "code",
   "execution_count": null,
   "metadata": {
    "id": "_9J4A6XsC6-9"
   },
   "outputs": [],
   "source": [
    "pipeline_svd_rfc = Pipeline([\n",
    "    ('bow', CountVectorizer(tokenizer=lambda x: x.split(), ngram_range=(1,2), min_df=5, max_df=0.4)),\n",
    "    ('svd', TruncatedSVD(500)),\n",
    "    ('clf', RandomForestClassifier(n_estimators=100, max_depth=10))\n",
    "])\n",
    "\n",
    "pipeline_nmf_rfc = Pipeline([\n",
    "    ('bow', CountVectorizer(tokenizer=lambda x: x.split(), min_df=3, max_df=0.3)),\n",
    "    ('tfidf', TfidfTransformer()),\n",
    "    ('decomposition', NMF(100)),\n",
    "    ('clf', RandomForestClassifier(n_estimators=200, max_depth=6))\n",
    "])"
   ]
  },
  {
   "cell_type": "code",
   "execution_count": null,
   "metadata": {
    "id": "QMU4W9RUK7ct"
   },
   "outputs": [],
   "source": [
    "metrics_svd_rfc, errors_svd_rfc = eval_table(data['description_norm'], data['category_name'], pipeline_svd_rfc)\n",
    "metrics_nmf_rfc, errors_nmf_rfc = eval_table(data['description_norm'], data['category_name'], pipeline_nmf_rfc)"
   ]
  },
  {
   "cell_type": "code",
   "execution_count": null,
   "metadata": {
    "colab": {
     "base_uri": "https://localhost:8080/",
     "height": 394
    },
    "id": "xHkEKwThK938",
    "outputId": "2d0d0c95-cc80-4521-a186-b740cbff12f2"
   },
   "outputs": [
    {
     "data": {
      "text/html": [
       "\n",
       "  <div id=\"df-56d91501-ee46-4eba-8b16-9966630c2688\">\n",
       "    <div class=\"colab-df-container\">\n",
       "      <div>\n",
       "<style scoped>\n",
       "    .dataframe tbody tr th:only-of-type {\n",
       "        vertical-align: middle;\n",
       "    }\n",
       "\n",
       "    .dataframe tbody tr th {\n",
       "        vertical-align: top;\n",
       "    }\n",
       "\n",
       "    .dataframe thead th {\n",
       "        text-align: right;\n",
       "    }\n",
       "</style>\n",
       "<table border=\"1\" class=\"dataframe\">\n",
       "  <thead>\n",
       "    <tr style=\"text-align: right;\">\n",
       "      <th></th>\n",
       "      <th>precision</th>\n",
       "      <th>precision_std</th>\n",
       "      <th>recall</th>\n",
       "      <th>recall_std</th>\n",
       "      <th>f1</th>\n",
       "      <th>f1_std</th>\n",
       "    </tr>\n",
       "  </thead>\n",
       "  <tbody>\n",
       "    <tr>\n",
       "      <th>Предложение услуг</th>\n",
       "      <td>0.74</td>\n",
       "      <td>0.09</td>\n",
       "      <td>0.50</td>\n",
       "      <td>0.04</td>\n",
       "      <td>0.60</td>\n",
       "      <td>0.04</td>\n",
       "    </tr>\n",
       "    <tr>\n",
       "      <th>Ремонт и строительство</th>\n",
       "      <td>0.71</td>\n",
       "      <td>0.15</td>\n",
       "      <td>0.09</td>\n",
       "      <td>0.04</td>\n",
       "      <td>0.15</td>\n",
       "      <td>0.06</td>\n",
       "    </tr>\n",
       "    <tr>\n",
       "      <th>Товары для детей и игрушки</th>\n",
       "      <td>0.82</td>\n",
       "      <td>0.07</td>\n",
       "      <td>0.18</td>\n",
       "      <td>0.04</td>\n",
       "      <td>0.29</td>\n",
       "      <td>0.06</td>\n",
       "    </tr>\n",
       "    <tr>\n",
       "      <th>Одежда, обувь, аксессуары</th>\n",
       "      <td>0.47</td>\n",
       "      <td>0.01</td>\n",
       "      <td>0.77</td>\n",
       "      <td>0.02</td>\n",
       "      <td>0.58</td>\n",
       "      <td>0.01</td>\n",
       "    </tr>\n",
       "    <tr>\n",
       "      <th>Бытовая техника</th>\n",
       "      <td>0.90</td>\n",
       "      <td>0.23</td>\n",
       "      <td>0.05</td>\n",
       "      <td>0.02</td>\n",
       "      <td>0.10</td>\n",
       "      <td>0.04</td>\n",
       "    </tr>\n",
       "    <tr>\n",
       "      <th>Детская одежда и обувь</th>\n",
       "      <td>0.45</td>\n",
       "      <td>0.01</td>\n",
       "      <td>0.68</td>\n",
       "      <td>0.01</td>\n",
       "      <td>0.54</td>\n",
       "      <td>0.01</td>\n",
       "    </tr>\n",
       "    <tr>\n",
       "      <th>Квартиры</th>\n",
       "      <td>0.88</td>\n",
       "      <td>0.04</td>\n",
       "      <td>0.88</td>\n",
       "      <td>0.02</td>\n",
       "      <td>0.88</td>\n",
       "      <td>0.01</td>\n",
       "    </tr>\n",
       "    <tr>\n",
       "      <th>Мебель и интерьер</th>\n",
       "      <td>0.83</td>\n",
       "      <td>0.26</td>\n",
       "      <td>0.03</td>\n",
       "      <td>0.02</td>\n",
       "      <td>0.06</td>\n",
       "      <td>0.03</td>\n",
       "    </tr>\n",
       "    <tr>\n",
       "      <th>Автомобили</th>\n",
       "      <td>0.86</td>\n",
       "      <td>0.04</td>\n",
       "      <td>0.59</td>\n",
       "      <td>0.08</td>\n",
       "      <td>0.70</td>\n",
       "      <td>0.06</td>\n",
       "    </tr>\n",
       "    <tr>\n",
       "      <th>Телефоны</th>\n",
       "      <td>0.96</td>\n",
       "      <td>0.04</td>\n",
       "      <td>0.33</td>\n",
       "      <td>0.03</td>\n",
       "      <td>0.49</td>\n",
       "      <td>0.03</td>\n",
       "    </tr>\n",
       "    <tr>\n",
       "      <th>mean</th>\n",
       "      <td>0.76</td>\n",
       "      <td>0.09</td>\n",
       "      <td>0.41</td>\n",
       "      <td>0.03</td>\n",
       "      <td>0.44</td>\n",
       "      <td>0.03</td>\n",
       "    </tr>\n",
       "  </tbody>\n",
       "</table>\n",
       "</div>\n",
       "      <button class=\"colab-df-convert\" onclick=\"convertToInteractive('df-56d91501-ee46-4eba-8b16-9966630c2688')\"\n",
       "              title=\"Convert this dataframe to an interactive table.\"\n",
       "              style=\"display:none;\">\n",
       "        \n",
       "  <svg xmlns=\"http://www.w3.org/2000/svg\" height=\"24px\"viewBox=\"0 0 24 24\"\n",
       "       width=\"24px\">\n",
       "    <path d=\"M0 0h24v24H0V0z\" fill=\"none\"/>\n",
       "    <path d=\"M18.56 5.44l.94 2.06.94-2.06 2.06-.94-2.06-.94-.94-2.06-.94 2.06-2.06.94zm-11 1L8.5 8.5l.94-2.06 2.06-.94-2.06-.94L8.5 2.5l-.94 2.06-2.06.94zm10 10l.94 2.06.94-2.06 2.06-.94-2.06-.94-.94-2.06-.94 2.06-2.06.94z\"/><path d=\"M17.41 7.96l-1.37-1.37c-.4-.4-.92-.59-1.43-.59-.52 0-1.04.2-1.43.59L10.3 9.45l-7.72 7.72c-.78.78-.78 2.05 0 2.83L4 21.41c.39.39.9.59 1.41.59.51 0 1.02-.2 1.41-.59l7.78-7.78 2.81-2.81c.8-.78.8-2.07 0-2.86zM5.41 20L4 18.59l7.72-7.72 1.47 1.35L5.41 20z\"/>\n",
       "  </svg>\n",
       "      </button>\n",
       "      \n",
       "  <style>\n",
       "    .colab-df-container {\n",
       "      display:flex;\n",
       "      flex-wrap:wrap;\n",
       "      gap: 12px;\n",
       "    }\n",
       "\n",
       "    .colab-df-convert {\n",
       "      background-color: #E8F0FE;\n",
       "      border: none;\n",
       "      border-radius: 50%;\n",
       "      cursor: pointer;\n",
       "      display: none;\n",
       "      fill: #1967D2;\n",
       "      height: 32px;\n",
       "      padding: 0 0 0 0;\n",
       "      width: 32px;\n",
       "    }\n",
       "\n",
       "    .colab-df-convert:hover {\n",
       "      background-color: #E2EBFA;\n",
       "      box-shadow: 0px 1px 2px rgba(60, 64, 67, 0.3), 0px 1px 3px 1px rgba(60, 64, 67, 0.15);\n",
       "      fill: #174EA6;\n",
       "    }\n",
       "\n",
       "    [theme=dark] .colab-df-convert {\n",
       "      background-color: #3B4455;\n",
       "      fill: #D2E3FC;\n",
       "    }\n",
       "\n",
       "    [theme=dark] .colab-df-convert:hover {\n",
       "      background-color: #434B5C;\n",
       "      box-shadow: 0px 1px 3px 1px rgba(0, 0, 0, 0.15);\n",
       "      filter: drop-shadow(0px 1px 2px rgba(0, 0, 0, 0.3));\n",
       "      fill: #FFFFFF;\n",
       "    }\n",
       "  </style>\n",
       "\n",
       "      <script>\n",
       "        const buttonEl =\n",
       "          document.querySelector('#df-56d91501-ee46-4eba-8b16-9966630c2688 button.colab-df-convert');\n",
       "        buttonEl.style.display =\n",
       "          google.colab.kernel.accessAllowed ? 'block' : 'none';\n",
       "\n",
       "        async function convertToInteractive(key) {\n",
       "          const element = document.querySelector('#df-56d91501-ee46-4eba-8b16-9966630c2688');\n",
       "          const dataTable =\n",
       "            await google.colab.kernel.invokeFunction('convertToInteractive',\n",
       "                                                     [key], {});\n",
       "          if (!dataTable) return;\n",
       "\n",
       "          const docLinkHtml = 'Like what you see? Visit the ' +\n",
       "            '<a target=\"_blank\" href=https://colab.research.google.com/notebooks/data_table.ipynb>data table notebook</a>'\n",
       "            + ' to learn more about interactive tables.';\n",
       "          element.innerHTML = '';\n",
       "          dataTable['output_type'] = 'display_data';\n",
       "          await google.colab.output.renderOutput(dataTable, element);\n",
       "          const docLink = document.createElement('div');\n",
       "          docLink.innerHTML = docLinkHtml;\n",
       "          element.appendChild(docLink);\n",
       "        }\n",
       "      </script>\n",
       "    </div>\n",
       "  </div>\n",
       "  "
      ],
      "text/plain": [
       "                            precision  precision_std  ...    f1  f1_std\n",
       "Предложение услуг                0.74           0.09  ...  0.60    0.04\n",
       "Ремонт и строительство           0.71           0.15  ...  0.15    0.06\n",
       "Товары для детей и игрушки       0.82           0.07  ...  0.29    0.06\n",
       "Одежда, обувь, аксессуары        0.47           0.01  ...  0.58    0.01\n",
       "Бытовая техника                  0.90           0.23  ...  0.10    0.04\n",
       "Детская одежда и обувь           0.45           0.01  ...  0.54    0.01\n",
       "Квартиры                         0.88           0.04  ...  0.88    0.01\n",
       "Мебель и интерьер                0.83           0.26  ...  0.06    0.03\n",
       "Автомобили                       0.86           0.04  ...  0.70    0.06\n",
       "Телефоны                         0.96           0.04  ...  0.49    0.03\n",
       "mean                             0.76           0.09  ...  0.44    0.03\n",
       "\n",
       "[11 rows x 6 columns]"
      ]
     },
     "execution_count": 103,
     "metadata": {},
     "output_type": "execute_result"
    }
   ],
   "source": [
    "metrics_svd_rfc"
   ]
  },
  {
   "cell_type": "code",
   "execution_count": null,
   "metadata": {
    "colab": {
     "base_uri": "https://localhost:8080/",
     "height": 394
    },
    "id": "lKpwL0VYLAw0",
    "outputId": "f36e702d-cdb9-460c-a25b-5c24ce39be5a"
   },
   "outputs": [
    {
     "data": {
      "text/html": [
       "\n",
       "  <div id=\"df-5204b107-6d22-4033-81a4-6904fdccfdcf\">\n",
       "    <div class=\"colab-df-container\">\n",
       "      <div>\n",
       "<style scoped>\n",
       "    .dataframe tbody tr th:only-of-type {\n",
       "        vertical-align: middle;\n",
       "    }\n",
       "\n",
       "    .dataframe tbody tr th {\n",
       "        vertical-align: top;\n",
       "    }\n",
       "\n",
       "    .dataframe thead th {\n",
       "        text-align: right;\n",
       "    }\n",
       "</style>\n",
       "<table border=\"1\" class=\"dataframe\">\n",
       "  <thead>\n",
       "    <tr style=\"text-align: right;\">\n",
       "      <th></th>\n",
       "      <th>precision</th>\n",
       "      <th>precision_std</th>\n",
       "      <th>recall</th>\n",
       "      <th>recall_std</th>\n",
       "      <th>f1</th>\n",
       "      <th>f1_std</th>\n",
       "    </tr>\n",
       "  </thead>\n",
       "  <tbody>\n",
       "    <tr>\n",
       "      <th>Предложение услуг</th>\n",
       "      <td>0.72</td>\n",
       "      <td>0.07</td>\n",
       "      <td>0.49</td>\n",
       "      <td>0.08</td>\n",
       "      <td>0.58</td>\n",
       "      <td>0.06</td>\n",
       "    </tr>\n",
       "    <tr>\n",
       "      <th>Ремонт и строительство</th>\n",
       "      <td>0.75</td>\n",
       "      <td>0.17</td>\n",
       "      <td>0.06</td>\n",
       "      <td>0.03</td>\n",
       "      <td>0.11</td>\n",
       "      <td>0.06</td>\n",
       "    </tr>\n",
       "    <tr>\n",
       "      <th>Товары для детей и игрушки</th>\n",
       "      <td>0.88</td>\n",
       "      <td>0.05</td>\n",
       "      <td>0.33</td>\n",
       "      <td>0.04</td>\n",
       "      <td>0.48</td>\n",
       "      <td>0.05</td>\n",
       "    </tr>\n",
       "    <tr>\n",
       "      <th>Одежда, обувь, аксессуары</th>\n",
       "      <td>0.44</td>\n",
       "      <td>0.02</td>\n",
       "      <td>0.83</td>\n",
       "      <td>0.04</td>\n",
       "      <td>0.57</td>\n",
       "      <td>0.02</td>\n",
       "    </tr>\n",
       "    <tr>\n",
       "      <th>Бытовая техника</th>\n",
       "      <td>0.67</td>\n",
       "      <td>0.52</td>\n",
       "      <td>0.02</td>\n",
       "      <td>0.02</td>\n",
       "      <td>0.04</td>\n",
       "      <td>0.04</td>\n",
       "    </tr>\n",
       "    <tr>\n",
       "      <th>Детская одежда и обувь</th>\n",
       "      <td>0.64</td>\n",
       "      <td>0.03</td>\n",
       "      <td>0.70</td>\n",
       "      <td>0.05</td>\n",
       "      <td>0.66</td>\n",
       "      <td>0.02</td>\n",
       "    </tr>\n",
       "    <tr>\n",
       "      <th>Квартиры</th>\n",
       "      <td>0.87</td>\n",
       "      <td>0.03</td>\n",
       "      <td>0.96</td>\n",
       "      <td>0.03</td>\n",
       "      <td>0.91</td>\n",
       "      <td>0.02</td>\n",
       "    </tr>\n",
       "    <tr>\n",
       "      <th>Мебель и интерьер</th>\n",
       "      <td>0.75</td>\n",
       "      <td>0.13</td>\n",
       "      <td>0.12</td>\n",
       "      <td>0.08</td>\n",
       "      <td>0.19</td>\n",
       "      <td>0.11</td>\n",
       "    </tr>\n",
       "    <tr>\n",
       "      <th>Автомобили</th>\n",
       "      <td>0.89</td>\n",
       "      <td>0.04</td>\n",
       "      <td>0.77</td>\n",
       "      <td>0.04</td>\n",
       "      <td>0.82</td>\n",
       "      <td>0.02</td>\n",
       "    </tr>\n",
       "    <tr>\n",
       "      <th>Телефоны</th>\n",
       "      <td>0.90</td>\n",
       "      <td>0.04</td>\n",
       "      <td>0.31</td>\n",
       "      <td>0.04</td>\n",
       "      <td>0.46</td>\n",
       "      <td>0.04</td>\n",
       "    </tr>\n",
       "    <tr>\n",
       "      <th>mean</th>\n",
       "      <td>0.75</td>\n",
       "      <td>0.11</td>\n",
       "      <td>0.46</td>\n",
       "      <td>0.04</td>\n",
       "      <td>0.48</td>\n",
       "      <td>0.04</td>\n",
       "    </tr>\n",
       "  </tbody>\n",
       "</table>\n",
       "</div>\n",
       "      <button class=\"colab-df-convert\" onclick=\"convertToInteractive('df-5204b107-6d22-4033-81a4-6904fdccfdcf')\"\n",
       "              title=\"Convert this dataframe to an interactive table.\"\n",
       "              style=\"display:none;\">\n",
       "        \n",
       "  <svg xmlns=\"http://www.w3.org/2000/svg\" height=\"24px\"viewBox=\"0 0 24 24\"\n",
       "       width=\"24px\">\n",
       "    <path d=\"M0 0h24v24H0V0z\" fill=\"none\"/>\n",
       "    <path d=\"M18.56 5.44l.94 2.06.94-2.06 2.06-.94-2.06-.94-.94-2.06-.94 2.06-2.06.94zm-11 1L8.5 8.5l.94-2.06 2.06-.94-2.06-.94L8.5 2.5l-.94 2.06-2.06.94zm10 10l.94 2.06.94-2.06 2.06-.94-2.06-.94-.94-2.06-.94 2.06-2.06.94z\"/><path d=\"M17.41 7.96l-1.37-1.37c-.4-.4-.92-.59-1.43-.59-.52 0-1.04.2-1.43.59L10.3 9.45l-7.72 7.72c-.78.78-.78 2.05 0 2.83L4 21.41c.39.39.9.59 1.41.59.51 0 1.02-.2 1.41-.59l7.78-7.78 2.81-2.81c.8-.78.8-2.07 0-2.86zM5.41 20L4 18.59l7.72-7.72 1.47 1.35L5.41 20z\"/>\n",
       "  </svg>\n",
       "      </button>\n",
       "      \n",
       "  <style>\n",
       "    .colab-df-container {\n",
       "      display:flex;\n",
       "      flex-wrap:wrap;\n",
       "      gap: 12px;\n",
       "    }\n",
       "\n",
       "    .colab-df-convert {\n",
       "      background-color: #E8F0FE;\n",
       "      border: none;\n",
       "      border-radius: 50%;\n",
       "      cursor: pointer;\n",
       "      display: none;\n",
       "      fill: #1967D2;\n",
       "      height: 32px;\n",
       "      padding: 0 0 0 0;\n",
       "      width: 32px;\n",
       "    }\n",
       "\n",
       "    .colab-df-convert:hover {\n",
       "      background-color: #E2EBFA;\n",
       "      box-shadow: 0px 1px 2px rgba(60, 64, 67, 0.3), 0px 1px 3px 1px rgba(60, 64, 67, 0.15);\n",
       "      fill: #174EA6;\n",
       "    }\n",
       "\n",
       "    [theme=dark] .colab-df-convert {\n",
       "      background-color: #3B4455;\n",
       "      fill: #D2E3FC;\n",
       "    }\n",
       "\n",
       "    [theme=dark] .colab-df-convert:hover {\n",
       "      background-color: #434B5C;\n",
       "      box-shadow: 0px 1px 3px 1px rgba(0, 0, 0, 0.15);\n",
       "      filter: drop-shadow(0px 1px 2px rgba(0, 0, 0, 0.3));\n",
       "      fill: #FFFFFF;\n",
       "    }\n",
       "  </style>\n",
       "\n",
       "      <script>\n",
       "        const buttonEl =\n",
       "          document.querySelector('#df-5204b107-6d22-4033-81a4-6904fdccfdcf button.colab-df-convert');\n",
       "        buttonEl.style.display =\n",
       "          google.colab.kernel.accessAllowed ? 'block' : 'none';\n",
       "\n",
       "        async function convertToInteractive(key) {\n",
       "          const element = document.querySelector('#df-5204b107-6d22-4033-81a4-6904fdccfdcf');\n",
       "          const dataTable =\n",
       "            await google.colab.kernel.invokeFunction('convertToInteractive',\n",
       "                                                     [key], {});\n",
       "          if (!dataTable) return;\n",
       "\n",
       "          const docLinkHtml = 'Like what you see? Visit the ' +\n",
       "            '<a target=\"_blank\" href=https://colab.research.google.com/notebooks/data_table.ipynb>data table notebook</a>'\n",
       "            + ' to learn more about interactive tables.';\n",
       "          element.innerHTML = '';\n",
       "          dataTable['output_type'] = 'display_data';\n",
       "          await google.colab.output.renderOutput(dataTable, element);\n",
       "          const docLink = document.createElement('div');\n",
       "          docLink.innerHTML = docLinkHtml;\n",
       "          element.appendChild(docLink);\n",
       "        }\n",
       "      </script>\n",
       "    </div>\n",
       "  </div>\n",
       "  "
      ],
      "text/plain": [
       "                            precision  precision_std  ...    f1  f1_std\n",
       "Предложение услуг                0.72           0.07  ...  0.58    0.06\n",
       "Ремонт и строительство           0.75           0.17  ...  0.11    0.06\n",
       "Товары для детей и игрушки       0.88           0.05  ...  0.48    0.05\n",
       "Одежда, обувь, аксессуары        0.44           0.02  ...  0.57    0.02\n",
       "Бытовая техника                  0.67           0.52  ...  0.04    0.04\n",
       "Детская одежда и обувь           0.64           0.03  ...  0.66    0.02\n",
       "Квартиры                         0.87           0.03  ...  0.91    0.02\n",
       "Мебель и интерьер                0.75           0.13  ...  0.19    0.11\n",
       "Автомобили                       0.89           0.04  ...  0.82    0.02\n",
       "Телефоны                         0.90           0.04  ...  0.46    0.04\n",
       "mean                             0.75           0.11  ...  0.48    0.04\n",
       "\n",
       "[11 rows x 6 columns]"
      ]
     },
     "execution_count": 104,
     "metadata": {},
     "output_type": "execute_result"
    }
   ],
   "source": [
    "metrics_nmf_rfc"
   ]
  },
  {
   "cell_type": "markdown",
   "metadata": {
    "id": "PB3DZdhlDhVl"
   },
   "source": [
    "SGDClassifier"
   ]
  },
  {
   "cell_type": "code",
   "execution_count": null,
   "metadata": {
    "id": "SWGAskf0LEmC"
   },
   "outputs": [],
   "source": [
    "from sklearn.linear_model import SGDClassifier"
   ]
  },
  {
   "cell_type": "code",
   "execution_count": null,
   "metadata": {
    "id": "PqS3VsS6LHWM"
   },
   "outputs": [],
   "source": [
    "pipeline_svd_sgd = Pipeline([\n",
    "    ('bow', CountVectorizer(tokenizer=lambda x: x.split(), ngram_range=(1,2), min_df=5, max_df=0.4)),\n",
    "    ('svd', TruncatedSVD(500)),\n",
    "    ('clf', SGDClassifier())\n",
    "])\n",
    "\n",
    "pipeline_nmf_sgd = Pipeline([\n",
    "    ('bow', CountVectorizer(tokenizer=lambda x: x.split(), min_df=3, max_df=0.3)),\n",
    "    ('tfidf', TfidfTransformer()),\n",
    "    ('decomposition', NMF(100)),\n",
    "    ('clf', SGDClassifier())\n",
    "])"
   ]
  },
  {
   "cell_type": "code",
   "execution_count": null,
   "metadata": {
    "id": "RaGvFI3CLJCb"
   },
   "outputs": [],
   "source": [
    "metrics_svd_sgd, errors_svd_sgd = eval_table(data['description_norm'], data['category_name'], pipeline_svd_sgd)\n",
    "metrics_nmf_sgd, errors_nmf_sgd = eval_table(data['description_norm'], data['category_name'], pipeline_nmf_sgd)"
   ]
  },
  {
   "cell_type": "code",
   "execution_count": null,
   "metadata": {
    "colab": {
     "base_uri": "https://localhost:8080/",
     "height": 394
    },
    "id": "NrV22G2MLKgf",
    "outputId": "b3787fa7-8f25-45d0-9a4f-17af877ddf93"
   },
   "outputs": [
    {
     "data": {
      "text/html": [
       "\n",
       "  <div id=\"df-f230393e-3244-4756-8525-e3d5464021c1\">\n",
       "    <div class=\"colab-df-container\">\n",
       "      <div>\n",
       "<style scoped>\n",
       "    .dataframe tbody tr th:only-of-type {\n",
       "        vertical-align: middle;\n",
       "    }\n",
       "\n",
       "    .dataframe tbody tr th {\n",
       "        vertical-align: top;\n",
       "    }\n",
       "\n",
       "    .dataframe thead th {\n",
       "        text-align: right;\n",
       "    }\n",
       "</style>\n",
       "<table border=\"1\" class=\"dataframe\">\n",
       "  <thead>\n",
       "    <tr style=\"text-align: right;\">\n",
       "      <th></th>\n",
       "      <th>precision</th>\n",
       "      <th>precision_std</th>\n",
       "      <th>recall</th>\n",
       "      <th>recall_std</th>\n",
       "      <th>f1</th>\n",
       "      <th>f1_std</th>\n",
       "    </tr>\n",
       "  </thead>\n",
       "  <tbody>\n",
       "    <tr>\n",
       "      <th>Предложение услуг</th>\n",
       "      <td>0.77</td>\n",
       "      <td>0.02</td>\n",
       "      <td>0.74</td>\n",
       "      <td>0.05</td>\n",
       "      <td>0.76</td>\n",
       "      <td>0.02</td>\n",
       "    </tr>\n",
       "    <tr>\n",
       "      <th>Ремонт и строительство</th>\n",
       "      <td>0.55</td>\n",
       "      <td>0.03</td>\n",
       "      <td>0.54</td>\n",
       "      <td>0.07</td>\n",
       "      <td>0.54</td>\n",
       "      <td>0.03</td>\n",
       "    </tr>\n",
       "    <tr>\n",
       "      <th>Товары для детей и игрушки</th>\n",
       "      <td>0.73</td>\n",
       "      <td>0.03</td>\n",
       "      <td>0.66</td>\n",
       "      <td>0.03</td>\n",
       "      <td>0.69</td>\n",
       "      <td>0.02</td>\n",
       "    </tr>\n",
       "    <tr>\n",
       "      <th>Одежда, обувь, аксессуары</th>\n",
       "      <td>0.73</td>\n",
       "      <td>0.03</td>\n",
       "      <td>0.75</td>\n",
       "      <td>0.03</td>\n",
       "      <td>0.74</td>\n",
       "      <td>0.01</td>\n",
       "    </tr>\n",
       "    <tr>\n",
       "      <th>Бытовая техника</th>\n",
       "      <td>0.66</td>\n",
       "      <td>0.10</td>\n",
       "      <td>0.49</td>\n",
       "      <td>0.08</td>\n",
       "      <td>0.56</td>\n",
       "      <td>0.08</td>\n",
       "    </tr>\n",
       "    <tr>\n",
       "      <th>Детская одежда и обувь</th>\n",
       "      <td>0.74</td>\n",
       "      <td>0.03</td>\n",
       "      <td>0.79</td>\n",
       "      <td>0.03</td>\n",
       "      <td>0.76</td>\n",
       "      <td>0.01</td>\n",
       "    </tr>\n",
       "    <tr>\n",
       "      <th>Квартиры</th>\n",
       "      <td>0.96</td>\n",
       "      <td>0.02</td>\n",
       "      <td>0.96</td>\n",
       "      <td>0.02</td>\n",
       "      <td>0.96</td>\n",
       "      <td>0.01</td>\n",
       "    </tr>\n",
       "    <tr>\n",
       "      <th>Мебель и интерьер</th>\n",
       "      <td>0.70</td>\n",
       "      <td>0.07</td>\n",
       "      <td>0.63</td>\n",
       "      <td>0.04</td>\n",
       "      <td>0.66</td>\n",
       "      <td>0.03</td>\n",
       "    </tr>\n",
       "    <tr>\n",
       "      <th>Автомобили</th>\n",
       "      <td>0.87</td>\n",
       "      <td>0.03</td>\n",
       "      <td>0.90</td>\n",
       "      <td>0.02</td>\n",
       "      <td>0.88</td>\n",
       "      <td>0.01</td>\n",
       "    </tr>\n",
       "    <tr>\n",
       "      <th>Телефоны</th>\n",
       "      <td>0.81</td>\n",
       "      <td>0.06</td>\n",
       "      <td>0.79</td>\n",
       "      <td>0.05</td>\n",
       "      <td>0.80</td>\n",
       "      <td>0.04</td>\n",
       "    </tr>\n",
       "    <tr>\n",
       "      <th>mean</th>\n",
       "      <td>0.75</td>\n",
       "      <td>0.04</td>\n",
       "      <td>0.72</td>\n",
       "      <td>0.04</td>\n",
       "      <td>0.74</td>\n",
       "      <td>0.03</td>\n",
       "    </tr>\n",
       "  </tbody>\n",
       "</table>\n",
       "</div>\n",
       "      <button class=\"colab-df-convert\" onclick=\"convertToInteractive('df-f230393e-3244-4756-8525-e3d5464021c1')\"\n",
       "              title=\"Convert this dataframe to an interactive table.\"\n",
       "              style=\"display:none;\">\n",
       "        \n",
       "  <svg xmlns=\"http://www.w3.org/2000/svg\" height=\"24px\"viewBox=\"0 0 24 24\"\n",
       "       width=\"24px\">\n",
       "    <path d=\"M0 0h24v24H0V0z\" fill=\"none\"/>\n",
       "    <path d=\"M18.56 5.44l.94 2.06.94-2.06 2.06-.94-2.06-.94-.94-2.06-.94 2.06-2.06.94zm-11 1L8.5 8.5l.94-2.06 2.06-.94-2.06-.94L8.5 2.5l-.94 2.06-2.06.94zm10 10l.94 2.06.94-2.06 2.06-.94-2.06-.94-.94-2.06-.94 2.06-2.06.94z\"/><path d=\"M17.41 7.96l-1.37-1.37c-.4-.4-.92-.59-1.43-.59-.52 0-1.04.2-1.43.59L10.3 9.45l-7.72 7.72c-.78.78-.78 2.05 0 2.83L4 21.41c.39.39.9.59 1.41.59.51 0 1.02-.2 1.41-.59l7.78-7.78 2.81-2.81c.8-.78.8-2.07 0-2.86zM5.41 20L4 18.59l7.72-7.72 1.47 1.35L5.41 20z\"/>\n",
       "  </svg>\n",
       "      </button>\n",
       "      \n",
       "  <style>\n",
       "    .colab-df-container {\n",
       "      display:flex;\n",
       "      flex-wrap:wrap;\n",
       "      gap: 12px;\n",
       "    }\n",
       "\n",
       "    .colab-df-convert {\n",
       "      background-color: #E8F0FE;\n",
       "      border: none;\n",
       "      border-radius: 50%;\n",
       "      cursor: pointer;\n",
       "      display: none;\n",
       "      fill: #1967D2;\n",
       "      height: 32px;\n",
       "      padding: 0 0 0 0;\n",
       "      width: 32px;\n",
       "    }\n",
       "\n",
       "    .colab-df-convert:hover {\n",
       "      background-color: #E2EBFA;\n",
       "      box-shadow: 0px 1px 2px rgba(60, 64, 67, 0.3), 0px 1px 3px 1px rgba(60, 64, 67, 0.15);\n",
       "      fill: #174EA6;\n",
       "    }\n",
       "\n",
       "    [theme=dark] .colab-df-convert {\n",
       "      background-color: #3B4455;\n",
       "      fill: #D2E3FC;\n",
       "    }\n",
       "\n",
       "    [theme=dark] .colab-df-convert:hover {\n",
       "      background-color: #434B5C;\n",
       "      box-shadow: 0px 1px 3px 1px rgba(0, 0, 0, 0.15);\n",
       "      filter: drop-shadow(0px 1px 2px rgba(0, 0, 0, 0.3));\n",
       "      fill: #FFFFFF;\n",
       "    }\n",
       "  </style>\n",
       "\n",
       "      <script>\n",
       "        const buttonEl =\n",
       "          document.querySelector('#df-f230393e-3244-4756-8525-e3d5464021c1 button.colab-df-convert');\n",
       "        buttonEl.style.display =\n",
       "          google.colab.kernel.accessAllowed ? 'block' : 'none';\n",
       "\n",
       "        async function convertToInteractive(key) {\n",
       "          const element = document.querySelector('#df-f230393e-3244-4756-8525-e3d5464021c1');\n",
       "          const dataTable =\n",
       "            await google.colab.kernel.invokeFunction('convertToInteractive',\n",
       "                                                     [key], {});\n",
       "          if (!dataTable) return;\n",
       "\n",
       "          const docLinkHtml = 'Like what you see? Visit the ' +\n",
       "            '<a target=\"_blank\" href=https://colab.research.google.com/notebooks/data_table.ipynb>data table notebook</a>'\n",
       "            + ' to learn more about interactive tables.';\n",
       "          element.innerHTML = '';\n",
       "          dataTable['output_type'] = 'display_data';\n",
       "          await google.colab.output.renderOutput(dataTable, element);\n",
       "          const docLink = document.createElement('div');\n",
       "          docLink.innerHTML = docLinkHtml;\n",
       "          element.appendChild(docLink);\n",
       "        }\n",
       "      </script>\n",
       "    </div>\n",
       "  </div>\n",
       "  "
      ],
      "text/plain": [
       "                            precision  precision_std  ...    f1  f1_std\n",
       "Предложение услуг                0.77           0.02  ...  0.76    0.02\n",
       "Ремонт и строительство           0.55           0.03  ...  0.54    0.03\n",
       "Товары для детей и игрушки       0.73           0.03  ...  0.69    0.02\n",
       "Одежда, обувь, аксессуары        0.73           0.03  ...  0.74    0.01\n",
       "Бытовая техника                  0.66           0.10  ...  0.56    0.08\n",
       "Детская одежда и обувь           0.74           0.03  ...  0.76    0.01\n",
       "Квартиры                         0.96           0.02  ...  0.96    0.01\n",
       "Мебель и интерьер                0.70           0.07  ...  0.66    0.03\n",
       "Автомобили                       0.87           0.03  ...  0.88    0.01\n",
       "Телефоны                         0.81           0.06  ...  0.80    0.04\n",
       "mean                             0.75           0.04  ...  0.74    0.03\n",
       "\n",
       "[11 rows x 6 columns]"
      ]
     },
     "execution_count": 108,
     "metadata": {},
     "output_type": "execute_result"
    }
   ],
   "source": [
    "metrics_svd_sgd"
   ]
  },
  {
   "cell_type": "code",
   "execution_count": null,
   "metadata": {
    "colab": {
     "base_uri": "https://localhost:8080/",
     "height": 394
    },
    "id": "xhPU0lpHLR7-",
    "outputId": "e1194c2d-bb26-4312-9326-79909385cc42"
   },
   "outputs": [
    {
     "data": {
      "text/html": [
       "\n",
       "  <div id=\"df-2717d430-154f-4c6e-afe2-f5f0335412bd\">\n",
       "    <div class=\"colab-df-container\">\n",
       "      <div>\n",
       "<style scoped>\n",
       "    .dataframe tbody tr th:only-of-type {\n",
       "        vertical-align: middle;\n",
       "    }\n",
       "\n",
       "    .dataframe tbody tr th {\n",
       "        vertical-align: top;\n",
       "    }\n",
       "\n",
       "    .dataframe thead th {\n",
       "        text-align: right;\n",
       "    }\n",
       "</style>\n",
       "<table border=\"1\" class=\"dataframe\">\n",
       "  <thead>\n",
       "    <tr style=\"text-align: right;\">\n",
       "      <th></th>\n",
       "      <th>precision</th>\n",
       "      <th>precision_std</th>\n",
       "      <th>recall</th>\n",
       "      <th>recall_std</th>\n",
       "      <th>f1</th>\n",
       "      <th>f1_std</th>\n",
       "    </tr>\n",
       "  </thead>\n",
       "  <tbody>\n",
       "    <tr>\n",
       "      <th>Предложение услуг</th>\n",
       "      <td>0.62</td>\n",
       "      <td>0.15</td>\n",
       "      <td>0.43</td>\n",
       "      <td>0.20</td>\n",
       "      <td>0.46</td>\n",
       "      <td>0.14</td>\n",
       "    </tr>\n",
       "    <tr>\n",
       "      <th>Ремонт и строительство</th>\n",
       "      <td>0.30</td>\n",
       "      <td>0.20</td>\n",
       "      <td>0.22</td>\n",
       "      <td>0.27</td>\n",
       "      <td>0.17</td>\n",
       "      <td>0.14</td>\n",
       "    </tr>\n",
       "    <tr>\n",
       "      <th>Товары для детей и игрушки</th>\n",
       "      <td>0.79</td>\n",
       "      <td>0.08</td>\n",
       "      <td>0.39</td>\n",
       "      <td>0.09</td>\n",
       "      <td>0.51</td>\n",
       "      <td>0.07</td>\n",
       "    </tr>\n",
       "    <tr>\n",
       "      <th>Одежда, обувь, аксессуары</th>\n",
       "      <td>0.62</td>\n",
       "      <td>0.09</td>\n",
       "      <td>0.68</td>\n",
       "      <td>0.14</td>\n",
       "      <td>0.63</td>\n",
       "      <td>0.02</td>\n",
       "    </tr>\n",
       "    <tr>\n",
       "      <th>Бытовая техника</th>\n",
       "      <td>0.37</td>\n",
       "      <td>0.22</td>\n",
       "      <td>0.08</td>\n",
       "      <td>0.06</td>\n",
       "      <td>0.13</td>\n",
       "      <td>0.07</td>\n",
       "    </tr>\n",
       "    <tr>\n",
       "      <th>Детская одежда и обувь</th>\n",
       "      <td>0.63</td>\n",
       "      <td>0.08</td>\n",
       "      <td>0.67</td>\n",
       "      <td>0.09</td>\n",
       "      <td>0.64</td>\n",
       "      <td>0.02</td>\n",
       "    </tr>\n",
       "    <tr>\n",
       "      <th>Квартиры</th>\n",
       "      <td>0.81</td>\n",
       "      <td>0.09</td>\n",
       "      <td>0.96</td>\n",
       "      <td>0.02</td>\n",
       "      <td>0.88</td>\n",
       "      <td>0.05</td>\n",
       "    </tr>\n",
       "    <tr>\n",
       "      <th>Мебель и интерьер</th>\n",
       "      <td>0.57</td>\n",
       "      <td>0.15</td>\n",
       "      <td>0.40</td>\n",
       "      <td>0.11</td>\n",
       "      <td>0.45</td>\n",
       "      <td>0.08</td>\n",
       "    </tr>\n",
       "    <tr>\n",
       "      <th>Автомобили</th>\n",
       "      <td>0.72</td>\n",
       "      <td>0.16</td>\n",
       "      <td>0.61</td>\n",
       "      <td>0.22</td>\n",
       "      <td>0.62</td>\n",
       "      <td>0.09</td>\n",
       "    </tr>\n",
       "    <tr>\n",
       "      <th>Телефоны</th>\n",
       "      <td>0.62</td>\n",
       "      <td>0.25</td>\n",
       "      <td>0.62</td>\n",
       "      <td>0.23</td>\n",
       "      <td>0.54</td>\n",
       "      <td>0.15</td>\n",
       "    </tr>\n",
       "    <tr>\n",
       "      <th>mean</th>\n",
       "      <td>0.61</td>\n",
       "      <td>0.15</td>\n",
       "      <td>0.51</td>\n",
       "      <td>0.14</td>\n",
       "      <td>0.50</td>\n",
       "      <td>0.08</td>\n",
       "    </tr>\n",
       "  </tbody>\n",
       "</table>\n",
       "</div>\n",
       "      <button class=\"colab-df-convert\" onclick=\"convertToInteractive('df-2717d430-154f-4c6e-afe2-f5f0335412bd')\"\n",
       "              title=\"Convert this dataframe to an interactive table.\"\n",
       "              style=\"display:none;\">\n",
       "        \n",
       "  <svg xmlns=\"http://www.w3.org/2000/svg\" height=\"24px\"viewBox=\"0 0 24 24\"\n",
       "       width=\"24px\">\n",
       "    <path d=\"M0 0h24v24H0V0z\" fill=\"none\"/>\n",
       "    <path d=\"M18.56 5.44l.94 2.06.94-2.06 2.06-.94-2.06-.94-.94-2.06-.94 2.06-2.06.94zm-11 1L8.5 8.5l.94-2.06 2.06-.94-2.06-.94L8.5 2.5l-.94 2.06-2.06.94zm10 10l.94 2.06.94-2.06 2.06-.94-2.06-.94-.94-2.06-.94 2.06-2.06.94z\"/><path d=\"M17.41 7.96l-1.37-1.37c-.4-.4-.92-.59-1.43-.59-.52 0-1.04.2-1.43.59L10.3 9.45l-7.72 7.72c-.78.78-.78 2.05 0 2.83L4 21.41c.39.39.9.59 1.41.59.51 0 1.02-.2 1.41-.59l7.78-7.78 2.81-2.81c.8-.78.8-2.07 0-2.86zM5.41 20L4 18.59l7.72-7.72 1.47 1.35L5.41 20z\"/>\n",
       "  </svg>\n",
       "      </button>\n",
       "      \n",
       "  <style>\n",
       "    .colab-df-container {\n",
       "      display:flex;\n",
       "      flex-wrap:wrap;\n",
       "      gap: 12px;\n",
       "    }\n",
       "\n",
       "    .colab-df-convert {\n",
       "      background-color: #E8F0FE;\n",
       "      border: none;\n",
       "      border-radius: 50%;\n",
       "      cursor: pointer;\n",
       "      display: none;\n",
       "      fill: #1967D2;\n",
       "      height: 32px;\n",
       "      padding: 0 0 0 0;\n",
       "      width: 32px;\n",
       "    }\n",
       "\n",
       "    .colab-df-convert:hover {\n",
       "      background-color: #E2EBFA;\n",
       "      box-shadow: 0px 1px 2px rgba(60, 64, 67, 0.3), 0px 1px 3px 1px rgba(60, 64, 67, 0.15);\n",
       "      fill: #174EA6;\n",
       "    }\n",
       "\n",
       "    [theme=dark] .colab-df-convert {\n",
       "      background-color: #3B4455;\n",
       "      fill: #D2E3FC;\n",
       "    }\n",
       "\n",
       "    [theme=dark] .colab-df-convert:hover {\n",
       "      background-color: #434B5C;\n",
       "      box-shadow: 0px 1px 3px 1px rgba(0, 0, 0, 0.15);\n",
       "      filter: drop-shadow(0px 1px 2px rgba(0, 0, 0, 0.3));\n",
       "      fill: #FFFFFF;\n",
       "    }\n",
       "  </style>\n",
       "\n",
       "      <script>\n",
       "        const buttonEl =\n",
       "          document.querySelector('#df-2717d430-154f-4c6e-afe2-f5f0335412bd button.colab-df-convert');\n",
       "        buttonEl.style.display =\n",
       "          google.colab.kernel.accessAllowed ? 'block' : 'none';\n",
       "\n",
       "        async function convertToInteractive(key) {\n",
       "          const element = document.querySelector('#df-2717d430-154f-4c6e-afe2-f5f0335412bd');\n",
       "          const dataTable =\n",
       "            await google.colab.kernel.invokeFunction('convertToInteractive',\n",
       "                                                     [key], {});\n",
       "          if (!dataTable) return;\n",
       "\n",
       "          const docLinkHtml = 'Like what you see? Visit the ' +\n",
       "            '<a target=\"_blank\" href=https://colab.research.google.com/notebooks/data_table.ipynb>data table notebook</a>'\n",
       "            + ' to learn more about interactive tables.';\n",
       "          element.innerHTML = '';\n",
       "          dataTable['output_type'] = 'display_data';\n",
       "          await google.colab.output.renderOutput(dataTable, element);\n",
       "          const docLink = document.createElement('div');\n",
       "          docLink.innerHTML = docLinkHtml;\n",
       "          element.appendChild(docLink);\n",
       "        }\n",
       "      </script>\n",
       "    </div>\n",
       "  </div>\n",
       "  "
      ],
      "text/plain": [
       "                            precision  precision_std  ...    f1  f1_std\n",
       "Предложение услуг                0.62           0.15  ...  0.46    0.14\n",
       "Ремонт и строительство           0.30           0.20  ...  0.17    0.14\n",
       "Товары для детей и игрушки       0.79           0.08  ...  0.51    0.07\n",
       "Одежда, обувь, аксессуары        0.62           0.09  ...  0.63    0.02\n",
       "Бытовая техника                  0.37           0.22  ...  0.13    0.07\n",
       "Детская одежда и обувь           0.63           0.08  ...  0.64    0.02\n",
       "Квартиры                         0.81           0.09  ...  0.88    0.05\n",
       "Мебель и интерьер                0.57           0.15  ...  0.45    0.08\n",
       "Автомобили                       0.72           0.16  ...  0.62    0.09\n",
       "Телефоны                         0.62           0.25  ...  0.54    0.15\n",
       "mean                             0.61           0.15  ...  0.50    0.08\n",
       "\n",
       "[11 rows x 6 columns]"
      ]
     },
     "execution_count": 109,
     "metadata": {},
     "output_type": "execute_result"
    }
   ],
   "source": [
    "metrics_nmf_sgd"
   ]
  },
  {
   "cell_type": "markdown",
   "metadata": {
    "id": "R4O1Y1GtABts"
   },
   "source": [
    "KNeighborsClassifier"
   ]
  },
  {
   "cell_type": "code",
   "execution_count": null,
   "metadata": {
    "id": "MyLcwMOJ_zsa"
   },
   "outputs": [],
   "source": [
    "from sklearn.neighbors import KNeighborsClassifier"
   ]
  },
  {
   "cell_type": "code",
   "execution_count": null,
   "metadata": {
    "id": "Aii4_D5T_zsa"
   },
   "outputs": [],
   "source": [
    "pipeline_svd_knc = Pipeline([\n",
    "    ('bow', CountVectorizer(tokenizer=lambda x: x.split(), ngram_range=(1,2), min_df=5, max_df=0.4)),\n",
    "    ('svd', TruncatedSVD(500)),\n",
    "    ('clf', KNeighborsClassifier())\n",
    "])\n",
    "\n",
    "pipeline_nmf_knc = Pipeline([\n",
    "    ('bow', CountVectorizer(tokenizer=lambda x: x.split(), min_df=3, max_df=0.3)),\n",
    "    ('tfidf', TfidfTransformer()),\n",
    "    ('decomposition', NMF(100)),\n",
    "    ('clf', KNeighborsClassifier())\n",
    "])"
   ]
  },
  {
   "cell_type": "code",
   "execution_count": null,
   "metadata": {
    "id": "xAwsWGk7_zsb"
   },
   "outputs": [],
   "source": [
    "metrics_svd_knc, errors_svd_knc = eval_table(data['description_norm'], data['category_name'], pipeline_svd_knc)\n",
    "metrics_nmf_knc, errors_nmf_knc = eval_table(data['description_norm'], data['category_name'], pipeline_nmf_knc)"
   ]
  },
  {
   "cell_type": "code",
   "execution_count": null,
   "metadata": {
    "colab": {
     "base_uri": "https://localhost:8080/",
     "height": 394
    },
    "id": "_X_J9kaA_zsb",
    "outputId": "688e49ca-5d22-48d3-dda1-6daf4ec11dd4"
   },
   "outputs": [
    {
     "data": {
      "text/html": [
       "\n",
       "  <div id=\"df-09ae67ff-1feb-41cb-8534-272ebe069c21\">\n",
       "    <div class=\"colab-df-container\">\n",
       "      <div>\n",
       "<style scoped>\n",
       "    .dataframe tbody tr th:only-of-type {\n",
       "        vertical-align: middle;\n",
       "    }\n",
       "\n",
       "    .dataframe tbody tr th {\n",
       "        vertical-align: top;\n",
       "    }\n",
       "\n",
       "    .dataframe thead th {\n",
       "        text-align: right;\n",
       "    }\n",
       "</style>\n",
       "<table border=\"1\" class=\"dataframe\">\n",
       "  <thead>\n",
       "    <tr style=\"text-align: right;\">\n",
       "      <th></th>\n",
       "      <th>precision</th>\n",
       "      <th>precision_std</th>\n",
       "      <th>recall</th>\n",
       "      <th>recall_std</th>\n",
       "      <th>f1</th>\n",
       "      <th>f1_std</th>\n",
       "    </tr>\n",
       "  </thead>\n",
       "  <tbody>\n",
       "    <tr>\n",
       "      <th>Предложение услуг</th>\n",
       "      <td>0.58</td>\n",
       "      <td>0.04</td>\n",
       "      <td>0.58</td>\n",
       "      <td>0.04</td>\n",
       "      <td>0.58</td>\n",
       "      <td>0.03</td>\n",
       "    </tr>\n",
       "    <tr>\n",
       "      <th>Ремонт и строительство</th>\n",
       "      <td>0.26</td>\n",
       "      <td>0.08</td>\n",
       "      <td>0.16</td>\n",
       "      <td>0.06</td>\n",
       "      <td>0.20</td>\n",
       "      <td>0.06</td>\n",
       "    </tr>\n",
       "    <tr>\n",
       "      <th>Товары для детей и игрушки</th>\n",
       "      <td>0.54</td>\n",
       "      <td>0.06</td>\n",
       "      <td>0.25</td>\n",
       "      <td>0.03</td>\n",
       "      <td>0.34</td>\n",
       "      <td>0.04</td>\n",
       "    </tr>\n",
       "    <tr>\n",
       "      <th>Одежда, обувь, аксессуары</th>\n",
       "      <td>0.47</td>\n",
       "      <td>0.01</td>\n",
       "      <td>0.58</td>\n",
       "      <td>0.03</td>\n",
       "      <td>0.52</td>\n",
       "      <td>0.02</td>\n",
       "    </tr>\n",
       "    <tr>\n",
       "      <th>Бытовая техника</th>\n",
       "      <td>0.27</td>\n",
       "      <td>0.06</td>\n",
       "      <td>0.27</td>\n",
       "      <td>0.07</td>\n",
       "      <td>0.27</td>\n",
       "      <td>0.06</td>\n",
       "    </tr>\n",
       "    <tr>\n",
       "      <th>Детская одежда и обувь</th>\n",
       "      <td>0.48</td>\n",
       "      <td>0.01</td>\n",
       "      <td>0.62</td>\n",
       "      <td>0.02</td>\n",
       "      <td>0.54</td>\n",
       "      <td>0.01</td>\n",
       "    </tr>\n",
       "    <tr>\n",
       "      <th>Квартиры</th>\n",
       "      <td>0.94</td>\n",
       "      <td>0.01</td>\n",
       "      <td>0.71</td>\n",
       "      <td>0.04</td>\n",
       "      <td>0.81</td>\n",
       "      <td>0.03</td>\n",
       "    </tr>\n",
       "    <tr>\n",
       "      <th>Мебель и интерьер</th>\n",
       "      <td>0.36</td>\n",
       "      <td>0.06</td>\n",
       "      <td>0.28</td>\n",
       "      <td>0.05</td>\n",
       "      <td>0.31</td>\n",
       "      <td>0.05</td>\n",
       "    </tr>\n",
       "    <tr>\n",
       "      <th>Автомобили</th>\n",
       "      <td>0.53</td>\n",
       "      <td>0.04</td>\n",
       "      <td>0.59</td>\n",
       "      <td>0.04</td>\n",
       "      <td>0.56</td>\n",
       "      <td>0.04</td>\n",
       "    </tr>\n",
       "    <tr>\n",
       "      <th>Телефоны</th>\n",
       "      <td>0.68</td>\n",
       "      <td>0.05</td>\n",
       "      <td>0.32</td>\n",
       "      <td>0.03</td>\n",
       "      <td>0.44</td>\n",
       "      <td>0.03</td>\n",
       "    </tr>\n",
       "    <tr>\n",
       "      <th>mean</th>\n",
       "      <td>0.51</td>\n",
       "      <td>0.04</td>\n",
       "      <td>0.44</td>\n",
       "      <td>0.04</td>\n",
       "      <td>0.46</td>\n",
       "      <td>0.04</td>\n",
       "    </tr>\n",
       "  </tbody>\n",
       "</table>\n",
       "</div>\n",
       "      <button class=\"colab-df-convert\" onclick=\"convertToInteractive('df-09ae67ff-1feb-41cb-8534-272ebe069c21')\"\n",
       "              title=\"Convert this dataframe to an interactive table.\"\n",
       "              style=\"display:none;\">\n",
       "        \n",
       "  <svg xmlns=\"http://www.w3.org/2000/svg\" height=\"24px\"viewBox=\"0 0 24 24\"\n",
       "       width=\"24px\">\n",
       "    <path d=\"M0 0h24v24H0V0z\" fill=\"none\"/>\n",
       "    <path d=\"M18.56 5.44l.94 2.06.94-2.06 2.06-.94-2.06-.94-.94-2.06-.94 2.06-2.06.94zm-11 1L8.5 8.5l.94-2.06 2.06-.94-2.06-.94L8.5 2.5l-.94 2.06-2.06.94zm10 10l.94 2.06.94-2.06 2.06-.94-2.06-.94-.94-2.06-.94 2.06-2.06.94z\"/><path d=\"M17.41 7.96l-1.37-1.37c-.4-.4-.92-.59-1.43-.59-.52 0-1.04.2-1.43.59L10.3 9.45l-7.72 7.72c-.78.78-.78 2.05 0 2.83L4 21.41c.39.39.9.59 1.41.59.51 0 1.02-.2 1.41-.59l7.78-7.78 2.81-2.81c.8-.78.8-2.07 0-2.86zM5.41 20L4 18.59l7.72-7.72 1.47 1.35L5.41 20z\"/>\n",
       "  </svg>\n",
       "      </button>\n",
       "      \n",
       "  <style>\n",
       "    .colab-df-container {\n",
       "      display:flex;\n",
       "      flex-wrap:wrap;\n",
       "      gap: 12px;\n",
       "    }\n",
       "\n",
       "    .colab-df-convert {\n",
       "      background-color: #E8F0FE;\n",
       "      border: none;\n",
       "      border-radius: 50%;\n",
       "      cursor: pointer;\n",
       "      display: none;\n",
       "      fill: #1967D2;\n",
       "      height: 32px;\n",
       "      padding: 0 0 0 0;\n",
       "      width: 32px;\n",
       "    }\n",
       "\n",
       "    .colab-df-convert:hover {\n",
       "      background-color: #E2EBFA;\n",
       "      box-shadow: 0px 1px 2px rgba(60, 64, 67, 0.3), 0px 1px 3px 1px rgba(60, 64, 67, 0.15);\n",
       "      fill: #174EA6;\n",
       "    }\n",
       "\n",
       "    [theme=dark] .colab-df-convert {\n",
       "      background-color: #3B4455;\n",
       "      fill: #D2E3FC;\n",
       "    }\n",
       "\n",
       "    [theme=dark] .colab-df-convert:hover {\n",
       "      background-color: #434B5C;\n",
       "      box-shadow: 0px 1px 3px 1px rgba(0, 0, 0, 0.15);\n",
       "      filter: drop-shadow(0px 1px 2px rgba(0, 0, 0, 0.3));\n",
       "      fill: #FFFFFF;\n",
       "    }\n",
       "  </style>\n",
       "\n",
       "      <script>\n",
       "        const buttonEl =\n",
       "          document.querySelector('#df-09ae67ff-1feb-41cb-8534-272ebe069c21 button.colab-df-convert');\n",
       "        buttonEl.style.display =\n",
       "          google.colab.kernel.accessAllowed ? 'block' : 'none';\n",
       "\n",
       "        async function convertToInteractive(key) {\n",
       "          const element = document.querySelector('#df-09ae67ff-1feb-41cb-8534-272ebe069c21');\n",
       "          const dataTable =\n",
       "            await google.colab.kernel.invokeFunction('convertToInteractive',\n",
       "                                                     [key], {});\n",
       "          if (!dataTable) return;\n",
       "\n",
       "          const docLinkHtml = 'Like what you see? Visit the ' +\n",
       "            '<a target=\"_blank\" href=https://colab.research.google.com/notebooks/data_table.ipynb>data table notebook</a>'\n",
       "            + ' to learn more about interactive tables.';\n",
       "          element.innerHTML = '';\n",
       "          dataTable['output_type'] = 'display_data';\n",
       "          await google.colab.output.renderOutput(dataTable, element);\n",
       "          const docLink = document.createElement('div');\n",
       "          docLink.innerHTML = docLinkHtml;\n",
       "          element.appendChild(docLink);\n",
       "        }\n",
       "      </script>\n",
       "    </div>\n",
       "  </div>\n",
       "  "
      ],
      "text/plain": [
       "                            precision  precision_std  ...    f1  f1_std\n",
       "Предложение услуг                0.58           0.04  ...  0.58    0.03\n",
       "Ремонт и строительство           0.26           0.08  ...  0.20    0.06\n",
       "Товары для детей и игрушки       0.54           0.06  ...  0.34    0.04\n",
       "Одежда, обувь, аксессуары        0.47           0.01  ...  0.52    0.02\n",
       "Бытовая техника                  0.27           0.06  ...  0.27    0.06\n",
       "Детская одежда и обувь           0.48           0.01  ...  0.54    0.01\n",
       "Квартиры                         0.94           0.01  ...  0.81    0.03\n",
       "Мебель и интерьер                0.36           0.06  ...  0.31    0.05\n",
       "Автомобили                       0.53           0.04  ...  0.56    0.04\n",
       "Телефоны                         0.68           0.05  ...  0.44    0.03\n",
       "mean                             0.51           0.04  ...  0.46    0.04\n",
       "\n",
       "[11 rows x 6 columns]"
      ]
     },
     "execution_count": 114,
     "metadata": {},
     "output_type": "execute_result"
    }
   ],
   "source": [
    "metrics_svd_knc"
   ]
  },
  {
   "cell_type": "code",
   "execution_count": null,
   "metadata": {
    "colab": {
     "base_uri": "https://localhost:8080/",
     "height": 394
    },
    "id": "5uTcs3dK_zsb",
    "outputId": "c8c91c78-5085-4a39-d609-a24fb62898df"
   },
   "outputs": [
    {
     "data": {
      "text/html": [
       "\n",
       "  <div id=\"df-ed69f6ff-d9ed-49fc-b4a7-d954d3ca9d00\">\n",
       "    <div class=\"colab-df-container\">\n",
       "      <div>\n",
       "<style scoped>\n",
       "    .dataframe tbody tr th:only-of-type {\n",
       "        vertical-align: middle;\n",
       "    }\n",
       "\n",
       "    .dataframe tbody tr th {\n",
       "        vertical-align: top;\n",
       "    }\n",
       "\n",
       "    .dataframe thead th {\n",
       "        text-align: right;\n",
       "    }\n",
       "</style>\n",
       "<table border=\"1\" class=\"dataframe\">\n",
       "  <thead>\n",
       "    <tr style=\"text-align: right;\">\n",
       "      <th></th>\n",
       "      <th>precision</th>\n",
       "      <th>precision_std</th>\n",
       "      <th>recall</th>\n",
       "      <th>recall_std</th>\n",
       "      <th>f1</th>\n",
       "      <th>f1_std</th>\n",
       "    </tr>\n",
       "  </thead>\n",
       "  <tbody>\n",
       "    <tr>\n",
       "      <th>Предложение услуг</th>\n",
       "      <td>0.45</td>\n",
       "      <td>0.05</td>\n",
       "      <td>0.68</td>\n",
       "      <td>0.05</td>\n",
       "      <td>0.54</td>\n",
       "      <td>0.05</td>\n",
       "    </tr>\n",
       "    <tr>\n",
       "      <th>Ремонт и строительство</th>\n",
       "      <td>0.27</td>\n",
       "      <td>0.03</td>\n",
       "      <td>0.24</td>\n",
       "      <td>0.03</td>\n",
       "      <td>0.25</td>\n",
       "      <td>0.02</td>\n",
       "    </tr>\n",
       "    <tr>\n",
       "      <th>Товары для детей и игрушки</th>\n",
       "      <td>0.51</td>\n",
       "      <td>0.06</td>\n",
       "      <td>0.35</td>\n",
       "      <td>0.04</td>\n",
       "      <td>0.42</td>\n",
       "      <td>0.04</td>\n",
       "    </tr>\n",
       "    <tr>\n",
       "      <th>Одежда, обувь, аксессуары</th>\n",
       "      <td>0.54</td>\n",
       "      <td>0.02</td>\n",
       "      <td>0.54</td>\n",
       "      <td>0.05</td>\n",
       "      <td>0.54</td>\n",
       "      <td>0.03</td>\n",
       "    </tr>\n",
       "    <tr>\n",
       "      <th>Бытовая техника</th>\n",
       "      <td>0.20</td>\n",
       "      <td>0.03</td>\n",
       "      <td>0.28</td>\n",
       "      <td>0.05</td>\n",
       "      <td>0.23</td>\n",
       "      <td>0.03</td>\n",
       "    </tr>\n",
       "    <tr>\n",
       "      <th>Детская одежда и обувь</th>\n",
       "      <td>0.54</td>\n",
       "      <td>0.03</td>\n",
       "      <td>0.53</td>\n",
       "      <td>0.03</td>\n",
       "      <td>0.53</td>\n",
       "      <td>0.02</td>\n",
       "    </tr>\n",
       "    <tr>\n",
       "      <th>Квартиры</th>\n",
       "      <td>0.90</td>\n",
       "      <td>0.04</td>\n",
       "      <td>0.84</td>\n",
       "      <td>0.04</td>\n",
       "      <td>0.87</td>\n",
       "      <td>0.03</td>\n",
       "    </tr>\n",
       "    <tr>\n",
       "      <th>Мебель и интерьер</th>\n",
       "      <td>0.42</td>\n",
       "      <td>0.09</td>\n",
       "      <td>0.32</td>\n",
       "      <td>0.06</td>\n",
       "      <td>0.36</td>\n",
       "      <td>0.07</td>\n",
       "    </tr>\n",
       "    <tr>\n",
       "      <th>Автомобили</th>\n",
       "      <td>0.52</td>\n",
       "      <td>0.04</td>\n",
       "      <td>0.72</td>\n",
       "      <td>0.03</td>\n",
       "      <td>0.60</td>\n",
       "      <td>0.03</td>\n",
       "    </tr>\n",
       "    <tr>\n",
       "      <th>Телефоны</th>\n",
       "      <td>0.65</td>\n",
       "      <td>0.07</td>\n",
       "      <td>0.45</td>\n",
       "      <td>0.08</td>\n",
       "      <td>0.53</td>\n",
       "      <td>0.06</td>\n",
       "    </tr>\n",
       "    <tr>\n",
       "      <th>mean</th>\n",
       "      <td>0.50</td>\n",
       "      <td>0.05</td>\n",
       "      <td>0.50</td>\n",
       "      <td>0.05</td>\n",
       "      <td>0.49</td>\n",
       "      <td>0.04</td>\n",
       "    </tr>\n",
       "  </tbody>\n",
       "</table>\n",
       "</div>\n",
       "      <button class=\"colab-df-convert\" onclick=\"convertToInteractive('df-ed69f6ff-d9ed-49fc-b4a7-d954d3ca9d00')\"\n",
       "              title=\"Convert this dataframe to an interactive table.\"\n",
       "              style=\"display:none;\">\n",
       "        \n",
       "  <svg xmlns=\"http://www.w3.org/2000/svg\" height=\"24px\"viewBox=\"0 0 24 24\"\n",
       "       width=\"24px\">\n",
       "    <path d=\"M0 0h24v24H0V0z\" fill=\"none\"/>\n",
       "    <path d=\"M18.56 5.44l.94 2.06.94-2.06 2.06-.94-2.06-.94-.94-2.06-.94 2.06-2.06.94zm-11 1L8.5 8.5l.94-2.06 2.06-.94-2.06-.94L8.5 2.5l-.94 2.06-2.06.94zm10 10l.94 2.06.94-2.06 2.06-.94-2.06-.94-.94-2.06-.94 2.06-2.06.94z\"/><path d=\"M17.41 7.96l-1.37-1.37c-.4-.4-.92-.59-1.43-.59-.52 0-1.04.2-1.43.59L10.3 9.45l-7.72 7.72c-.78.78-.78 2.05 0 2.83L4 21.41c.39.39.9.59 1.41.59.51 0 1.02-.2 1.41-.59l7.78-7.78 2.81-2.81c.8-.78.8-2.07 0-2.86zM5.41 20L4 18.59l7.72-7.72 1.47 1.35L5.41 20z\"/>\n",
       "  </svg>\n",
       "      </button>\n",
       "      \n",
       "  <style>\n",
       "    .colab-df-container {\n",
       "      display:flex;\n",
       "      flex-wrap:wrap;\n",
       "      gap: 12px;\n",
       "    }\n",
       "\n",
       "    .colab-df-convert {\n",
       "      background-color: #E8F0FE;\n",
       "      border: none;\n",
       "      border-radius: 50%;\n",
       "      cursor: pointer;\n",
       "      display: none;\n",
       "      fill: #1967D2;\n",
       "      height: 32px;\n",
       "      padding: 0 0 0 0;\n",
       "      width: 32px;\n",
       "    }\n",
       "\n",
       "    .colab-df-convert:hover {\n",
       "      background-color: #E2EBFA;\n",
       "      box-shadow: 0px 1px 2px rgba(60, 64, 67, 0.3), 0px 1px 3px 1px rgba(60, 64, 67, 0.15);\n",
       "      fill: #174EA6;\n",
       "    }\n",
       "\n",
       "    [theme=dark] .colab-df-convert {\n",
       "      background-color: #3B4455;\n",
       "      fill: #D2E3FC;\n",
       "    }\n",
       "\n",
       "    [theme=dark] .colab-df-convert:hover {\n",
       "      background-color: #434B5C;\n",
       "      box-shadow: 0px 1px 3px 1px rgba(0, 0, 0, 0.15);\n",
       "      filter: drop-shadow(0px 1px 2px rgba(0, 0, 0, 0.3));\n",
       "      fill: #FFFFFF;\n",
       "    }\n",
       "  </style>\n",
       "\n",
       "      <script>\n",
       "        const buttonEl =\n",
       "          document.querySelector('#df-ed69f6ff-d9ed-49fc-b4a7-d954d3ca9d00 button.colab-df-convert');\n",
       "        buttonEl.style.display =\n",
       "          google.colab.kernel.accessAllowed ? 'block' : 'none';\n",
       "\n",
       "        async function convertToInteractive(key) {\n",
       "          const element = document.querySelector('#df-ed69f6ff-d9ed-49fc-b4a7-d954d3ca9d00');\n",
       "          const dataTable =\n",
       "            await google.colab.kernel.invokeFunction('convertToInteractive',\n",
       "                                                     [key], {});\n",
       "          if (!dataTable) return;\n",
       "\n",
       "          const docLinkHtml = 'Like what you see? Visit the ' +\n",
       "            '<a target=\"_blank\" href=https://colab.research.google.com/notebooks/data_table.ipynb>data table notebook</a>'\n",
       "            + ' to learn more about interactive tables.';\n",
       "          element.innerHTML = '';\n",
       "          dataTable['output_type'] = 'display_data';\n",
       "          await google.colab.output.renderOutput(dataTable, element);\n",
       "          const docLink = document.createElement('div');\n",
       "          docLink.innerHTML = docLinkHtml;\n",
       "          element.appendChild(docLink);\n",
       "        }\n",
       "      </script>\n",
       "    </div>\n",
       "  </div>\n",
       "  "
      ],
      "text/plain": [
       "                            precision  precision_std  ...    f1  f1_std\n",
       "Предложение услуг                0.45           0.05  ...  0.54    0.05\n",
       "Ремонт и строительство           0.27           0.03  ...  0.25    0.02\n",
       "Товары для детей и игрушки       0.51           0.06  ...  0.42    0.04\n",
       "Одежда, обувь, аксессуары        0.54           0.02  ...  0.54    0.03\n",
       "Бытовая техника                  0.20           0.03  ...  0.23    0.03\n",
       "Детская одежда и обувь           0.54           0.03  ...  0.53    0.02\n",
       "Квартиры                         0.90           0.04  ...  0.87    0.03\n",
       "Мебель и интерьер                0.42           0.09  ...  0.36    0.07\n",
       "Автомобили                       0.52           0.04  ...  0.60    0.03\n",
       "Телефоны                         0.65           0.07  ...  0.53    0.06\n",
       "mean                             0.50           0.05  ...  0.49    0.04\n",
       "\n",
       "[11 rows x 6 columns]"
      ]
     },
     "execution_count": 115,
     "metadata": {},
     "output_type": "execute_result"
    }
   ],
   "source": [
    "metrics_nmf_knc"
   ]
  },
  {
   "cell_type": "markdown",
   "metadata": {
    "id": "Fu0EbqQIAGSH"
   },
   "source": [
    "ExtraTreesClassifier"
   ]
  },
  {
   "cell_type": "code",
   "execution_count": null,
   "metadata": {
    "id": "XUfwUDOeAGSI"
   },
   "outputs": [],
   "source": [
    "from sklearn.ensemble import ExtraTreesClassifier"
   ]
  },
  {
   "cell_type": "code",
   "execution_count": null,
   "metadata": {
    "id": "b-ZKOYIUAGSI"
   },
   "outputs": [],
   "source": [
    "pipeline_svd_etc = Pipeline([\n",
    "    ('bow', CountVectorizer(tokenizer=lambda x: x.split(), ngram_range=(1,2), min_df=5, max_df=0.4)),\n",
    "    ('svd', TruncatedSVD(500)),\n",
    "    ('clf', ExtraTreesClassifier())\n",
    "])\n",
    "\n",
    "pipeline_nmf_etc = Pipeline([\n",
    "    ('bow', CountVectorizer(tokenizer=lambda x: x.split(), min_df=3, max_df=0.3)),\n",
    "    ('tfidf', TfidfTransformer()),\n",
    "    ('decomposition', NMF(100)),\n",
    "    ('clf', ExtraTreesClassifier())\n",
    "])"
   ]
  },
  {
   "cell_type": "code",
   "execution_count": null,
   "metadata": {
    "id": "2hH0DokSAGSI"
   },
   "outputs": [],
   "source": [
    "metrics_svd_etc, errors_svd_etc = eval_table(data['description_norm'], data['category_name'], pipeline_svd_etc)\n",
    "metrics_nmf_etc, errors_nmf_etc = eval_table(data['description_norm'], data['category_name'], pipeline_nmf_etc)"
   ]
  },
  {
   "cell_type": "code",
   "execution_count": null,
   "metadata": {
    "colab": {
     "base_uri": "https://localhost:8080/",
     "height": 394
    },
    "id": "x8ilVqcaAGSJ",
    "outputId": "50015608-c453-40a7-d9de-1bcb2c4170c9"
   },
   "outputs": [
    {
     "data": {
      "text/html": [
       "\n",
       "  <div id=\"df-3aa15475-62cb-4278-8ef8-186a4ff3411a\">\n",
       "    <div class=\"colab-df-container\">\n",
       "      <div>\n",
       "<style scoped>\n",
       "    .dataframe tbody tr th:only-of-type {\n",
       "        vertical-align: middle;\n",
       "    }\n",
       "\n",
       "    .dataframe tbody tr th {\n",
       "        vertical-align: top;\n",
       "    }\n",
       "\n",
       "    .dataframe thead th {\n",
       "        text-align: right;\n",
       "    }\n",
       "</style>\n",
       "<table border=\"1\" class=\"dataframe\">\n",
       "  <thead>\n",
       "    <tr style=\"text-align: right;\">\n",
       "      <th></th>\n",
       "      <th>precision</th>\n",
       "      <th>precision_std</th>\n",
       "      <th>recall</th>\n",
       "      <th>recall_std</th>\n",
       "      <th>f1</th>\n",
       "      <th>f1_std</th>\n",
       "    </tr>\n",
       "  </thead>\n",
       "  <tbody>\n",
       "    <tr>\n",
       "      <th>Предложение услуг</th>\n",
       "      <td>0.86</td>\n",
       "      <td>0.06</td>\n",
       "      <td>0.27</td>\n",
       "      <td>0.04</td>\n",
       "      <td>0.42</td>\n",
       "      <td>0.06</td>\n",
       "    </tr>\n",
       "    <tr>\n",
       "      <th>Ремонт и строительство</th>\n",
       "      <td>0.59</td>\n",
       "      <td>0.11</td>\n",
       "      <td>0.08</td>\n",
       "      <td>0.03</td>\n",
       "      <td>0.14</td>\n",
       "      <td>0.05</td>\n",
       "    </tr>\n",
       "    <tr>\n",
       "      <th>Товары для детей и игрушки</th>\n",
       "      <td>0.67</td>\n",
       "      <td>0.09</td>\n",
       "      <td>0.16</td>\n",
       "      <td>0.02</td>\n",
       "      <td>0.26</td>\n",
       "      <td>0.03</td>\n",
       "    </tr>\n",
       "    <tr>\n",
       "      <th>Одежда, обувь, аксессуары</th>\n",
       "      <td>0.46</td>\n",
       "      <td>0.01</td>\n",
       "      <td>0.71</td>\n",
       "      <td>0.02</td>\n",
       "      <td>0.56</td>\n",
       "      <td>0.01</td>\n",
       "    </tr>\n",
       "    <tr>\n",
       "      <th>Бытовая техника</th>\n",
       "      <td>0.55</td>\n",
       "      <td>0.16</td>\n",
       "      <td>0.14</td>\n",
       "      <td>0.05</td>\n",
       "      <td>0.22</td>\n",
       "      <td>0.07</td>\n",
       "    </tr>\n",
       "    <tr>\n",
       "      <th>Детская одежда и обувь</th>\n",
       "      <td>0.44</td>\n",
       "      <td>0.02</td>\n",
       "      <td>0.72</td>\n",
       "      <td>0.02</td>\n",
       "      <td>0.55</td>\n",
       "      <td>0.02</td>\n",
       "    </tr>\n",
       "    <tr>\n",
       "      <th>Квартиры</th>\n",
       "      <td>0.71</td>\n",
       "      <td>0.02</td>\n",
       "      <td>0.77</td>\n",
       "      <td>0.04</td>\n",
       "      <td>0.74</td>\n",
       "      <td>0.02</td>\n",
       "    </tr>\n",
       "    <tr>\n",
       "      <th>Мебель и интерьер</th>\n",
       "      <td>0.80</td>\n",
       "      <td>0.13</td>\n",
       "      <td>0.13</td>\n",
       "      <td>0.04</td>\n",
       "      <td>0.23</td>\n",
       "      <td>0.06</td>\n",
       "    </tr>\n",
       "    <tr>\n",
       "      <th>Автомобили</th>\n",
       "      <td>0.81</td>\n",
       "      <td>0.05</td>\n",
       "      <td>0.42</td>\n",
       "      <td>0.03</td>\n",
       "      <td>0.55</td>\n",
       "      <td>0.03</td>\n",
       "    </tr>\n",
       "    <tr>\n",
       "      <th>Телефоны</th>\n",
       "      <td>0.90</td>\n",
       "      <td>0.06</td>\n",
       "      <td>0.32</td>\n",
       "      <td>0.05</td>\n",
       "      <td>0.47</td>\n",
       "      <td>0.05</td>\n",
       "    </tr>\n",
       "    <tr>\n",
       "      <th>mean</th>\n",
       "      <td>0.68</td>\n",
       "      <td>0.07</td>\n",
       "      <td>0.37</td>\n",
       "      <td>0.03</td>\n",
       "      <td>0.41</td>\n",
       "      <td>0.04</td>\n",
       "    </tr>\n",
       "  </tbody>\n",
       "</table>\n",
       "</div>\n",
       "      <button class=\"colab-df-convert\" onclick=\"convertToInteractive('df-3aa15475-62cb-4278-8ef8-186a4ff3411a')\"\n",
       "              title=\"Convert this dataframe to an interactive table.\"\n",
       "              style=\"display:none;\">\n",
       "        \n",
       "  <svg xmlns=\"http://www.w3.org/2000/svg\" height=\"24px\"viewBox=\"0 0 24 24\"\n",
       "       width=\"24px\">\n",
       "    <path d=\"M0 0h24v24H0V0z\" fill=\"none\"/>\n",
       "    <path d=\"M18.56 5.44l.94 2.06.94-2.06 2.06-.94-2.06-.94-.94-2.06-.94 2.06-2.06.94zm-11 1L8.5 8.5l.94-2.06 2.06-.94-2.06-.94L8.5 2.5l-.94 2.06-2.06.94zm10 10l.94 2.06.94-2.06 2.06-.94-2.06-.94-.94-2.06-.94 2.06-2.06.94z\"/><path d=\"M17.41 7.96l-1.37-1.37c-.4-.4-.92-.59-1.43-.59-.52 0-1.04.2-1.43.59L10.3 9.45l-7.72 7.72c-.78.78-.78 2.05 0 2.83L4 21.41c.39.39.9.59 1.41.59.51 0 1.02-.2 1.41-.59l7.78-7.78 2.81-2.81c.8-.78.8-2.07 0-2.86zM5.41 20L4 18.59l7.72-7.72 1.47 1.35L5.41 20z\"/>\n",
       "  </svg>\n",
       "      </button>\n",
       "      \n",
       "  <style>\n",
       "    .colab-df-container {\n",
       "      display:flex;\n",
       "      flex-wrap:wrap;\n",
       "      gap: 12px;\n",
       "    }\n",
       "\n",
       "    .colab-df-convert {\n",
       "      background-color: #E8F0FE;\n",
       "      border: none;\n",
       "      border-radius: 50%;\n",
       "      cursor: pointer;\n",
       "      display: none;\n",
       "      fill: #1967D2;\n",
       "      height: 32px;\n",
       "      padding: 0 0 0 0;\n",
       "      width: 32px;\n",
       "    }\n",
       "\n",
       "    .colab-df-convert:hover {\n",
       "      background-color: #E2EBFA;\n",
       "      box-shadow: 0px 1px 2px rgba(60, 64, 67, 0.3), 0px 1px 3px 1px rgba(60, 64, 67, 0.15);\n",
       "      fill: #174EA6;\n",
       "    }\n",
       "\n",
       "    [theme=dark] .colab-df-convert {\n",
       "      background-color: #3B4455;\n",
       "      fill: #D2E3FC;\n",
       "    }\n",
       "\n",
       "    [theme=dark] .colab-df-convert:hover {\n",
       "      background-color: #434B5C;\n",
       "      box-shadow: 0px 1px 3px 1px rgba(0, 0, 0, 0.15);\n",
       "      filter: drop-shadow(0px 1px 2px rgba(0, 0, 0, 0.3));\n",
       "      fill: #FFFFFF;\n",
       "    }\n",
       "  </style>\n",
       "\n",
       "      <script>\n",
       "        const buttonEl =\n",
       "          document.querySelector('#df-3aa15475-62cb-4278-8ef8-186a4ff3411a button.colab-df-convert');\n",
       "        buttonEl.style.display =\n",
       "          google.colab.kernel.accessAllowed ? 'block' : 'none';\n",
       "\n",
       "        async function convertToInteractive(key) {\n",
       "          const element = document.querySelector('#df-3aa15475-62cb-4278-8ef8-186a4ff3411a');\n",
       "          const dataTable =\n",
       "            await google.colab.kernel.invokeFunction('convertToInteractive',\n",
       "                                                     [key], {});\n",
       "          if (!dataTable) return;\n",
       "\n",
       "          const docLinkHtml = 'Like what you see? Visit the ' +\n",
       "            '<a target=\"_blank\" href=https://colab.research.google.com/notebooks/data_table.ipynb>data table notebook</a>'\n",
       "            + ' to learn more about interactive tables.';\n",
       "          element.innerHTML = '';\n",
       "          dataTable['output_type'] = 'display_data';\n",
       "          await google.colab.output.renderOutput(dataTable, element);\n",
       "          const docLink = document.createElement('div');\n",
       "          docLink.innerHTML = docLinkHtml;\n",
       "          element.appendChild(docLink);\n",
       "        }\n",
       "      </script>\n",
       "    </div>\n",
       "  </div>\n",
       "  "
      ],
      "text/plain": [
       "                            precision  precision_std  ...    f1  f1_std\n",
       "Предложение услуг                0.86           0.06  ...  0.42    0.06\n",
       "Ремонт и строительство           0.59           0.11  ...  0.14    0.05\n",
       "Товары для детей и игрушки       0.67           0.09  ...  0.26    0.03\n",
       "Одежда, обувь, аксессуары        0.46           0.01  ...  0.56    0.01\n",
       "Бытовая техника                  0.55           0.16  ...  0.22    0.07\n",
       "Детская одежда и обувь           0.44           0.02  ...  0.55    0.02\n",
       "Квартиры                         0.71           0.02  ...  0.74    0.02\n",
       "Мебель и интерьер                0.80           0.13  ...  0.23    0.06\n",
       "Автомобили                       0.81           0.05  ...  0.55    0.03\n",
       "Телефоны                         0.90           0.06  ...  0.47    0.05\n",
       "mean                             0.68           0.07  ...  0.41    0.04\n",
       "\n",
       "[11 rows x 6 columns]"
      ]
     },
     "execution_count": 119,
     "metadata": {},
     "output_type": "execute_result"
    }
   ],
   "source": [
    "metrics_svd_etc"
   ]
  },
  {
   "cell_type": "code",
   "execution_count": null,
   "metadata": {
    "colab": {
     "base_uri": "https://localhost:8080/",
     "height": 394
    },
    "id": "ZrSCx3AJAGSJ",
    "outputId": "e2a44d2a-64c6-4718-b4c8-d8f94defd24d"
   },
   "outputs": [
    {
     "data": {
      "text/html": [
       "\n",
       "  <div id=\"df-b64469ce-baf3-4038-9d6e-67ffaf11c721\">\n",
       "    <div class=\"colab-df-container\">\n",
       "      <div>\n",
       "<style scoped>\n",
       "    .dataframe tbody tr th:only-of-type {\n",
       "        vertical-align: middle;\n",
       "    }\n",
       "\n",
       "    .dataframe tbody tr th {\n",
       "        vertical-align: top;\n",
       "    }\n",
       "\n",
       "    .dataframe thead th {\n",
       "        text-align: right;\n",
       "    }\n",
       "</style>\n",
       "<table border=\"1\" class=\"dataframe\">\n",
       "  <thead>\n",
       "    <tr style=\"text-align: right;\">\n",
       "      <th></th>\n",
       "      <th>precision</th>\n",
       "      <th>precision_std</th>\n",
       "      <th>recall</th>\n",
       "      <th>recall_std</th>\n",
       "      <th>f1</th>\n",
       "      <th>f1_std</th>\n",
       "    </tr>\n",
       "  </thead>\n",
       "  <tbody>\n",
       "    <tr>\n",
       "      <th>Предложение услуг</th>\n",
       "      <td>0.69</td>\n",
       "      <td>0.05</td>\n",
       "      <td>0.74</td>\n",
       "      <td>0.05</td>\n",
       "      <td>0.71</td>\n",
       "      <td>0.04</td>\n",
       "    </tr>\n",
       "    <tr>\n",
       "      <th>Ремонт и строительство</th>\n",
       "      <td>0.59</td>\n",
       "      <td>0.04</td>\n",
       "      <td>0.43</td>\n",
       "      <td>0.06</td>\n",
       "      <td>0.50</td>\n",
       "      <td>0.05</td>\n",
       "    </tr>\n",
       "    <tr>\n",
       "      <th>Товары для детей и игрушки</th>\n",
       "      <td>0.73</td>\n",
       "      <td>0.04</td>\n",
       "      <td>0.59</td>\n",
       "      <td>0.03</td>\n",
       "      <td>0.65</td>\n",
       "      <td>0.03</td>\n",
       "    </tr>\n",
       "    <tr>\n",
       "      <th>Одежда, обувь, аксессуары</th>\n",
       "      <td>0.70</td>\n",
       "      <td>0.01</td>\n",
       "      <td>0.79</td>\n",
       "      <td>0.02</td>\n",
       "      <td>0.74</td>\n",
       "      <td>0.01</td>\n",
       "    </tr>\n",
       "    <tr>\n",
       "      <th>Бытовая техника</th>\n",
       "      <td>0.66</td>\n",
       "      <td>0.06</td>\n",
       "      <td>0.33</td>\n",
       "      <td>0.07</td>\n",
       "      <td>0.44</td>\n",
       "      <td>0.07</td>\n",
       "    </tr>\n",
       "    <tr>\n",
       "      <th>Детская одежда и обувь</th>\n",
       "      <td>0.73</td>\n",
       "      <td>0.02</td>\n",
       "      <td>0.77</td>\n",
       "      <td>0.02</td>\n",
       "      <td>0.75</td>\n",
       "      <td>0.01</td>\n",
       "    </tr>\n",
       "    <tr>\n",
       "      <th>Квартиры</th>\n",
       "      <td>0.91</td>\n",
       "      <td>0.03</td>\n",
       "      <td>0.97</td>\n",
       "      <td>0.03</td>\n",
       "      <td>0.94</td>\n",
       "      <td>0.02</td>\n",
       "    </tr>\n",
       "    <tr>\n",
       "      <th>Мебель и интерьер</th>\n",
       "      <td>0.72</td>\n",
       "      <td>0.03</td>\n",
       "      <td>0.54</td>\n",
       "      <td>0.02</td>\n",
       "      <td>0.62</td>\n",
       "      <td>0.02</td>\n",
       "    </tr>\n",
       "    <tr>\n",
       "      <th>Автомобили</th>\n",
       "      <td>0.84</td>\n",
       "      <td>0.04</td>\n",
       "      <td>0.91</td>\n",
       "      <td>0.01</td>\n",
       "      <td>0.87</td>\n",
       "      <td>0.03</td>\n",
       "    </tr>\n",
       "    <tr>\n",
       "      <th>Телефоны</th>\n",
       "      <td>0.81</td>\n",
       "      <td>0.05</td>\n",
       "      <td>0.79</td>\n",
       "      <td>0.04</td>\n",
       "      <td>0.80</td>\n",
       "      <td>0.04</td>\n",
       "    </tr>\n",
       "    <tr>\n",
       "      <th>mean</th>\n",
       "      <td>0.74</td>\n",
       "      <td>0.04</td>\n",
       "      <td>0.69</td>\n",
       "      <td>0.04</td>\n",
       "      <td>0.70</td>\n",
       "      <td>0.03</td>\n",
       "    </tr>\n",
       "  </tbody>\n",
       "</table>\n",
       "</div>\n",
       "      <button class=\"colab-df-convert\" onclick=\"convertToInteractive('df-b64469ce-baf3-4038-9d6e-67ffaf11c721')\"\n",
       "              title=\"Convert this dataframe to an interactive table.\"\n",
       "              style=\"display:none;\">\n",
       "        \n",
       "  <svg xmlns=\"http://www.w3.org/2000/svg\" height=\"24px\"viewBox=\"0 0 24 24\"\n",
       "       width=\"24px\">\n",
       "    <path d=\"M0 0h24v24H0V0z\" fill=\"none\"/>\n",
       "    <path d=\"M18.56 5.44l.94 2.06.94-2.06 2.06-.94-2.06-.94-.94-2.06-.94 2.06-2.06.94zm-11 1L8.5 8.5l.94-2.06 2.06-.94-2.06-.94L8.5 2.5l-.94 2.06-2.06.94zm10 10l.94 2.06.94-2.06 2.06-.94-2.06-.94-.94-2.06-.94 2.06-2.06.94z\"/><path d=\"M17.41 7.96l-1.37-1.37c-.4-.4-.92-.59-1.43-.59-.52 0-1.04.2-1.43.59L10.3 9.45l-7.72 7.72c-.78.78-.78 2.05 0 2.83L4 21.41c.39.39.9.59 1.41.59.51 0 1.02-.2 1.41-.59l7.78-7.78 2.81-2.81c.8-.78.8-2.07 0-2.86zM5.41 20L4 18.59l7.72-7.72 1.47 1.35L5.41 20z\"/>\n",
       "  </svg>\n",
       "      </button>\n",
       "      \n",
       "  <style>\n",
       "    .colab-df-container {\n",
       "      display:flex;\n",
       "      flex-wrap:wrap;\n",
       "      gap: 12px;\n",
       "    }\n",
       "\n",
       "    .colab-df-convert {\n",
       "      background-color: #E8F0FE;\n",
       "      border: none;\n",
       "      border-radius: 50%;\n",
       "      cursor: pointer;\n",
       "      display: none;\n",
       "      fill: #1967D2;\n",
       "      height: 32px;\n",
       "      padding: 0 0 0 0;\n",
       "      width: 32px;\n",
       "    }\n",
       "\n",
       "    .colab-df-convert:hover {\n",
       "      background-color: #E2EBFA;\n",
       "      box-shadow: 0px 1px 2px rgba(60, 64, 67, 0.3), 0px 1px 3px 1px rgba(60, 64, 67, 0.15);\n",
       "      fill: #174EA6;\n",
       "    }\n",
       "\n",
       "    [theme=dark] .colab-df-convert {\n",
       "      background-color: #3B4455;\n",
       "      fill: #D2E3FC;\n",
       "    }\n",
       "\n",
       "    [theme=dark] .colab-df-convert:hover {\n",
       "      background-color: #434B5C;\n",
       "      box-shadow: 0px 1px 3px 1px rgba(0, 0, 0, 0.15);\n",
       "      filter: drop-shadow(0px 1px 2px rgba(0, 0, 0, 0.3));\n",
       "      fill: #FFFFFF;\n",
       "    }\n",
       "  </style>\n",
       "\n",
       "      <script>\n",
       "        const buttonEl =\n",
       "          document.querySelector('#df-b64469ce-baf3-4038-9d6e-67ffaf11c721 button.colab-df-convert');\n",
       "        buttonEl.style.display =\n",
       "          google.colab.kernel.accessAllowed ? 'block' : 'none';\n",
       "\n",
       "        async function convertToInteractive(key) {\n",
       "          const element = document.querySelector('#df-b64469ce-baf3-4038-9d6e-67ffaf11c721');\n",
       "          const dataTable =\n",
       "            await google.colab.kernel.invokeFunction('convertToInteractive',\n",
       "                                                     [key], {});\n",
       "          if (!dataTable) return;\n",
       "\n",
       "          const docLinkHtml = 'Like what you see? Visit the ' +\n",
       "            '<a target=\"_blank\" href=https://colab.research.google.com/notebooks/data_table.ipynb>data table notebook</a>'\n",
       "            + ' to learn more about interactive tables.';\n",
       "          element.innerHTML = '';\n",
       "          dataTable['output_type'] = 'display_data';\n",
       "          await google.colab.output.renderOutput(dataTable, element);\n",
       "          const docLink = document.createElement('div');\n",
       "          docLink.innerHTML = docLinkHtml;\n",
       "          element.appendChild(docLink);\n",
       "        }\n",
       "      </script>\n",
       "    </div>\n",
       "  </div>\n",
       "  "
      ],
      "text/plain": [
       "                            precision  precision_std  ...    f1  f1_std\n",
       "Предложение услуг                0.69           0.05  ...  0.71    0.04\n",
       "Ремонт и строительство           0.59           0.04  ...  0.50    0.05\n",
       "Товары для детей и игрушки       0.73           0.04  ...  0.65    0.03\n",
       "Одежда, обувь, аксессуары        0.70           0.01  ...  0.74    0.01\n",
       "Бытовая техника                  0.66           0.06  ...  0.44    0.07\n",
       "Детская одежда и обувь           0.73           0.02  ...  0.75    0.01\n",
       "Квартиры                         0.91           0.03  ...  0.94    0.02\n",
       "Мебель и интерьер                0.72           0.03  ...  0.62    0.02\n",
       "Автомобили                       0.84           0.04  ...  0.87    0.03\n",
       "Телефоны                         0.81           0.05  ...  0.80    0.04\n",
       "mean                             0.74           0.04  ...  0.70    0.03\n",
       "\n",
       "[11 rows x 6 columns]"
      ]
     },
     "execution_count": 120,
     "metadata": {},
     "output_type": "execute_result"
    }
   ],
   "source": [
    "metrics_nmf_etc"
   ]
  },
  {
   "cell_type": "markdown",
   "metadata": {
    "id": "_Qqy7ZEgAVd_"
   },
   "source": [
    "Сравнение:"
   ]
  },
  {
   "cell_type": "code",
   "execution_count": null,
   "metadata": {
    "colab": {
     "base_uri": "https://localhost:8080/",
     "height": 112
    },
    "id": "-CREW58lNdPM",
    "outputId": "7114c6db-c54d-4b3a-d814-2aa98eb1ebae"
   },
   "outputs": [
    {
     "data": {
      "text/html": [
       "\n",
       "  <div id=\"df-09a68795-4df0-4143-ba38-285d3aa1b2e5\">\n",
       "    <div class=\"colab-df-container\">\n",
       "      <div>\n",
       "<style scoped>\n",
       "    .dataframe tbody tr th:only-of-type {\n",
       "        vertical-align: middle;\n",
       "    }\n",
       "\n",
       "    .dataframe tbody tr th {\n",
       "        vertical-align: top;\n",
       "    }\n",
       "\n",
       "    .dataframe thead th {\n",
       "        text-align: right;\n",
       "    }\n",
       "</style>\n",
       "<table border=\"1\" class=\"dataframe\">\n",
       "  <thead>\n",
       "    <tr style=\"text-align: right;\">\n",
       "      <th></th>\n",
       "      <th>Matrix</th>\n",
       "      <th>RFC</th>\n",
       "      <th>SGD</th>\n",
       "      <th>KNC</th>\n",
       "      <th>ETC</th>\n",
       "    </tr>\n",
       "  </thead>\n",
       "  <tbody>\n",
       "    <tr>\n",
       "      <th>0</th>\n",
       "      <td>SVD</td>\n",
       "      <td>0.44</td>\n",
       "      <td>0.74</td>\n",
       "      <td>0.46</td>\n",
       "      <td>0.41</td>\n",
       "    </tr>\n",
       "    <tr>\n",
       "      <th>1</th>\n",
       "      <td>NMF</td>\n",
       "      <td>0.48</td>\n",
       "      <td>0.50</td>\n",
       "      <td>0.49</td>\n",
       "      <td>0.70</td>\n",
       "    </tr>\n",
       "  </tbody>\n",
       "</table>\n",
       "</div>\n",
       "      <button class=\"colab-df-convert\" onclick=\"convertToInteractive('df-09a68795-4df0-4143-ba38-285d3aa1b2e5')\"\n",
       "              title=\"Convert this dataframe to an interactive table.\"\n",
       "              style=\"display:none;\">\n",
       "        \n",
       "  <svg xmlns=\"http://www.w3.org/2000/svg\" height=\"24px\"viewBox=\"0 0 24 24\"\n",
       "       width=\"24px\">\n",
       "    <path d=\"M0 0h24v24H0V0z\" fill=\"none\"/>\n",
       "    <path d=\"M18.56 5.44l.94 2.06.94-2.06 2.06-.94-2.06-.94-.94-2.06-.94 2.06-2.06.94zm-11 1L8.5 8.5l.94-2.06 2.06-.94-2.06-.94L8.5 2.5l-.94 2.06-2.06.94zm10 10l.94 2.06.94-2.06 2.06-.94-2.06-.94-.94-2.06-.94 2.06-2.06.94z\"/><path d=\"M17.41 7.96l-1.37-1.37c-.4-.4-.92-.59-1.43-.59-.52 0-1.04.2-1.43.59L10.3 9.45l-7.72 7.72c-.78.78-.78 2.05 0 2.83L4 21.41c.39.39.9.59 1.41.59.51 0 1.02-.2 1.41-.59l7.78-7.78 2.81-2.81c.8-.78.8-2.07 0-2.86zM5.41 20L4 18.59l7.72-7.72 1.47 1.35L5.41 20z\"/>\n",
       "  </svg>\n",
       "      </button>\n",
       "      \n",
       "  <style>\n",
       "    .colab-df-container {\n",
       "      display:flex;\n",
       "      flex-wrap:wrap;\n",
       "      gap: 12px;\n",
       "    }\n",
       "\n",
       "    .colab-df-convert {\n",
       "      background-color: #E8F0FE;\n",
       "      border: none;\n",
       "      border-radius: 50%;\n",
       "      cursor: pointer;\n",
       "      display: none;\n",
       "      fill: #1967D2;\n",
       "      height: 32px;\n",
       "      padding: 0 0 0 0;\n",
       "      width: 32px;\n",
       "    }\n",
       "\n",
       "    .colab-df-convert:hover {\n",
       "      background-color: #E2EBFA;\n",
       "      box-shadow: 0px 1px 2px rgba(60, 64, 67, 0.3), 0px 1px 3px 1px rgba(60, 64, 67, 0.15);\n",
       "      fill: #174EA6;\n",
       "    }\n",
       "\n",
       "    [theme=dark] .colab-df-convert {\n",
       "      background-color: #3B4455;\n",
       "      fill: #D2E3FC;\n",
       "    }\n",
       "\n",
       "    [theme=dark] .colab-df-convert:hover {\n",
       "      background-color: #434B5C;\n",
       "      box-shadow: 0px 1px 3px 1px rgba(0, 0, 0, 0.15);\n",
       "      filter: drop-shadow(0px 1px 2px rgba(0, 0, 0, 0.3));\n",
       "      fill: #FFFFFF;\n",
       "    }\n",
       "  </style>\n",
       "\n",
       "      <script>\n",
       "        const buttonEl =\n",
       "          document.querySelector('#df-09a68795-4df0-4143-ba38-285d3aa1b2e5 button.colab-df-convert');\n",
       "        buttonEl.style.display =\n",
       "          google.colab.kernel.accessAllowed ? 'block' : 'none';\n",
       "\n",
       "        async function convertToInteractive(key) {\n",
       "          const element = document.querySelector('#df-09a68795-4df0-4143-ba38-285d3aa1b2e5');\n",
       "          const dataTable =\n",
       "            await google.colab.kernel.invokeFunction('convertToInteractive',\n",
       "                                                     [key], {});\n",
       "          if (!dataTable) return;\n",
       "\n",
       "          const docLinkHtml = 'Like what you see? Visit the ' +\n",
       "            '<a target=\"_blank\" href=https://colab.research.google.com/notebooks/data_table.ipynb>data table notebook</a>'\n",
       "            + ' to learn more about interactive tables.';\n",
       "          element.innerHTML = '';\n",
       "          dataTable['output_type'] = 'display_data';\n",
       "          await google.colab.output.renderOutput(dataTable, element);\n",
       "          const docLink = document.createElement('div');\n",
       "          docLink.innerHTML = docLinkHtml;\n",
       "          element.appendChild(docLink);\n",
       "        }\n",
       "      </script>\n",
       "    </div>\n",
       "  </div>\n",
       "  "
      ],
      "text/plain": [
       "  Matrix   RFC   SGD   KNC   ETC\n",
       "0    SVD  0.44  0.74  0.46  0.41\n",
       "1    NMF  0.48  0.50  0.49  0.70"
      ]
     },
     "execution_count": 121,
     "metadata": {},
     "output_type": "execute_result"
    }
   ],
   "source": [
    "df = pd.DataFrame({'Matrix': ['SVD', 'NMF'], 'RFC': [0.44, 0.48], 'SGD': [0.74, 0.5], 'KNC': [0.46, 0.49], 'ETC': [0.41, 0.70]}, )\n",
    "df"
   ]
  },
  {
   "cell_type": "markdown",
   "metadata": {
    "id": "-MHFljOoPnKA"
   },
   "source": [
    "Таким образом, наилучшие показатели у модели SGD-SVD."
   ]
  },
  {
   "cell_type": "markdown",
   "metadata": {
    "id": "xfcQR5jdLir5"
   },
   "source": [
    "### Задание № 2 (6 баллов)\n",
    "\n",
    "В Gensim тоже можно добавить нграммы и tfidf. Постройте 1 модель без них (как в семинаре) и еще 3 модели (1 с нграммами, 1 с tfidf и 1 с нграммами и с tfidf). Сравните качество с помощью метрик (перплексия, когерентность) и на глаз. Определите лучшую модель. Для каждой модели выберите 1 самую красивую на ваш взгляд тему.\n",
    "\n",
    "Используйте данные википедии из семинара. Можете взять поменьше данных, если все обучается долго.\n",
    "\n",
    "Важное требование - получившиеся модели не должны быть совсем плохими. Если хороших тем не получается, попробуйте настроить гиперпараметры, отфильтровать словарь по-другому. "
   ]
  },
  {
   "cell_type": "markdown",
   "metadata": {
    "id": "Rk3kr274LweJ"
   },
   "source": [
    "ПРОСТО LDA КАК НА СЕМИНАРЕ:"
   ]
  },
  {
   "cell_type": "code",
   "execution_count": 5,
   "metadata": {
    "id": "bmNyvNy_LxHY"
   },
   "outputs": [],
   "source": [
    "texts = open('wiki_data.txt').read().splitlines()[:1000] # взяла меньше данных\n",
    "texts = ([normalize(text) for text in texts])\n",
    "# texts [:3]"
   ]
  },
  {
   "cell_type": "code",
   "execution_count": null,
   "metadata": {
    "id": "tXZtgK8mTwbN"
   },
   "outputs": [],
   "source": [
    "dictionary = gensim.corpora.Dictionary((text.split() for text in texts))"
   ]
  },
  {
   "cell_type": "code",
   "execution_count": null,
   "metadata": {
    "id": "4mrv6HX0Vsr2"
   },
   "outputs": [],
   "source": [
    "print(dictionary)"
   ]
  },
  {
   "cell_type": "code",
   "execution_count": null,
   "metadata": {
    "id": "vMy3XY5mVwtl"
   },
   "outputs": [],
   "source": [
    "dictionary.filter_extremes(no_above=0.1, no_below=10)\n",
    "dictionary.compactify()"
   ]
  },
  {
   "cell_type": "code",
   "execution_count": null,
   "metadata": {
    "id": "9wFpyY_0WxEd"
   },
   "outputs": [],
   "source": [
    "corpus = [dictionary.doc2bow(text.split()) for text in texts]"
   ]
  },
  {
   "cell_type": "code",
   "execution_count": null,
   "metadata": {
    "id": "NRYXx2YGW5Ao"
   },
   "outputs": [],
   "source": [
    "# corpus [:3] #. почему тут только числа?"
   ]
  },
  {
   "cell_type": "code",
   "execution_count": null,
   "metadata": {
    "colab": {
     "base_uri": "https://localhost:8080/"
    },
    "id": "fcXpJcCjYevh",
    "outputId": "32f45154-8af5-4514-ed80-dec28f36fee1"
   },
   "outputs": [
    {
     "data": {
      "text/plain": [
       "[(99,\n",
       "  '0.077*\"штат\" + 0.021*\"конституция\" + 0.019*\"представитель\" + 0.013*\"борьба\" + 0.013*\"служба\" + 0.012*\"конгресс\" + 0.012*\"план\" + 0.011*\"поэтому\" + 0.011*\"государство\" + 0.010*\"участник\"'),\n",
       " (98,\n",
       "  '0.043*\"религиозный\" + 0.033*\"передача\" + 0.029*\"здание\" + 0.024*\"церковь\" + 0.023*\"организация\" + 0.022*\"закон\" + 0.020*\"2010\" + 0.019*\"культура\" + 0.017*\"собственность\" + 0.017*\"объект\"'),\n",
       " (97,\n",
       "  '0.080*\"уезд\" + 0.022*\"городской\" + 0.022*\"специальный\" + 0.019*\"икона\" + 0.019*\"доска\" + 0.019*\"кнр\" + 0.017*\"расформировать\" + 0.016*\"округ\" + 0.016*\"преобразовать\" + 0.016*\"власть\"'),\n",
       " (96,\n",
       "  '0.026*\"атлетика\" + 0.025*\"спортсмен\" + 0.025*\"1984\" + 0.024*\"фиджи\" + 0.017*\"1948\" + 0.017*\"парусный\" + 0.016*\"спорт\" + 0.015*\"1940\" + 0.015*\"дзюдо\" + 0.014*\"тяжёлый\"'),\n",
       " (95,\n",
       "  '0.090*\"соревнование\" + 0.088*\"атлетика\" + 0.080*\"спортсмен\" + 0.070*\"лёгкий\" + 0.055*\"2004\" + 0.039*\"греция\" + 0.035*\"2000\" + 0.033*\"тяжёлый\" + 0.023*\"афины\" + 0.019*\"плавание\"'),\n",
       " (94,\n",
       "  '0.043*\"1976\" + 0.038*\"канада\" + 0.034*\"великобритания\" + 0.034*\"чемпионат\" + 0.025*\"матч\" + 0.023*\"финал\" + 0.022*\"крым\" + 0.022*\"монреаль\" + 0.021*\"англия\" + 0.018*\"восьмой\"'),\n",
       " (93,\n",
       "  '0.041*\"фотография\" + 0.014*\"бой\" + 0.014*\"оружие\" + 0.014*\"использоваться\" + 0.014*\"матч\" + 0.013*\"сыграть\" + 0.012*\"знаменитый\" + 0.012*\"2011\" + 0.011*\"2007\" + 0.011*\"сеть\"'),\n",
       " (92,\n",
       "  '0.047*\"театр\" + 0.024*\"роль\" + 0.014*\"музыкальный\" + 0.014*\"театральный\" + 0.010*\"элемент\" + 0.008*\"музыка\" + 0.008*\"концерт\" + 0.008*\"искусство\" + 0.008*\"молодой\" + 0.008*\"компания\"'),\n",
       " (91,\n",
       "  '0.018*\"животное\" + 0.013*\"проведение\" + 0.010*\"задача\" + 0.008*\"вопрос\" + 0.007*\"мы\" + 0.007*\"развитие\" + 0.007*\"решение\" + 0.006*\"наука\" + 0.006*\"учёный\" + 0.006*\"форма\"'),\n",
       " (89,\n",
       "  '0.151*\"департамент\" + 0.056*\"км²\" + 0.052*\"провинция\" + 0.052*\"жужевать\" + 0.036*\"аргентина\" + 0.028*\"плотность\" + 0.028*\"численность\" + 0.027*\"против\" + 0.026*\"национальный\" + 0.025*\"чел\"'),\n",
       " (9,\n",
       "  '0.118*\"село\" + 0.052*\"км\" + 0.050*\"река\" + 0.035*\"харьковский\" + 0.033*\"совет\" + 0.031*\"посёлок\" + 0.025*\"берег\" + 0.023*\"сельский\" + 0.023*\"расстояние\" + 0.022*\"код\"'),\n",
       " (8,\n",
       "  '0.146*\"остров\" + 0.040*\"метр\" + 0.032*\"километр\" + 0.022*\"архипелаг\" + 0.021*\"земля\" + 0.018*\"честь\" + 0.017*\"северный\" + 0.017*\"форма\" + 0.016*\"относиться\" + 0.016*\"назвать\"'),\n",
       " (7,\n",
       "  '0.030*\"машина\" + 0.011*\"партия\" + 0.011*\"автомобиль\" + 0.009*\"лидер\" + 0.008*\"крупный\" + 0.007*\"предприятие\" + 0.007*\"b\" + 0.007*\"2007\" + 0.007*\"обнаружить\" + 0.006*\"ребёнок\"'),\n",
       " (6,\n",
       "  '0.022*\"1988\" + 0.021*\"ямайка\" + 0.016*\"плод\" + 0.011*\"заезд\" + 0.010*\"бокс\" + 0.010*\"корея\" + 0.008*\"сеул\" + 0.007*\"команда\" + 0.007*\"из-за\" + 0.007*\"третий\"'),\n",
       " (5,\n",
       "  '0.077*\"клуб\" + 0.061*\"команда\" + 0.053*\"чемпионат\" + 0.022*\"сезон\" + 0.020*\"матч\" + 0.020*\"лига\" + 0.019*\"футбольный\" + 0.017*\"кубок\" + 0.017*\"барселона\" + 0.016*\"футбол\"'),\n",
       " (4,\n",
       "  '0.019*\"квалификация\" + 0.018*\"иван\" + 0.017*\"сын\" + 0.014*\"московский\" + 0.012*\"князь\" + 0.012*\"николай\" + 0.012*\"поход\" + 0.010*\"школа\" + 0.010*\"иванович\" + 0.009*\"финал\"'),\n",
       " (3,\n",
       "  '0.019*\"россия\" + 0.019*\"н\" + 0.014*\"убить\" + 0.011*\"дом\" + 0.011*\"сергей\" + 0.010*\"улица\" + 0.009*\"владимир\" + 0.008*\"среди\" + 0.008*\"николай\" + 0.008*\"убийство\"'),\n",
       " (2,\n",
       "  '0.025*\"сезон\" + 0.021*\"команда\" + 0.019*\"финал\" + 0.018*\"1972\" + 0.016*\"счёт\" + 0.016*\"матч\" + 0.015*\"очко\" + 0.014*\"серия\" + 0.013*\"рекорд\" + 0.012*\"советский\"'),\n",
       " (1,\n",
       "  '0.042*\"зимний\" + 0.030*\"боливия\" + 0.017*\"аэропорт\" + 0.017*\"канада\" + 0.012*\"значение\" + 0.010*\"2002\" + 0.010*\"университет\" + 0.009*\"национальный\" + 0.008*\"1988\" + 0.008*\"воздушный\"'),\n",
       " (0,\n",
       "  '0.019*\"если\" + 0.011*\"есть\" + 0.008*\"волна\" + 0.007*\"можно\" + 0.007*\"говорить\" + 0.007*\"ребёнок\" + 0.007*\"случай\" + 0.006*\"роман\" + 0.006*\"использовать\" + 0.006*\"чтобы\"')]"
      ]
     },
     "execution_count": 126,
     "metadata": {},
     "output_type": "execute_result"
    }
   ],
   "source": [
    "lda = gensim.models.LdaMulticore(corpus, \n",
    "                                 100, # количество тем\n",
    "                                 alpha='asymmetric',\n",
    "                                 id2word=dictionary, \n",
    "                                 passes=10)\n",
    "lda.print_topics()"
   ]
  },
  {
   "cell_type": "markdown",
   "metadata": {
    "id": "13W1BlAJTFmw"
   },
   "source": [
    "Вывод: этот способ даёт нормальное разбиение по темам, в принципе все они так или иначе хорошо считываются. Возможно, самая удачная из представленных - 5:\n",
    "(5,\n",
    "  '0.077*\"клуб\" + 0.061*\"команда\" + 0.053*\"чемпионат\" + 0.022*\"сезон\" + 0.020*\"матч\" + 0.020*\"лига\" + 0.019*\"футбольный\" + 0.017*\"кубок\" + 0.017*\"барселона\" + 0.016*\"футбол\"')"
   ]
  },
  {
   "cell_type": "code",
   "execution_count": null,
   "metadata": {
    "colab": {
     "base_uri": "https://localhost:8080/"
    },
    "id": "_kmETamFegvM",
    "outputId": "c1758492-8dee-4bf8-9000-8efa95de1ced"
   },
   "outputs": [
    {
     "data": {
      "text/plain": [
       "215.30352901689452"
      ]
     },
     "execution_count": 129,
     "metadata": {},
     "output_type": "execute_result"
    }
   ],
   "source": [
    "np.exp2(-lda.log_perplexity(corpus[:1000]))"
   ]
  },
  {
   "cell_type": "code",
   "execution_count": null,
   "metadata": {
    "colab": {
     "base_uri": "https://localhost:8080/"
    },
    "id": "YLrjaNQees1h",
    "outputId": "150dabfa-9492-4695-a4fc-68c6b6e5fd37"
   },
   "outputs": [
    {
     "data": {
      "text/plain": [
       "0.4820069670437174"
      ]
     },
     "execution_count": 130,
     "metadata": {},
     "output_type": "execute_result"
    }
   ],
   "source": [
    "topics = []\n",
    "for topic_id, topic in lda.show_topics(num_topics=100, formatted=False):\n",
    "    topic = [word for word, _ in topic]\n",
    "    topics.append(topic)\n",
    "\n",
    "coherence_model_lda = gensim.models.CoherenceModel(topics=topics, \n",
    "                                                   texts=[text.split() for text in texts], \n",
    "                                                   dictionary=dictionary, coherence='c_v')\n",
    "\n",
    "coherence_model_lda.get_coherence()"
   ]
  },
  {
   "cell_type": "markdown",
   "metadata": {
    "id": "fk_JLBl3gcCl"
   },
   "source": [
    " LDA С N-ГРАММАМИ:"
   ]
  },
  {
   "cell_type": "code",
   "execution_count": 1,
   "metadata": {
    "colab": {
     "base_uri": "https://localhost:8080/",
     "height": 288
    },
    "id": "NQWfXgiXtPLk",
    "outputId": "c7dfe729-304e-4479-8c4f-b408d26dd9b1"
   },
   "outputs": [],
   "source": [
    "texts = open('wiki_data.txt').read().splitlines()[:1000]\n",
    "texts = ([normalize(text) for text in texts])\n",
    "texts [:3]"
   ]
  },
  {
   "cell_type": "code",
   "execution_count": 6,
   "metadata": {
    "id": "uwf9j5yNe9aQ"
   },
   "outputs": [],
   "source": [
    "texts_n = [text.split() for text in texts]\n",
    "ph = gensim.models.Phrases(texts_n, scoring='npmi', threshold=0.4) # threshold можно подбирать\n",
    "p = gensim.models.phrases.Phraser(ph)\n",
    "ngrammed_texts = p[texts_n] "
   ]
  },
  {
   "cell_type": "code",
   "execution_count": 7,
   "metadata": {
    "id": "5Q2VtjvGj7JQ"
   },
   "outputs": [],
   "source": [
    "dictionary = gensim.corpora.Dictionary(ngrammed_texts)"
   ]
  },
  {
   "cell_type": "code",
   "execution_count": 8,
   "metadata": {
    "id": "8VRceVnbqER5"
   },
   "outputs": [],
   "source": [
    "dictionary.filter_extremes(no_above=0.1, no_below=10)\n",
    "dictionary.compactify()"
   ]
  },
  {
   "cell_type": "code",
   "execution_count": 9,
   "metadata": {
    "id": "u4XUNCnUW1_3"
   },
   "outputs": [],
   "source": [
    "corpus = [dictionary.doc2bow(ngram) for ngram in ngrammed_texts]"
   ]
  },
  {
   "cell_type": "code",
   "execution_count": 10,
   "metadata": {
    "colab": {
     "base_uri": "https://localhost:8080/"
    },
    "id": "Ad4tt9_gqMq1",
    "outputId": "876de979-0b7e-488b-dc84-549b05302749"
   },
   "outputs": [
    {
     "data": {
      "text/plain": [
       "[(99,\n",
       "  '0.026*\"монастырь\" + 0.017*\"собор\" + 0.013*\"я\" + 0.009*\"башня\" + 0.009*\"святой\" + 0.008*\"появиться\" + 0.008*\"умереть\" + 0.007*\"сша\" + 0.007*\"фильм\" + 0.007*\"фон\"'),\n",
       " (98,\n",
       "  '0.031*\"сельский_поселение\" + 0.027*\"поселение\" + 0.022*\"округ\" + 0.019*\"община\" + 0.018*\"контакт\" + 0.014*\"№\" + 0.014*\"закон\" + 0.013*\"граница\" + 0.013*\"сообщение\" + 0.012*\"территория\"'),\n",
       " (97,\n",
       "  '0.017*\"сезон\" + 0.013*\"лига\" + 0.012*\"система\" + 0.010*\"иран\" + 0.009*\"участвовать\" + 0.008*\"высокий\" + 0.008*\"залив\" + 0.008*\"кубок\" + 0.007*\"победить\" + 0.007*\"убить\"'),\n",
       " (96,\n",
       "  '0.062*\"1-й\" + 0.054*\"1978\" + 0.043*\"1976\" + 0.038*\"1977\" + 0.036*\"1984\" + 0.030*\"участник\" + 0.028*\"игра_1984\" + 0.027*\"1975\" + 0.026*\"турнир\" + 0.026*\"4-й\"'),\n",
       " (95,\n",
       "  '0.051*\"дом\" + 0.021*\"день\" + 0.016*\"здание\" + 0.014*\"музей\" + 0.011*\"проект\" + 0.010*\"совместно_с\" + 0.010*\"семья\" + 0.009*\"состояться\" + 0.009*\"н\" + 0.009*\"праздник\"'),\n",
       " (94,\n",
       "  '0.023*\"вода\" + 0.022*\"доска\" + 0.020*\"озеро\" + 0.016*\"верхний\" + 0.015*\"деревянный\" + 0.011*\"форма\" + 0.010*\"играть\" + 0.010*\"большой\" + 0.010*\"дерево\" + 0.010*\"камень\"'),\n",
       " (92,\n",
       "  '0.066*\"сезон\" + 0.055*\"выиграть\" + 0.053*\"гонка\" + 0.030*\"победа\" + 0.023*\"команда\" + 0.022*\"раз\" + 0.017*\"подряд\" + 0.017*\"круг\" + 0.014*\"500\" + 0.013*\"карьера\"'),\n",
       " (91,\n",
       "  '0.032*\"ссср\" + 0.014*\"схема\" + 0.012*\"взрыв\" + 0.012*\"двигатель\" + 0.011*\"анатолий\" + 0.010*\"мощность\" + 0.010*\"р\" + 0.009*\"заслужить\" + 0.009*\"разработка\" + 0.009*\"1954\"'),\n",
       " (93,\n",
       "  '0.045*\"орудие\" + 0.013*\"установка\" + 0.011*\"вариант\" + 0.010*\"центральный\" + 0.010*\"сша\" + 0.009*\"институт\" + 0.009*\"период\" + 0.008*\"среднее\" + 0.008*\"американский\" + 0.008*\"культура\"'),\n",
       " (90,\n",
       "  '0.036*\"–\" + 0.015*\"село\" + 0.014*\"белый\" + 0.014*\"проект\" + 0.014*\"сельский_поселение\" + 0.012*\"поселение\" + 0.009*\"музыкальный\" + 0.009*\"искусство\" + 0.009*\"международный\" + 0.009*\"конкурс\"'),\n",
       " (9,\n",
       "  '0.015*\"плод\" + 0.012*\"италия\" + 0.009*\"рим\" + 0.009*\"случай\" + 0.008*\"область\" + 0.008*\"звезда\" + 0.008*\"срок\" + 0.008*\"ребёнок\" + 0.007*\"итальянский\" + 0.007*\"подтвердить\"'),\n",
       " (8,\n",
       "  '0.030*\"завод\" + 0.027*\"вспомогательный\" + 0.026*\"заключить\" + 0.026*\"альбом\" + 0.021*\"s\" + 0.016*\"канадский\" + 0.016*\"восток\" + 0.013*\"строительство\" + 0.013*\"лагерь\" + 0.013*\"восточный\"'),\n",
       " (7,\n",
       "  '0.119*\"село\" + 0.032*\"харьковский_область\" + 0.031*\"население\" + 0.030*\"на_расстояние\" + 0.027*\"по_перепись\" + 0.027*\"река\" + 0.026*\"течение\" + 0.026*\"2001_год\" + 0.025*\"сельский_совет\" + 0.024*\"м_ж\"'),\n",
       " (6,\n",
       "  '0.106*\"фильм\" + 0.034*\"роль\" + 0.016*\"актёр\" + 0.013*\"кино\" + 0.012*\"главный_роль\" + 0.012*\"сняться\" + 0.012*\"актриса\" + 0.011*\"режиссёр\" + 0.011*\"епархия\" + 0.010*\"сниматься\"'),\n",
       " (5,\n",
       "  '0.034*\"г\" + 0.017*\"кладбище\" + 0.013*\"москва\" + 0.010*\"профессор\" + 0.010*\"член\" + 0.010*\"русский\" + 0.010*\"школа\" + 0.008*\"московский\" + 0.007*\"декабрь\" + 0.007*\"россия\"'),\n",
       " (4,\n",
       "  '0.068*\"университет\" + 0.020*\"студент\" + 0.018*\"язык\" + 0.018*\"премия\" + 0.017*\"крест\" + 0.014*\"отделение\" + 0.014*\"образование\" + 0.011*\"население\" + 0.011*\"строительство\" + 0.011*\"колледж\"'),\n",
       " (3,\n",
       "  '0.046*\"спортсмен\" + 0.039*\"ни_один\" + 0.038*\"не_завоевать\" + 0.036*\"история_но\" + 0.032*\"страна_представлять\" + 0.027*\"медаль_сборная\" + 0.026*\"соревнование_по\" + 0.021*\"принимать_участие\" + 0.017*\"тот_число\" + 0.015*\"медаль\"'),\n",
       " (2,\n",
       "  '0.009*\"н\" + 0.009*\"жизнь\" + 0.008*\"русский\" + 0.007*\"написать\" + 0.006*\"м\" + 0.006*\"иван\" + 0.006*\"себя\" + 0.005*\"духовный\" + 0.005*\"среди\" + 0.005*\"руководитель\"'),\n",
       " (1,\n",
       "  '0.012*\"россия\" + 0.005*\"между\" + 0.005*\"организация\" + 0.005*\"деятельность\" + 0.005*\"мир\" + 0.005*\"российский\" + 0.005*\"страна\" + 0.004*\"провести\" + 0.004*\"власть\" + 0.004*\"учёный\"'),\n",
       " (0,\n",
       "  '0.025*\"значение\" + 0.021*\"вид\" + 0.015*\"парк\" + 0.011*\"шоу\" + 0.011*\"национальный_чемпионат\" + 0.011*\"святой\" + 0.009*\"возраст\" + 0.009*\"на_территория\" + 0.008*\"азербайджан\" + 0.008*\"впервые\"')]"
      ]
     },
     "execution_count": 10,
     "metadata": {},
     "output_type": "execute_result"
    }
   ],
   "source": [
    "lda = gensim.models.LdaMulticore(corpus, \n",
    "                                 100, # количество тем\n",
    "                                 alpha='asymmetric',\n",
    "                                 id2word=dictionary, \n",
    "                                 passes=10)\n",
    "lda.print_topics()"
   ]
  },
  {
   "cell_type": "markdown",
   "metadata": {
    "id": "o57-owL0XPig"
   },
   "source": [
    "Вывод: этот способ также даёт нормальное разбиение по темам. Хорошая тема также получилась про спорт:\n",
    "(2,\n",
    "  '0.023*\"игра\" + 0.021*\"сезон\" + 0.018*\"вид\" + 0.017*\"серия\" + 0.015*\"команда\" + 0.015*\"очко\" + 0.012*\"боливия\" + 0.012*\"боливия_принимать\" + 0.012*\"играть\" + 0.012*\"счёт\"')"
   ]
  },
  {
   "cell_type": "code",
   "execution_count": 11,
   "metadata": {
    "colab": {
     "base_uri": "https://localhost:8080/"
    },
    "id": "2ocqK_UWqP2k",
    "outputId": "babbf62d-1fba-4afb-ab7a-25c7f2fc5ab7"
   },
   "outputs": [
    {
     "data": {
      "text/plain": [
       "257.8143177841666"
      ]
     },
     "execution_count": 11,
     "metadata": {},
     "output_type": "execute_result"
    }
   ],
   "source": [
    "np.exp2(-lda.log_perplexity(corpus[:1000]))"
   ]
  },
  {
   "cell_type": "code",
   "execution_count": 12,
   "metadata": {
    "colab": {
     "base_uri": "https://localhost:8080/"
    },
    "id": "poXVI8U3rUHU",
    "outputId": "1cc1cd24-d149-401c-f365-85d142db1c79"
   },
   "outputs": [
    {
     "data": {
      "text/plain": [
       "0.47233490085449886"
      ]
     },
     "execution_count": 12,
     "metadata": {},
     "output_type": "execute_result"
    }
   ],
   "source": [
    "topics = []\n",
    "for topic_id, topic in lda.show_topics(num_topics=100, formatted=False):\n",
    "    topic = [word for word, _ in topic]\n",
    "    topics.append(topic)\n",
    "\n",
    "coherence_model_lda = gensim.models.CoherenceModel(topics=topics, \n",
    "                                                   texts=ngrammed_texts, \n",
    "                                                   dictionary=dictionary, coherence='c_v')\n",
    "\n",
    "coherence_model_lda.get_coherence()"
   ]
  },
  {
   "cell_type": "markdown",
   "metadata": {
    "id": "CKAqDSuhsm61"
   },
   "source": [
    "МОДЕЛЬ С TF IDF:"
   ]
  },
  {
   "cell_type": "code",
   "execution_count": 3,
   "metadata": {
    "colab": {
     "base_uri": "https://localhost:8080/"
    },
    "id": "Ge9qMkIAtX5n",
    "outputId": "0a765a59-52dd-4334-c850-9a55f22082b2"
   },
   "outputs": [],
   "source": [
    "texts = open('wiki_data.txt').read().splitlines()[:1000]\n",
    "texts = ([normalize(text) for text in texts])\n",
    "# texts [:3]"
   ]
  },
  {
   "cell_type": "code",
   "execution_count": null,
   "metadata": {
    "id": "ZPz8i_dstX5p"
   },
   "outputs": [],
   "source": [
    "dictionary = gensim.corpora.Dictionary((text.split() for text in texts))"
   ]
  },
  {
   "cell_type": "code",
   "execution_count": null,
   "metadata": {
    "id": "CRMzo9gMtX5q"
   },
   "outputs": [],
   "source": [
    "dictionary.filter_extremes(no_above=0.1, no_below=10)\n",
    "dictionary.compactify()"
   ]
  },
  {
   "cell_type": "code",
   "execution_count": null,
   "metadata": {
    "id": "4ovyPeL5tX5q"
   },
   "outputs": [],
   "source": [
    "corpus = [dictionary.doc2bow(text.split()) for text in texts]"
   ]
  },
  {
   "cell_type": "code",
   "execution_count": null,
   "metadata": {
    "id": "rvqnA2Ont77l"
   },
   "outputs": [],
   "source": [
    "tfidf = gensim.models.TfidfModel(corpus, id2word=dictionary, )\n",
    "corpus = tfidf[corpus]"
   ]
  },
  {
   "cell_type": "code",
   "execution_count": null,
   "metadata": {
    "colab": {
     "base_uri": "https://localhost:8080/"
    },
    "id": "sYYMkdWjtX5q",
    "outputId": "4b162ef2-fb12-49fc-e321-04b354b17e2a"
   },
   "outputs": [
    {
     "data": {
      "text/plain": [
       "[(99,\n",
       "  '0.000*\"конечный\" + 0.000*\"круглый\" + 0.000*\"изобразить\" + 0.000*\"историк\" + 0.000*\"каменный\" + 0.000*\"комиссар\" + 0.000*\"конгресс\" + 0.000*\"здание\" + 0.000*\"красивый\" + 0.000*\"лишить\"'),\n",
       " (98,\n",
       "  '0.001*\"сельсовет\" + 0.001*\"альбом\" + 0.000*\"душа\" + 0.000*\"сеть\" + 0.000*\"мы\" + 0.000*\"хутор\" + 0.000*\"проживать\" + 0.000*\"стена\" + 0.000*\"сотня\" + 0.000*\"музыкант\"'),\n",
       " (97,\n",
       "  '0.001*\"сценарий\" + 0.000*\"фамилия\" + 0.000*\"окончить\" + 0.000*\"москва\" + 0.000*\"1953\" + 0.000*\"факультет\" + 0.000*\"руководитель\" + 0.000*\"считать\" + 0.000*\"2008\" + 0.000*\"8\"'),\n",
       " (95,\n",
       "  '0.001*\"институт\" + 0.001*\"научный\" + 0.001*\"учёный\" + 0.001*\"университет\" + 0.001*\"директор\" + 0.001*\"солнце\" + 0.000*\"московский\" + 0.000*\"русский\" + 0.000*\"заведовать\" + 0.000*\"ликвидация\"'),\n",
       " (96,\n",
       "  '0.000*\"конечный\" + 0.000*\"круглый\" + 0.000*\"изобразить\" + 0.000*\"историк\" + 0.000*\"каменный\" + 0.000*\"комиссар\" + 0.000*\"конгресс\" + 0.000*\"здание\" + 0.000*\"красивый\" + 0.000*\"лишить\"'),\n",
       " (94,\n",
       "  '0.000*\"военно-морской\" + 0.000*\"офицер\" + 0.000*\"служить\" + 0.000*\"корабль\" + 0.000*\"тип\" + 0.000*\"1942\" + 0.000*\"командовать\" + 0.000*\"звание\" + 0.000*\"калифорния\" + 0.000*\"должность\"'),\n",
       " (92,\n",
       "  '0.000*\"конечный\" + 0.000*\"круглый\" + 0.000*\"изобразить\" + 0.000*\"историк\" + 0.000*\"каменный\" + 0.000*\"комиссар\" + 0.000*\"конгресс\" + 0.000*\"здание\" + 0.000*\"красивый\" + 0.000*\"лишить\"'),\n",
       " (93,\n",
       "  '0.000*\"конечный\" + 0.000*\"круглый\" + 0.000*\"изобразить\" + 0.000*\"историк\" + 0.000*\"каменный\" + 0.000*\"комиссар\" + 0.000*\"конгресс\" + 0.000*\"здание\" + 0.000*\"красивый\" + 0.000*\"лишить\"'),\n",
       " (91,\n",
       "  '0.001*\"выборы\" + 0.001*\"дума\" + 0.001*\"георгий\" + 0.001*\"александрович\" + 0.001*\"выдвинуть\" + 0.001*\"тур\" + 0.001*\"партия\" + 0.001*\"депутат\" + 0.001*\"кандидат\" + 0.000*\"городской\"'),\n",
       " (90,\n",
       "  '0.000*\"конечный\" + 0.000*\"круглый\" + 0.000*\"изобразить\" + 0.000*\"историк\" + 0.000*\"каменный\" + 0.000*\"комиссар\" + 0.000*\"конгресс\" + 0.000*\"здание\" + 0.000*\"красивый\" + 0.000*\"лишить\"'),\n",
       " (9,\n",
       "  '0.001*\"мощность\" + 0.001*\"курс\" + 0.001*\"комсомольский\" + 0.001*\"мастерская\" + 0.001*\"читать\" + 0.001*\"редакция\" + 0.001*\"1998\" + 0.001*\"общий\" + 0.001*\"награда\" + 0.001*\"улица\"'),\n",
       " (8,\n",
       "  '0.001*\"реализация\" + 0.001*\"классический\" + 0.001*\"аэропорт\" + 0.001*\"университет\" + 0.001*\"дворец\" + 0.001*\"венесуэла\" + 0.001*\"сад\" + 0.001*\"канада\" + 0.001*\"экипаж\" + 0.001*\"фон\"'),\n",
       " (7,\n",
       "  '0.026*\"приём\" + 0.001*\"мыс\" + 0.001*\"доктор\" + 0.001*\"музыкант\" + 0.001*\"средство\" + 0.001*\"институт\" + 0.001*\"эффект\" + 0.001*\"минута\" + 0.001*\"звезда\" + 0.001*\"посёлок\"'),\n",
       " (6,\n",
       "  '0.030*\"сообщество\" + 0.024*\"уильямс\" + 0.004*\"мирный\" + 0.002*\"утверждение\" + 0.002*\"статус\" + 0.001*\"плод\" + 0.001*\"эксперт\" + 0.001*\"муниципальный\" + 0.001*\"мнение\" + 0.001*\"обращение\"'),\n",
       " (5,\n",
       "  '0.035*\"слава\" + 0.026*\"список\" + 0.018*\"лауреат\" + 0.018*\"вклад\" + 0.018*\"чей\" + 0.018*\"заслужить\" + 0.016*\"звезда\" + 0.016*\"театр\" + 0.014*\"деятель\" + 0.010*\"петербургский\"'),\n",
       " (4,\n",
       "  '0.024*\"орудие\" + 0.014*\"сезон\" + 0.011*\"схожий\" + 0.010*\"тонкий\" + 0.010*\"строение\" + 0.010*\"таблица\" + 0.010*\"александрович\" + 0.010*\"занятой\" + 0.010*\"растение\" + 0.010*\"украинский\"'),\n",
       " (3,\n",
       "  '0.103*\"село\" + 0.055*\"посёлок\" + 0.052*\"харьковский\" + 0.045*\"км\" + 0.041*\"код\" + 0.035*\"коатуа\" + 0.032*\"река\" + 0.029*\"расстояние\" + 0.029*\"ж\" + 0.029*\"сельский\"'),\n",
       " (2,\n",
       "  '0.116*\"остров\" + 0.036*\"метр\" + 0.035*\"архипелаг\" + 0.031*\"километр\" + 0.024*\"станция\" + 0.023*\"относиться\" + 0.018*\"франц-иосиф\" + 0.017*\"земля\" + 0.016*\"россия\" + 0.016*\"архангельский\"'),\n",
       " (1,\n",
       "  '0.011*\"экипаж\" + 0.007*\"заезд\" + 0.006*\"финал\" + 0.006*\"церковь\" + 0.005*\"река\" + 0.005*\"выходить\" + 0.005*\"бельгия\" + 0.005*\"канада\" + 0.005*\"раунд\" + 0.005*\"a\"'),\n",
       " (0,\n",
       "  '0.003*\"фильм\" + 0.003*\"департамент\" + 0.003*\"спортсмен\" + 0.003*\"значение\" + 0.003*\"соревнование\" + 0.003*\"чемпионат\" + 0.003*\"уезд\" + 0.003*\"зимний\" + 0.003*\"клуб\" + 0.003*\"атлетика\"')]"
      ]
     },
     "execution_count": 146,
     "metadata": {},
     "output_type": "execute_result"
    }
   ],
   "source": [
    "lda = gensim.models.LdaMulticore(corpus, \n",
    "                                 100, # количество тем\n",
    "                                 alpha='asymmetric',\n",
    "                                 id2word=dictionary, \n",
    "                                 passes=10)\n",
    "lda.print_topics()"
   ]
  },
  {
   "cell_type": "markdown",
   "metadata": {
    "id": "dgHveXdNZCo3"
   },
   "source": [
    "Вывод: визуально этот способ также даёт нормальное разбиение по темам. Метрики сравним в конце исследования. Неплохая тема получилась про политику:\n",
    "(91,\n",
    "  '0.001*\"выборы\" + 0.001*\"дума\" + 0.001*\"георгий\" + 0.001*\"александрович\" + 0.001*\"выдвинуть\" + 0.001*\"тур\" + 0.001*\"партия\" + 0.001*\"депутат\" + 0.001*\"кандидат\" + 0.000*\"городской\"')"
   ]
  },
  {
   "cell_type": "code",
   "execution_count": null,
   "metadata": {
    "colab": {
     "base_uri": "https://localhost:8080/"
    },
    "id": "yt_Cd87BtX5q",
    "outputId": "f7f30777-9376-48bb-ca5a-605d2e991b03"
   },
   "outputs": [
    {
     "data": {
      "text/plain": [
       "1759.4617775119436"
      ]
     },
     "execution_count": 147,
     "metadata": {},
     "output_type": "execute_result"
    }
   ],
   "source": [
    "np.exp2(-lda.log_perplexity(corpus[:1000]))"
   ]
  },
  {
   "cell_type": "code",
   "execution_count": 7,
   "metadata": {
    "colab": {
     "base_uri": "https://localhost:8080/"
    },
    "id": "UW9MaEdptX5r",
    "outputId": "6d8ae502-1dfb-4725-8707-997adaaceee2"
   },
   "outputs": [],
   "source": [
    "topics = []\n",
    "for topic_id, topic in lda.show_topics(num_topics=100, formatted=False):\n",
    "    topic = [word for word, _ in topic]\n",
    "    topics.append(topic)\n",
    "\n",
    "coherence_model_lda = gensim.models.CoherenceModel(topics=topics, \n",
    "                                                   texts=[text.split() for text in texts], \n",
    "                                                   dictionary=dictionary, coherence='c_v')\n",
    "\n",
    "coherence_model_lda.get_coherence()"
   ]
  },
  {
   "cell_type": "markdown",
   "metadata": {
    "id": "1_k5ptQIu8Od"
   },
   "source": [
    "С N-GRAMS И TF IDF:"
   ]
  },
  {
   "cell_type": "code",
   "execution_count": 5,
   "metadata": {
    "colab": {
     "base_uri": "https://localhost:8080/"
    },
    "id": "fzaDDhOHvWeF",
    "outputId": "fa2a9e9e-45b7-4122-dd39-e25694e591fd"
   },
   "outputs": [],
   "source": [
    "texts = open('wiki_data.txt').read().splitlines()[:1000]\n",
    "texts = ([normalize(text) for text in texts])\n",
    "# texts [:3]"
   ]
  },
  {
   "cell_type": "code",
   "execution_count": 4,
   "metadata": {
    "colab": {
     "base_uri": "https://localhost:8080/"
    },
    "id": "G5wY3vlWyJTz",
    "outputId": "1531e8d0-8205-47ab-9007-8cfd23905638"
   },
   "outputs": [],
   "source": [
    "# print(texts[0].split())"
   ]
  },
  {
   "cell_type": "code",
   "execution_count": 18,
   "metadata": {
    "id": "_84ZcRbDvdgm"
   },
   "outputs": [],
   "source": [
    "texts_n = [text.split() for text in texts]\n",
    "ph = gensim.models.Phrases(texts_n, scoring='npmi', threshold=0.4) # threshold можно подбирать\n",
    "p = gensim.models.phrases.Phraser(ph)\n",
    "ngrammed_texts = p[texts_n] "
   ]
  },
  {
   "cell_type": "code",
   "execution_count": 19,
   "metadata": {
    "id": "R5kzb8q1vWeG"
   },
   "outputs": [],
   "source": [
    "dictionary = gensim.corpora.Dictionary(ngrammed_texts)"
   ]
  },
  {
   "cell_type": "code",
   "execution_count": 6,
   "metadata": {
    "colab": {
     "base_uri": "https://localhost:8080/"
    },
    "id": "93BLaxNNxsLs",
    "outputId": "09cdaef4-0d04-499d-ab10-0c58b1bbf362"
   },
   "outputs": [],
   "source": [
    "# for i in range (3):\n",
    "#   print (ngrammed_texts[i])"
   ]
  },
  {
   "cell_type": "code",
   "execution_count": 20,
   "metadata": {
    "id": "U2n-QKPkvWeG"
   },
   "outputs": [],
   "source": [
    "dictionary.filter_extremes(no_above=0.1, no_below=10)\n",
    "dictionary.compactify()"
   ]
  },
  {
   "cell_type": "code",
   "execution_count": 21,
   "metadata": {
    "id": "mPwAZmutvWeG"
   },
   "outputs": [],
   "source": [
    "corpus = [dictionary.doc2bow(ngram) for ngram in ngrammed_texts]"
   ]
  },
  {
   "cell_type": "code",
   "execution_count": 22,
   "metadata": {
    "id": "0EBH9L4UvWeH"
   },
   "outputs": [],
   "source": [
    "tfidf = gensim.models.TfidfModel(corpus, id2word=dictionary, )\n",
    "corpus = tfidf[corpus]"
   ]
  },
  {
   "cell_type": "code",
   "execution_count": 23,
   "metadata": {
    "colab": {
     "base_uri": "https://localhost:8080/"
    },
    "id": "fog_8le5vWeH",
    "outputId": "586226d8-577d-4b5c-de00-b3649b038150"
   },
   "outputs": [
    {
     "data": {
      "text/plain": [
       "[(99,\n",
       "  '0.001*\"я\" + 0.000*\"деньга\" + 0.000*\"ученик\" + 0.000*\"художник\" + 0.000*\"чтобы\" + 0.000*\"уехать\" + 0.000*\"взять\" + 0.000*\"сделать\" + 0.000*\"дом\" + 0.000*\"настоящий\"'),\n",
       " (97,\n",
       "  '0.000*\"священник\" + 0.000*\"символ\" + 0.000*\"религиозный\" + 0.000*\"решение\" + 0.000*\"рим\" + 0.000*\"рядом\" + 0.000*\"самостоятельный\" + 0.000*\"свой_очередь\" + 0.000*\"расположение\" + 0.000*\"северный_часть\"'),\n",
       " (98,\n",
       "  '0.000*\"священник\" + 0.000*\"символ\" + 0.000*\"религиозный\" + 0.000*\"решение\" + 0.000*\"рим\" + 0.000*\"рядом\" + 0.000*\"самостоятельный\" + 0.000*\"свой_очередь\" + 0.000*\"расположение\" + 0.000*\"северный_часть\"'),\n",
       " (96,\n",
       "  '0.000*\"священник\" + 0.000*\"символ\" + 0.000*\"религиозный\" + 0.000*\"решение\" + 0.000*\"рим\" + 0.000*\"рядом\" + 0.000*\"самостоятельный\" + 0.000*\"свой_очередь\" + 0.000*\"расположение\" + 0.000*\"северный_часть\"'),\n",
       " (95,\n",
       "  '0.000*\"священник\" + 0.000*\"символ\" + 0.000*\"религиозный\" + 0.000*\"решение\" + 0.000*\"рим\" + 0.000*\"рядом\" + 0.000*\"самостоятельный\" + 0.000*\"свой_очередь\" + 0.000*\"расположение\" + 0.000*\"северный_часть\"'),\n",
       " (94,\n",
       "  '0.000*\"священник\" + 0.000*\"символ\" + 0.000*\"религиозный\" + 0.000*\"решение\" + 0.000*\"рим\" + 0.000*\"рядом\" + 0.000*\"самостоятельный\" + 0.000*\"свой_очередь\" + 0.000*\"расположение\" + 0.000*\"северный_часть\"'),\n",
       " (93,\n",
       "  '0.000*\"священник\" + 0.000*\"символ\" + 0.000*\"религиозный\" + 0.000*\"решение\" + 0.000*\"рим\" + 0.000*\"рядом\" + 0.000*\"самостоятельный\" + 0.000*\"свой_очередь\" + 0.000*\"расположение\" + 0.000*\"северный_часть\"'),\n",
       " (92,\n",
       "  '0.001*\"играть\" + 0.000*\"альбом\" + 0.000*\"актёр\" + 0.000*\"театр\" + 0.000*\"the\" + 0.000*\"штат\" + 0.000*\"фильм\" + 0.000*\"музыкант\" + 0.000*\"записать\" + 0.000*\"1970-й\"'),\n",
       " (91,\n",
       "  '0.000*\"священник\" + 0.000*\"символ\" + 0.000*\"религиозный\" + 0.000*\"решение\" + 0.000*\"рим\" + 0.000*\"рядом\" + 0.000*\"самостоятельный\" + 0.000*\"свой_очередь\" + 0.000*\"расположение\" + 0.000*\"северный_часть\"'),\n",
       " (89,\n",
       "  '0.000*\"священник\" + 0.000*\"символ\" + 0.000*\"религиозный\" + 0.000*\"решение\" + 0.000*\"рим\" + 0.000*\"рядом\" + 0.000*\"самостоятельный\" + 0.000*\"свой_очередь\" + 0.000*\"расположение\" + 0.000*\"северный_часть\"'),\n",
       " (9,\n",
       "  '0.002*\"связывать\" + 0.002*\"доля\" + 0.002*\"редко\" + 0.002*\"подняться\" + 0.002*\"острый\" + 0.002*\"уйти\" + 0.002*\"обратно\" + 0.002*\"причём\" + 0.001*\"существо\" + 0.001*\"между_себя\"'),\n",
       " (8,\n",
       "  '0.064*\"суд\" + 0.035*\"математика\" + 0.021*\"рассмотрение\" + 0.004*\"либо\" + 0.004*\"судно\" + 0.002*\"дело\" + 0.002*\"рф\" + 0.002*\"доказательство\" + 0.001*\"решение\" + 0.001*\"отменить\"'),\n",
       " (7,\n",
       "  '0.018*\"музыкант\" + 0.011*\"бывший\" + 0.011*\"студийный_альбом\" + 0.010*\"записать\" + 0.009*\"игорь\" + 0.009*\"2011\" + 0.009*\"2008\" + 0.009*\"2014\" + 0.009*\"марк\" + 0.007*\"помимо\"'),\n",
       " (6,\n",
       "  '0.001*\"протекать\" + 0.001*\"индия\" + 0.001*\"река\" + 0.001*\"институт\" + 0.001*\"ирландия\" + 0.001*\"1959\" + 0.001*\"of_the\" + 0.001*\"выставка\" + 0.001*\"оскар\" + 0.001*\"награда\"'),\n",
       " (5,\n",
       "  '0.024*\"плод\" + 0.018*\"азия\" + 0.009*\"s\" + 0.009*\"свет\" + 0.008*\"главное\" + 0.008*\"класс\" + 0.008*\"связать_с\" + 0.008*\"открытый\" + 0.008*\"поскольку\" + 0.007*\"дочь\"'),\n",
       " (4,\n",
       "  '0.031*\"дивизия\" + 0.029*\"командующий\" + 0.029*\"наградить\" + 0.018*\"сфера\" + 0.017*\"лейтенант\" + 0.015*\"офицер\" + 0.015*\"корпус\" + 0.012*\"лев\" + 0.010*\"плен\" + 0.010*\"генерал-лейтенант\"'),\n",
       " (3,\n",
       "  '0.045*\"фамилия\" + 0.043*\"национальный_чемпионат\" + 0.043*\"азербайджан\" + 0.026*\"пройти\" + 0.026*\"эсминец\" + 0.017*\"российский_империя\" + 0.017*\"флот\" + 0.016*\"известный\" + 0.016*\"впервые\" + 0.014*\"1950\"'),\n",
       " (2,\n",
       "  '0.038*\"вид\" + 0.034*\"семейство\" + 0.026*\"лист\" + 0.025*\"длина\" + 0.024*\"смотреть\" + 0.018*\"мм\" + 0.018*\"растение\" + 0.018*\"семя\" + 0.018*\"относиться_к\" + 0.017*\"вид_род\"'),\n",
       " (1,\n",
       "  '0.011*\"страна_представлять\" + 0.011*\"медаль_сборная\" + 0.011*\"не_завоевать\" + 0.011*\"спортсмен\" + 0.011*\"история_но\" + 0.010*\"ни_один\" + 0.008*\"женщина\" + 0.008*\"село\" + 0.007*\"соревнование_по\" + 0.007*\"раз_за\"'),\n",
       " (0,\n",
       "  '0.004*\"остров\" + 0.003*\"фильм\" + 0.003*\"значение\" + 0.002*\"альбом\" + 0.002*\"россия\" + 0.002*\"клуб\" + 0.002*\"игра\" + 0.002*\"округ\" + 0.002*\"мир\" + 0.002*\"университет\"')]"
      ]
     },
     "execution_count": 23,
     "metadata": {},
     "output_type": "execute_result"
    }
   ],
   "source": [
    "lda = gensim.models.LdaMulticore(corpus, \n",
    "                                 100, # количество тем\n",
    "                                 alpha='asymmetric',\n",
    "                                 id2word=dictionary, \n",
    "                                 passes=10)\n",
    "lda.print_topics()"
   ]
  },
  {
   "cell_type": "markdown",
   "metadata": {
    "id": "1E561bsEZ5un"
   },
   "source": [
    "Вывод: визуально этот способ хуже остальных, или я что-то неправильно сделала. Метрики сравним в конце исследования. Неплохая тема получилась про религию, но не понимаю, почему одна тема повторяется несколько раз:\n",
    " (94,\n",
    "  '0.000*\"священник\" + 0.000*\"символ\" + 0.000*\"религиозный\" + 0.000*\"решение\" + 0.000*\"рим\" + 0.000*\"рядом\" + 0.000*\"самостоятельный\" + 0.000*\"свой_очередь\" + 0.000*\"расположение\" + 0.000*\"северный_часть\"')"
   ]
  },
  {
   "cell_type": "code",
   "execution_count": 15,
   "metadata": {
    "colab": {
     "base_uri": "https://localhost:8080/"
    },
    "id": "6fCgW9HNvWeH",
    "outputId": "1991c039-e6e0-44ea-ce7a-d001fb81ae4f"
   },
   "outputs": [
    {
     "data": {
      "text/plain": [
       "1775.725933761205"
      ]
     },
     "execution_count": 15,
     "metadata": {},
     "output_type": "execute_result"
    }
   ],
   "source": [
    "np.exp2(-lda.log_perplexity(corpus[:1000]))"
   ]
  },
  {
   "cell_type": "code",
   "execution_count": 16,
   "metadata": {
    "colab": {
     "base_uri": "https://localhost:8080/"
    },
    "id": "M8VyiD5xvWeH",
    "outputId": "9478236e-a036-4f28-cc58-bc80898638fb"
   },
   "outputs": [
    {
     "data": {
      "text/plain": [
       "0.40068210222785716"
      ]
     },
     "execution_count": 16,
     "metadata": {},
     "output_type": "execute_result"
    }
   ],
   "source": [
    "topics = []\n",
    "for topic_id, topic in lda.show_topics(num_topics=100, formatted=False):\n",
    "    topic = [word for word, _ in topic]\n",
    "    topics.append(topic)\n",
    "\n",
    "coherence_model_lda = gensim.models.CoherenceModel(topics=topics, \n",
    "                                                   texts=ngrammed_texts, \n",
    "                                                   dictionary=dictionary, coherence='c_v')\n",
    "\n",
    "coherence_model_lda.get_coherence()"
   ]
  },
  {
   "cell_type": "markdown",
   "metadata": {
    "id": "AoeWwmdNZ_VG"
   },
   "source": [
    "Сравнение моделей:"
   ]
  },
  {
   "cell_type": "code",
   "execution_count": 24,
   "metadata": {
    "colab": {
     "base_uri": "https://localhost:8080/",
     "height": 112
    },
    "id": "8f6gOHpv0PFy",
    "outputId": "4b288ec2-d4e9-40b1-f8d1-01dbd339be37"
   },
   "outputs": [
    {
     "data": {
      "text/html": [
       "\n",
       "  <div id=\"df-62decfc1-62ce-4685-87c0-3c18efe4b738\">\n",
       "    <div class=\"colab-df-container\">\n",
       "      <div>\n",
       "<style scoped>\n",
       "    .dataframe tbody tr th:only-of-type {\n",
       "        vertical-align: middle;\n",
       "    }\n",
       "\n",
       "    .dataframe tbody tr th {\n",
       "        vertical-align: top;\n",
       "    }\n",
       "\n",
       "    .dataframe thead th {\n",
       "        text-align: right;\n",
       "    }\n",
       "</style>\n",
       "<table border=\"1\" class=\"dataframe\">\n",
       "  <thead>\n",
       "    <tr style=\"text-align: right;\">\n",
       "      <th></th>\n",
       "      <th>Метрики</th>\n",
       "      <th>Просто Gensim</th>\n",
       "      <th>N-grams</th>\n",
       "      <th>TfIdf</th>\n",
       "      <th>N-grams+TfIdf</th>\n",
       "    </tr>\n",
       "  </thead>\n",
       "  <tbody>\n",
       "    <tr>\n",
       "      <th>0</th>\n",
       "      <td>Перплексия</td>\n",
       "      <td>215.30</td>\n",
       "      <td>257.84</td>\n",
       "      <td>1759.46</td>\n",
       "      <td>1775.73</td>\n",
       "    </tr>\n",
       "    <tr>\n",
       "      <th>1</th>\n",
       "      <td>Когерентность</td>\n",
       "      <td>0.48</td>\n",
       "      <td>0.47</td>\n",
       "      <td>0.44</td>\n",
       "      <td>0.40</td>\n",
       "    </tr>\n",
       "  </tbody>\n",
       "</table>\n",
       "</div>\n",
       "      <button class=\"colab-df-convert\" onclick=\"convertToInteractive('df-62decfc1-62ce-4685-87c0-3c18efe4b738')\"\n",
       "              title=\"Convert this dataframe to an interactive table.\"\n",
       "              style=\"display:none;\">\n",
       "        \n",
       "  <svg xmlns=\"http://www.w3.org/2000/svg\" height=\"24px\"viewBox=\"0 0 24 24\"\n",
       "       width=\"24px\">\n",
       "    <path d=\"M0 0h24v24H0V0z\" fill=\"none\"/>\n",
       "    <path d=\"M18.56 5.44l.94 2.06.94-2.06 2.06-.94-2.06-.94-.94-2.06-.94 2.06-2.06.94zm-11 1L8.5 8.5l.94-2.06 2.06-.94-2.06-.94L8.5 2.5l-.94 2.06-2.06.94zm10 10l.94 2.06.94-2.06 2.06-.94-2.06-.94-.94-2.06-.94 2.06-2.06.94z\"/><path d=\"M17.41 7.96l-1.37-1.37c-.4-.4-.92-.59-1.43-.59-.52 0-1.04.2-1.43.59L10.3 9.45l-7.72 7.72c-.78.78-.78 2.05 0 2.83L4 21.41c.39.39.9.59 1.41.59.51 0 1.02-.2 1.41-.59l7.78-7.78 2.81-2.81c.8-.78.8-2.07 0-2.86zM5.41 20L4 18.59l7.72-7.72 1.47 1.35L5.41 20z\"/>\n",
       "  </svg>\n",
       "      </button>\n",
       "      \n",
       "  <style>\n",
       "    .colab-df-container {\n",
       "      display:flex;\n",
       "      flex-wrap:wrap;\n",
       "      gap: 12px;\n",
       "    }\n",
       "\n",
       "    .colab-df-convert {\n",
       "      background-color: #E8F0FE;\n",
       "      border: none;\n",
       "      border-radius: 50%;\n",
       "      cursor: pointer;\n",
       "      display: none;\n",
       "      fill: #1967D2;\n",
       "      height: 32px;\n",
       "      padding: 0 0 0 0;\n",
       "      width: 32px;\n",
       "    }\n",
       "\n",
       "    .colab-df-convert:hover {\n",
       "      background-color: #E2EBFA;\n",
       "      box-shadow: 0px 1px 2px rgba(60, 64, 67, 0.3), 0px 1px 3px 1px rgba(60, 64, 67, 0.15);\n",
       "      fill: #174EA6;\n",
       "    }\n",
       "\n",
       "    [theme=dark] .colab-df-convert {\n",
       "      background-color: #3B4455;\n",
       "      fill: #D2E3FC;\n",
       "    }\n",
       "\n",
       "    [theme=dark] .colab-df-convert:hover {\n",
       "      background-color: #434B5C;\n",
       "      box-shadow: 0px 1px 3px 1px rgba(0, 0, 0, 0.15);\n",
       "      filter: drop-shadow(0px 1px 2px rgba(0, 0, 0, 0.3));\n",
       "      fill: #FFFFFF;\n",
       "    }\n",
       "  </style>\n",
       "\n",
       "      <script>\n",
       "        const buttonEl =\n",
       "          document.querySelector('#df-62decfc1-62ce-4685-87c0-3c18efe4b738 button.colab-df-convert');\n",
       "        buttonEl.style.display =\n",
       "          google.colab.kernel.accessAllowed ? 'block' : 'none';\n",
       "\n",
       "        async function convertToInteractive(key) {\n",
       "          const element = document.querySelector('#df-62decfc1-62ce-4685-87c0-3c18efe4b738');\n",
       "          const dataTable =\n",
       "            await google.colab.kernel.invokeFunction('convertToInteractive',\n",
       "                                                     [key], {});\n",
       "          if (!dataTable) return;\n",
       "\n",
       "          const docLinkHtml = 'Like what you see? Visit the ' +\n",
       "            '<a target=\"_blank\" href=https://colab.research.google.com/notebooks/data_table.ipynb>data table notebook</a>'\n",
       "            + ' to learn more about interactive tables.';\n",
       "          element.innerHTML = '';\n",
       "          dataTable['output_type'] = 'display_data';\n",
       "          await google.colab.output.renderOutput(dataTable, element);\n",
       "          const docLink = document.createElement('div');\n",
       "          docLink.innerHTML = docLinkHtml;\n",
       "          element.appendChild(docLink);\n",
       "        }\n",
       "      </script>\n",
       "    </div>\n",
       "  </div>\n",
       "  "
      ],
      "text/plain": [
       "         Метрики  Просто Gensim  N-grams    TfIdf  N-grams+TfIdf\n",
       "0     Перплексия         215.30   257.84  1759.46        1775.73\n",
       "1  Когерентность           0.48     0.47     0.44           0.40"
      ]
     },
     "execution_count": 24,
     "metadata": {},
     "output_type": "execute_result"
    }
   ],
   "source": [
    "df = pd.DataFrame({'Метрики': ['Перплексия', 'Когерентность'], 'Просто Gensim': [215.30, 0.48], 'N-grams': [257.84, 0.47], 'TfIdf': [1759.46, 0.44], 'N-grams+TfIdf': [1775.73, 0.40]}, )\n",
    "df"
   ]
  },
  {
   "cell_type": "markdown",
   "metadata": {
    "id": "Mty5FCL4sMcw"
   },
   "source": [
    "По значениям перплексии мы видим, что лучше всего работает просто первоначальная модель (перплексия ближе всего к нулю). По показателям когерентности также делаем вывод, что лучше всего работает первоначальная модель (у неё максимальное значение когерентности)."
   ]
  }
 ],
 "metadata": {
  "colab": {
   "name": "ДЗ_5.ipynb",
   "provenance": []
  },
  "kernelspec": {
   "display_name": "Python 3 (ipykernel)",
   "language": "python",
   "name": "python3"
  },
  "language_info": {
   "codemirror_mode": {
    "name": "ipython",
    "version": 3
   },
   "file_extension": ".py",
   "mimetype": "text/x-python",
   "name": "python",
   "nbconvert_exporter": "python",
   "pygments_lexer": "ipython3",
   "version": "3.7.2"
  }
 },
 "nbformat": 4,
 "nbformat_minor": 1
}
