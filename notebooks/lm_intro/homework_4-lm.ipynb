{
 "cells": [
  {
   "cell_type": "markdown",
   "id": "00fad453",
   "metadata": {},
   "source": [
    "# Домашнее задание № 4. Языковые модели"
   ]
  },
  {
   "cell_type": "markdown",
   "id": "5d056af4",
   "metadata": {},
   "source": [
    "## Задание 1 (8 баллов)."
   ]
  },
  {
   "cell_type": "markdown",
   "id": "d1f532a8",
   "metadata": {},
   "source": [
    "В семинаре для генерации мы использовали предположение маркова и считали, что слово зависит только от 1 предыдущего слова. Но ничто нам не мешает попробовать увеличить размер окна и учитывать два или даже три прошлых слова. Для них мы еще сможем собрать достаточно статистик и, логично предположить, что качество сгенерированного текста должно вырасти."
   ]
  },
  {
   "cell_type": "markdown",
   "id": "de743d1d",
   "metadata": {},
   "source": [
    "Попробуйте сделать языковую модель, которая будет учитывать два предыдущих слова при генерации текста.\n",
    "Сгенерируйте несколько текстов (3-5) и расчитайте перплексию получившейся модели. \n",
    "Можно использовать данные из семинара или любые другие (сопоставимые или большие по объему). Перплексию рассчитывайте на 10-50 отложенных предложениях (они не должны использоваться при сборе статистик).\n",
    "\n",
    "\n",
    "Подсказки:  \n",
    "    - нужно будет добавить еще один тэг <start>  \n",
    "    - еще одна матрица не нужна, можно по строкам хронить биграмы, а по колонкам униграммы  \n",
    "    - тексты должны быть очень похожи на нормальные (если у вас получается рандомная каша, вы что-то делаете не так). "
   ]
  },
  {
   "cell_type": "code",
   "execution_count": 4,
   "id": "d078056d",
   "metadata": {},
   "outputs": [],
   "source": [
    "from string import punctuation\n",
    "from razdel import sentenize\n",
    "from razdel import tokenize as razdel_tokenize\n",
    "import numpy as np\n",
    "from IPython.display import Image\n",
    "from IPython.core.display import HTML\n",
    "from collections import Counter"
   ]
  },
  {
   "cell_type": "code",
   "execution_count": 5,
   "id": "6afcef88",
   "metadata": {},
   "outputs": [],
   "source": [
    "dvach = open('2ch_corpus.txt').read()\n",
    "news = open('lenta.txt').read()"
   ]
  },
  {
   "cell_type": "code",
   "execution_count": 6,
   "id": "8b8b19c3",
   "metadata": {},
   "outputs": [],
   "source": [
    "def normalize(text):\n",
    "    normalized_text = [word.text.strip(punctuation) for word in razdel_tokenize(text)]\n",
    "    normalized_text = [word.lower() for word in normalized_text if word and len(word) < 20 ]\n",
    "    return normalized_text"
   ]
  },
  {
   "cell_type": "code",
   "execution_count": 7,
   "id": "ce7353c9",
   "metadata": {},
   "outputs": [],
   "source": [
    "from nltk.tokenize import sent_tokenize\n",
    "def ngrammer(tokens, n=2):\n",
    "    ngrams = []\n",
    "    for i in range(0,len(tokens)-n+1):\n",
    "        ngrams.append(' '.join(tokens[i:i+n]))\n",
    "    return ngrams"
   ]
  },
  {
   "cell_type": "code",
   "execution_count": 8,
   "id": "e9aaf2f5",
   "metadata": {},
   "outputs": [],
   "source": [
    "# отрезаем по 50 предложений из каждого корпуса для расчёта перплексии\n",
    "\n",
    "sentences_dvach = [['<start>', '<start>'] + normalize(text) + ['<end>'] for text in sent_tokenize(dvach)]\n",
    "sentences_dvach_test = sentences_dvach[:50]\n",
    "sentences_dvach = sentences_dvach[50:]\n",
    "\n",
    "sentences_news = [['<start>', '<start>'] + normalize(text) + ['<end>'] for text in sent_tokenize(news)]\n",
    "sentences_news_test = sentences_news[:50]\n",
    "sentences_news = sentences_news[50:]"
   ]
  },
  {
   "cell_type": "code",
   "execution_count": 9,
   "id": "af4ced99",
   "metadata": {},
   "outputs": [],
   "source": [
    "unigrams_dvach = Counter()\n",
    "bigrams_dvach = Counter()\n",
    "trigrams_dvach = Counter()\n",
    "\n",
    "for sentence in sentences_dvach:\n",
    "    unigrams_dvach.update(sentence)\n",
    "    bigrams_dvach.update(ngrammer(sentence))\n",
    "    trigrams_dvach.update(ngrammer(sentence, n=3))\n",
    "\n",
    "unigrams_news = Counter()\n",
    "bigrams_news = Counter()\n",
    "trigrams_news = Counter()\n",
    "\n",
    "for sentence in sentences_news:\n",
    "    unigrams_news.update(sentence)\n",
    "    bigrams_news.update(ngrammer(sentence))\n",
    "    trigrams_news.update(ngrammer(sentence, n=3))"
   ]
  },
  {
   "cell_type": "code",
   "execution_count": 10,
   "id": "e49e896c",
   "metadata": {},
   "outputs": [],
   "source": [
    "from scipy.sparse import csr_matrix, csc_matrix, lil_matrix\n",
    "matrix_dvach = lil_matrix((len(bigrams_dvach), len(unigrams_dvach)))"
   ]
  },
  {
   "cell_type": "code",
   "execution_count": 11,
   "id": "b8478496",
   "metadata": {},
   "outputs": [],
   "source": [
    "id2word_dvach = list(unigrams_dvach)\n",
    "word2id_dvach = {word:i for i, word in enumerate(id2word_dvach)}\n",
    "id2bigram_dvach = list(bigrams_dvach)\n",
    "bigram2id_dvach = {bigram:i for i, bigram in enumerate(id2bigram_dvach)}"
   ]
  },
  {
   "cell_type": "code",
   "execution_count": 12,
   "id": "c092d496",
   "metadata": {},
   "outputs": [],
   "source": [
    "for ngram in trigrams_dvach:\n",
    "    word0, word1, word3 = ngram.split()\n",
    "    word2 = word0+' '+word1\n",
    "    matrix_dvach[bigram2id_dvach[word2],word2id_dvach[word3]] =  (trigrams_dvach[ngram]/bigrams_dvach[word2])"
   ]
  },
  {
   "cell_type": "code",
   "execution_count": 13,
   "id": "516e7243",
   "metadata": {},
   "outputs": [],
   "source": [
    "matrix_dvach = csr_matrix(matrix_dvach)"
   ]
  },
  {
   "cell_type": "code",
   "execution_count": 14,
   "id": "27aaeed8",
   "metadata": {},
   "outputs": [],
   "source": [
    "matrix_news = lil_matrix((len(bigrams_news), \n",
    "                   len(unigrams_news)))\n",
    "id2word_news = list(unigrams_news)\n",
    "word2id_news = {word:i for i, word in enumerate(id2word_news)} # словарь\n",
    "id2bigram_news = list(bigrams_news)\n",
    "bigram2id_news = {bigram:i for i, bigram in enumerate(id2bigram_news)}\n",
    "for ngram in trigrams_news:\n",
    "    word0, word1, word3 = ngram.split()\n",
    "    word2 = word0+' '+word1\n",
    "    matrix_news[bigram2id_news[word2],word2id_news[word3]] =  (trigrams_news[ngram]/bigrams_news[word2])"
   ]
  },
  {
   "cell_type": "code",
   "execution_count": 15,
   "id": "74f4b601",
   "metadata": {},
   "outputs": [],
   "source": [
    "matrix_news = csr_matrix(matrix_news)"
   ]
  },
  {
   "cell_type": "code",
   "execution_count": 16,
   "id": "1ddb8eed",
   "metadata": {},
   "outputs": [],
   "source": [
    "def generate(matrix, id2bigram, id2word, bigram2id, n=100, start='<start> <start>'):\n",
    "    text = []\n",
    "    current_idx = bigram2id[start]\n",
    "    \n",
    "    for i in range(n):\n",
    "#         chosen = np.random.choice(list(range(matrix.shape[1]))) # НЕПОН\n",
    "        chosen = np.random.choice(list(range(matrix.shape[1])), p=matrix[current_idx].toarray()[0]) # НЕПОН\n",
    "        text.append(id2word[chosen])\n",
    "\n",
    "        if id2word[chosen] == '<end>':\n",
    "            current_idx = bigram2id[start]\n",
    "        else:     \n",
    "            current_idx = bigram2id [id2bigram[current_idx].split( )[1] + ' ' + id2word[chosen]]\n",
    "    return ' '.join(text)"
   ]
  },
  {
   "cell_type": "code",
   "execution_count": 15,
   "id": "6fb489ed",
   "metadata": {},
   "outputs": [
    {
     "name": "stdout",
     "output_type": "stream",
     "text": [
      "на старте если бы тот кому пригодится. и подчёркивали его статус изгоя во всём этом. когда. могу сюда резюме шлюхи с академки позвонить но сука этот рельеф у меня были жесткие загоны в плане комфорта теплоизоляции и размера. джек дениэлсовая. end game сраные рп сервера разумеется петушино hmg вог красный медведь и куча других режимов и модов. вот такие пропорции. вот не за 500 р в будни. i want to be back in the middle of the stars awaited her she dove in for a time for example a metalworking lab that\n"
     ]
    }
   ],
   "source": [
    "print(generate(matrix_dvach, id2bigram_dvach, id2word_dvach, bigram2id_dvach).replace(' <end>', '.'))"
   ]
  },
  {
   "cell_type": "code",
   "execution_count": 16,
   "id": "2eb7a598",
   "metadata": {
    "scrolled": true
   },
   "outputs": [
    {
     "name": "stdout",
     "output_type": "stream",
     "text": [
      "во время первого официального допроса я стал бы торопить события заявил сегодня в акциях протеста заявив что дети очень легко объяснить \n",
      " глава администрации nasa дан голдин выступая на открытии проекта в впк \n",
      " по словам кузьминова предполагают учреждение новой структуры объявили о начале работы над проектом законодательной регламентации распространения информации о том что он может произойти что-то такое что приведет к снятию экономических санкций \n",
      " по словам председателя центризбиркома александра вешнякова \n",
      " до этого вторника на среду заседании коллегии российского авиакосмического агентства и пообещал лично разобраться с положением о порядке принятия в российскую столицу сегодня в пресс-службе росавиакосмоса дано\n"
     ]
    }
   ],
   "source": [
    "print(generate(matrix_news, id2bigram_news, id2word_news, bigram2id_news).replace('<end>', '\\n'))"
   ]
  },
  {
   "cell_type": "code",
   "execution_count": 17,
   "id": "7a7fbf07",
   "metadata": {},
   "outputs": [
    {
     "name": "stdout",
     "output_type": "stream",
     "text": [
      "главной причиной нынешней войны на территории турции \n",
      " степашин отказался от участия в игре поставил за 20 минут до конца текущего года сообщил департамент по вопросам которое начнется в полдень сообщает эхо москвы во владикавказ и помещен в следственный изолятор было предпринято с разведывательной целью \n",
      " две его результативные передачи позволили медведям обыграть тампа-бей 4 0 \n",
      " судебная неприкосновенность пиночета являлась следствием его статуса пожизненного сенатора который диктатор учредил перед своей отставкой \n",
      " некоторые жители грозного покидали город и провести реконструкцию ряда пассажирских станций и долгое время было возбуждено уголовное дело \n",
      " вместе с тем пояснил кушаков что средства на\n"
     ]
    }
   ],
   "source": [
    "print(generate(matrix_news, id2bigram_news, id2word_news, bigram2id_news).replace('<end>', '\\n'))"
   ]
  },
  {
   "cell_type": "code",
   "execution_count": 18,
   "id": "ea08f499",
   "metadata": {},
   "outputs": [
    {
     "name": "stdout",
     "output_type": "stream",
     "text": [
      "российский министр отверг критику министра обороны россии игорь сергеев сказал что они возвращают отношения между государствами \n",
      " если я попаду в сборную на евро-2000 я сыграю там а потом вице-президента сербской респубилки \n",
      " при этом специальной регистрации в zshops неминуемо приводит к сбоям привели 400 тысяч пользователей других провайдеров сообщает bbc \n",
      " министр не уточнил где именно будет заключаться полная изоляция от сети интернет \n",
      " в этом случае позаботимся чтобы европейский союз подтвердил готовность российского руководства и работников компании \n",
      " по данным агентства reuters около 8000 офицеров полиции патрулируют эту часть грозного легче полностью расчистить и построить заново спс предложило\n"
     ]
    }
   ],
   "source": [
    "print(generate(matrix_news, id2bigram_news, id2word_news, bigram2id_news).replace('<end>', '\\n'))"
   ]
  },
  {
   "cell_type": "code",
   "execution_count": 19,
   "id": "4504769b",
   "metadata": {},
   "outputs": [
    {
     "name": "stdout",
     "output_type": "stream",
     "text": [
      "в соответствии с которым контроль над корневым сервером \n",
      " с разговора об этом заявил во вторник на пресс-конференции что у кремля есть деньги указав при этом путин специально подчеркнул что ему было возвращено личное оружие \n",
      " травмирован и один ливанский за что арестован поэтому давать показания в качестве элементов питания использует 12 картофелин \n",
      " по уточненным данным полученным harris interactive около трети той компенсации которая должна быть продолжена так как речь идет о чисто физической неспособности консульского отдела посольства россии и поручили вешнякову вручить ему это сделать то февраль мы проживем без заимствований у некоторых коммерческих телерадиовещателей \n",
      " атака была\n"
     ]
    }
   ],
   "source": [
    "print(generate(matrix_news, id2bigram_news, id2word_news, bigram2id_news).replace('<end>', '\\n'))"
   ]
  },
  {
   "cell_type": "markdown",
   "id": "f1c2cb12",
   "metadata": {},
   "source": [
    "Считаем перплексию:"
   ]
  },
  {
   "cell_type": "code",
   "execution_count": 17,
   "id": "5adcecab",
   "metadata": {},
   "outputs": [],
   "source": [
    "def perplexity(probas):\n",
    "    p = np.exp(np.sum(probas))\n",
    "    N = len(probas)\n",
    "    \n",
    "    return p**(-1/N)"
   ]
  },
  {
   "cell_type": "code",
   "execution_count": 18,
   "id": "418ee0a5",
   "metadata": {},
   "outputs": [],
   "source": [
    "def mean_perpl(test_set):\n",
    "    perpl_mean = {'dvach':[], 'news':[]}\n",
    "    perpl_sum_dvach = []\n",
    "    perpl_sum_news = []\n",
    "    for sent in test_set:\n",
    "        prob = {'dvach':[], 'news':[]}\n",
    "        for ngram in ngrammer(sent,n=3):\n",
    "            word0, word1, word3 = ngram.split()\n",
    "            word2 = word0+' '+word1\n",
    "            if word2 in bigrams_dvach and ngram in trigrams_dvach:\n",
    "                prob['dvach'].append(np.log(trigrams_dvach[ngram]/bigrams_dvach[word2]))\n",
    "            else:\n",
    "                prob['dvach'].append(np.log(0.01))\n",
    "            if word2 in bigrams_news and ngram in trigrams_news:\n",
    "                prob['news'].append(np.log(trigrams_news[ngram]/bigrams_news[word2]))\n",
    "            else:\n",
    "                prob['news'].append(np.log(0.01))\n",
    "        if perplexity(prob['dvach'])!= np.inf: \n",
    "            perpl_sum_dvach.append(perplexity(prob['dvach']))\n",
    "        if perplexity(prob['news'])!= np.inf: \n",
    "            perpl_sum_news.append(perplexity(prob['news']))\n",
    "    perpl_mean['dvach'] = sum(perpl_sum_dvach)/len(perpl_sum_dvach)\n",
    "    perpl_mean['news'] = sum(perpl_sum_news)/len(perpl_sum_news)\n",
    "    return perpl_mean"
   ]
  },
  {
   "cell_type": "code",
   "execution_count": 19,
   "id": "3f8a96d3",
   "metadata": {},
   "outputs": [
    {
     "data": {
      "text/plain": [
       "{'dvach': 114.27912201188887, 'news': 108.57862227953072}"
      ]
     },
     "execution_count": 19,
     "metadata": {},
     "output_type": "execute_result"
    }
   ],
   "source": [
    "mean_perpl(sentences_dvach_test)"
   ]
  },
  {
   "cell_type": "code",
   "execution_count": 20,
   "id": "7890c9b4",
   "metadata": {},
   "outputs": [
    {
     "data": {
      "text/plain": [
       "{'dvach': 104.88869527621735, 'news': 101.12143530695465}"
      ]
     },
     "execution_count": 20,
     "metadata": {},
     "output_type": "execute_result"
    }
   ],
   "source": [
    "mean_perpl(sentences_news_test)"
   ]
  },
  {
   "cell_type": "markdown",
   "id": "8e0a8dd5",
   "metadata": {},
   "source": [
    "## Задание № 2* (2 балла). "
   ]
  },
  {
   "cell_type": "markdown",
   "id": "0b36c44b",
   "metadata": {},
   "source": [
    "Прочитайте главу про языковое моделирование в книге Журафски и Мартина - https://web.stanford.edu/~jurafsky/slp3/3.pdf"
   ]
  },
  {
   "cell_type": "markdown",
   "id": "5d9b1bd8",
   "metadata": {},
   "source": [
    "Развернуто (в пределах 1000 знаков) ответьте на вопросы (по-русски):"
   ]
  },
  {
   "cell_type": "markdown",
   "id": "0c2cf844",
   "metadata": {},
   "source": [
    "1. Что можно делать с проблемой несловарных слов? В семинаре мы просто использовали какое-то маленькое значение вероятности, а какие есть другие способы?"
   ]
  },
  {
   "cell_type": "markdown",
   "id": "d1d1c152",
   "metadata": {},
   "source": [
    "2. Что такое сглаживание (smoothing)?"
   ]
  }
 ],
 "metadata": {
  "kernelspec": {
   "display_name": "Python 3 (ipykernel)",
   "language": "python",
   "name": "python3"
  },
  "language_info": {
   "codemirror_mode": {
    "name": "ipython",
    "version": 3
   },
   "file_extension": ".py",
   "mimetype": "text/x-python",
   "name": "python",
   "nbconvert_exporter": "python",
   "pygments_lexer": "ipython3",
   "version": "3.7.2"
  }
 },
 "nbformat": 4,
 "nbformat_minor": 5
}
